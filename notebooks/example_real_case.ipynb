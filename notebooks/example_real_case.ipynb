{
 "cells": [
  {
   "cell_type": "code",
   "execution_count": 1,
   "metadata": {
    "collapsed": true,
    "run_control": {
     "frozen": false,
     "read_only": false
    }
   },
   "outputs": [],
   "source": [
    "import os\n",
    "import sys\n",
    "import re\n",
    "import pprint\n",
    "import numpy as np"
   ]
  },
  {
   "cell_type": "markdown",
   "metadata": {
    "run_control": {
     "frozen": false,
     "read_only": false
    }
   },
   "source": [
    "Add **ImagingReso** to python path"
   ]
  },
  {
   "cell_type": "code",
   "execution_count": 2,
   "metadata": {
    "collapsed": true,
    "run_control": {
     "frozen": false,
     "read_only": false
    }
   },
   "outputs": [],
   "source": [
    "root_folder = os.path.dirname(os.getcwd())\n",
    "sys.path.append(root_folder)\n",
    "import ImagingReso\n",
    "from ImagingReso.resonance import Resonance"
   ]
  },
  {
   "cell_type": "markdown",
   "metadata": {
    "run_control": {
     "frozen": false,
     "read_only": false
    }
   },
   "source": [
    "# Initialization"
   ]
  },
  {
   "cell_type": "markdown",
   "metadata": {
    "run_control": {
     "frozen": false,
     "read_only": false
    }
   },
   "source": [
    "Let's define our input\n",
    "\n",
    "**layer1**\n",
    "  - foil **Co** of thickness **0.025mm**\n",
    "\n",
    "**layer2**\n",
    "  - foil **Ag** of thickness **0.03mm**\n",
    "  \n",
    "**layer3**\n",
    "  - compound **UO3** of thickness **0.3mm**\n",
    "\n",
    "**global paramters**\n",
    "  - min energy of **0 ev**\n",
    "  - max energy of **300 ev**"
   ]
  },
  {
   "cell_type": "code",
   "execution_count": 3,
   "metadata": {
    "collapsed": true,
    "run_control": {
     "frozen": false,
     "read_only": false
    }
   },
   "outputs": [],
   "source": [
    "_energy_min = 0\n",
    "_energy_max = 300\n",
    "_energy_step = 0.1"
   ]
  },
  {
   "cell_type": "markdown",
   "metadata": {
    "run_control": {
     "frozen": false,
     "read_only": false
    }
   },
   "source": [
    "## Method 1"
   ]
  },
  {
   "cell_type": "code",
   "execution_count": 4,
   "metadata": {
    "collapsed": true,
    "run_control": {
     "frozen": false,
     "read_only": false
    }
   },
   "outputs": [],
   "source": [
    "_stack = {'Co': {'elements': ['Co'],\n",
    "                   'stochiometric_ratio': [1],\n",
    "                   'thickness': {'value': 0.025,\n",
    "                                'units': 'mm'},\n",
    "                   'density': {'value': np.NaN,\n",
    "                              'units': 'g/cm3'},\n",
    "                  },\n",
    "         'Ag': {'elements': ['Ag'],\n",
    "               'stochiometric_ratio': [1],\n",
    "              'thickness': {'value': 0.025,\n",
    "                            'units': 'mm'},\n",
    "                'density': {'value': np.NaN,\n",
    "                            'units': 'g/cm3'},\n",
    "              },\n",
    "          'UO3': {'elements': ['U','O'],\n",
    "                   'stochiometric_ratio': [1,3],\n",
    "                   'thickness': {'value': 0.3,\n",
    "                                'units': 'mm'},\n",
    "                   'density': {'value': 0.7875,\n",
    "                              'units': 'g/cm3'},\n",
    "                  },\n",
    "         }"
   ]
  },
  {
   "cell_type": "code",
   "execution_count": 5,
   "metadata": {
    "collapsed": true,
    "run_control": {
     "frozen": false,
     "read_only": false
    }
   },
   "outputs": [],
   "source": [
    "o_reso = Resonance(stack=_stack, energy_min=_energy_min, energy_max=_energy_max, energy_step=_energy_step)"
   ]
  },
  {
   "cell_type": "markdown",
   "metadata": {
    "run_control": {
     "frozen": false,
     "read_only": false
    }
   },
   "source": [
    "## Method 2"
   ]
  },
  {
   "cell_type": "code",
   "execution_count": 4,
   "metadata": {
    "collapsed": true,
    "run_control": {
     "frozen": false,
     "read_only": false
    }
   },
   "outputs": [],
   "source": [
    "_layer_1 = 'Co'\n",
    "_thickness_1 = 0.025 # mm\n",
    "\n",
    "_layer_2 = 'Ag'\n",
    "_thickness_2 = 0.03 # mm\n",
    "\n",
    "_layer_3 = 'UO3'\n",
    "_thickness_3 = 0.3 # mm\n",
    "_density_3 = 0.7875 # g/cm3"
   ]
  },
  {
   "cell_type": "code",
   "execution_count": 5,
   "metadata": {
    "collapsed": true,
    "run_control": {
     "frozen": false,
     "read_only": false
    }
   },
   "outputs": [],
   "source": [
    "o_reso = Resonance(energy_min=_energy_min, energy_max=_energy_max, energy_step=_energy_step)\n",
    "o_reso.add_layer(formula=_layer_1, thickness=_thickness_1)\n",
    "o_reso.add_layer(formula=_layer_2, thickness=_thickness_2)\n",
    "o_reso.add_layer(formula=_layer_3, thickness=_thickness_3, density=_density_3)\n"
   ]
  },
  {
   "cell_type": "markdown",
   "metadata": {
    "run_control": {
     "frozen": false,
     "read_only": false
    }
   },
   "source": [
    "# retrieve parameters "
   ]
  },
  {
   "cell_type": "markdown",
   "metadata": {
    "run_control": {
     "frozen": false,
     "read_only": false
    }
   },
   "source": [
    "To retrieve the stack defined, and also visualize the isotopes mass, ratio...etc automatically loaded by the program"
   ]
  },
  {
   "cell_type": "code",
   "execution_count": 6,
   "metadata": {
    "run_control": {
     "frozen": false,
     "read_only": false
    },
    "scrolled": false
   },
   "outputs": [
    {
     "name": "stdout",
     "output_type": "stream",
     "text": [
      "{'Ag': {'Ag': {'density': {'units': 'g/cm3', 'value': 10.5},\n",
      "               'isotopes': {'density': {'units': 'g/cm3',\n",
      "                                        'value': [10.406250187729098,\n",
      "                                                  10.600899412431097]},\n",
      "                            'file_names': ['Ag-107.csv', 'Ag-109.csv'],\n",
      "                            'isotopic_ratio': [0.51839, 0.48161000000000004],\n",
      "                            'list': ['107-Ag', '109-Ag'],\n",
      "                            'mass': {'units': 'g/mol',\n",
      "                                     'value': [106.905093, 108.904756]}},\n",
      "               'molar_mass': {'units': 'g/mol', 'value': 107.8682}},\n",
      "        'atoms_per_cm3': {'Ag': 5.8620129934957666e+22},\n",
      "        'density': {'units': 'g/cm3', 'value': 10.5},\n",
      "        'elements': ['Ag'],\n",
      "        'stochiometric_ratio': [1],\n",
      "        'thickness': {'units': 'mm', 'value': 0.03}},\n",
      " 'Co': {'Co': {'density': {'units': 'g/cm3', 'value': 8.9},\n",
      "               'isotopes': {'density': {'units': 'g/cm3',\n",
      "                                        'value': [8.749367803547068,\n",
      "                                                  8.900000030203689]},\n",
      "                            'file_names': ['Co-58.csv', 'Co-59.csv'],\n",
      "                            'isotopic_ratio': [0.0, 1.0],\n",
      "                            'list': ['58-Co', '59-Co'],\n",
      "                            'mass': {'units': 'g/mol',\n",
      "                                     'value': [57.9357576, 58.9332002]}},\n",
      "               'molar_mass': {'units': 'g/mol', 'value': 58.9332}},\n",
      "        'atoms_per_cm3': {'Co': 9.0945432502053166e+22},\n",
      "        'density': {'units': 'g/cm3', 'value': 8.9000000000000004},\n",
      "        'elements': ['Co'],\n",
      "        'stochiometric_ratio': [1],\n",
      "        'thickness': {'units': 'mm', 'value': 0.025}},\n",
      " 'UO3': {'O': {'density': {'units': 'g/cm3', 'value': 1.14},\n",
      "               'isotopes': {'density': {'units': 'g/cm3',\n",
      "                                        'value': [1.1396804048398064,\n",
      "                                                  1.2112335406327737,\n",
      "                                                  1.2824882718101929]},\n",
      "                            'file_names': ['O-16.csv', 'O-17.csv', 'O-18.csv'],\n",
      "                            'isotopic_ratio': [0.9975700000000001,\n",
      "                                               0.00037999999999999997,\n",
      "                                               0.0020499999999999997],\n",
      "                            'list': ['16-O', '17-O', '18-O'],\n",
      "                            'mass': {'units': 'g/mol',\n",
      "                                     'value': [15.9949146221,\n",
      "                                               16.9991315,\n",
      "                                               17.9991604]}},\n",
      "               'molar_mass': {'units': 'g/mol', 'value': 15.9994}},\n",
      "         'U': {'density': {'units': 'g/cm3', 'value': 18.95},\n",
      "               'isotopes': {'density': {'units': 'g/cm3',\n",
      "                                        'value': [18.552792392319066,\n",
      "                                                  18.632509467526443,\n",
      "                                                  18.712358690988417,\n",
      "                                                  18.951741325328925]},\n",
      "                            'file_names': ['U-233.csv',\n",
      "                                           'U-234.csv',\n",
      "                                           'U-235.csv',\n",
      "                                           'U-238.csv'],\n",
      "                            'isotopic_ratio': [0.0,\n",
      "                                               5.4999999999999995e-05,\n",
      "                                               0.0072,\n",
      "                                               0.992745],\n",
      "                            'list': ['233-U', '234-U', '235-U', '238-U'],\n",
      "                            'mass': {'units': 'g/mol',\n",
      "                                     'value': [233.039628,\n",
      "                                               234.0409456,\n",
      "                                               235.0439231,\n",
      "                                               238.0507826]}},\n",
      "               'molar_mass': {'units': 'g/mol', 'value': 238.02891}},\n",
      "         'atoms_per_cm3': {'O': 4.974111640907919e+21,\n",
      "                           'U': 1.6580372136359732e+21},\n",
      "         'density': {'units': 'g/cm3', 'value': 0.7875},\n",
      "         'elements': ['U', 'O'],\n",
      "         'stochiometric_ratio': [1, 3],\n",
      "         'thickness': {'units': 'mm', 'value': 0.3}}}\n"
     ]
    }
   ],
   "source": [
    "pprint.pprint(o_reso.stack)"
   ]
  },
  {
   "cell_type": "markdown",
   "metadata": {
    "run_control": {
     "frozen": false,
     "read_only": false
    }
   },
   "source": [
    "Energy range"
   ]
  },
  {
   "cell_type": "code",
   "execution_count": 7,
   "metadata": {
    "run_control": {
     "frozen": false,
     "read_only": false
    }
   },
   "outputs": [
    {
     "name": "stdout",
     "output_type": "stream",
     "text": [
      "Energy min 0 eV\n",
      "Energy max 300 eV\n",
      "Energy step 0.1 eV\n"
     ]
    }
   ],
   "source": [
    "print(\"Energy min {} eV\".format(o_reso.energy_min))\n",
    "print(\"Energy max {} eV\".format(o_reso.energy_max))\n",
    "print(\"Energy step {} eV\".format(o_reso.energy_step))"
   ]
  },
  {
   "cell_type": "markdown",
   "metadata": {
    "run_control": {
     "frozen": false,
     "read_only": false
    }
   },
   "source": [
    "You can also retrieve the arrays of sigma (cross section) vs Energy (eV) for each of the isotopes and elements"
   ]
  },
  {
   "cell_type": "code",
   "execution_count": 15,
   "metadata": {
    "run_control": {
     "frozen": false,
     "read_only": false
    },
    "scrolled": true
   },
   "outputs": [
    {
     "name": "stdout",
     "output_type": "stream",
     "text": [
      "{'AgCo': {'Ag': {'107-Ag': {'energy_eV': array([  1.00000000e-05,   9.99983261e-02,   1.99986652e-01, ...,\n",
      "         2.99665023e+02,   2.99765012e+02,   2.99865000e+02]),\n",
      "                            'sigma_b': array([ 1938.91      ,    26.04407696,    20.35416992, ...,     4.13056846,\n",
      "           4.12171423,     4.11286   ])},\n",
      "                 '109-Ag': {'energy_eV': array([  1.00000000e-05,   1.00041674e-01,   2.00073348e-01, ...,\n",
      "         2.99794937e+02,   2.99894968e+02,   2.99995000e+02]),\n",
      "                            'sigma_b': array([  4.51167000e+03,   4.91755427e+01,   3.67325984e+01, ...,\n",
      "         4.39295314e+00,   4.78259197e+00,   5.41247000e+00])},\n",
      "                 'energy_eV': array([  1.00000000e-05,   1.00020000e-01,   2.00030000e-01, ...,\n",
      "         2.99729980e+02,   2.99829990e+02,   2.99930000e+02]),\n",
      "                 'sigma_b': array([ 3177.9769436 ,    37.18442215,    28.24218485, ...,     4.25693555,\n",
      "           4.43999956,     4.73876517])},\n",
      "          'Co': {'58-Co': {'energy_eV': array([  1.00000000e-05,   9.99236345e-02,   1.99837269e-01, ...,\n",
      "         2.99441173e+02,   2.99541086e+02,   2.99641000e+02]),\n",
      "                           'sigma_b': array([  9.34884000e+04,   1.03107366e+03,   7.68749412e+02, ...,\n",
      "         1.31581289e+01,   1.31617645e+01,   1.31654000e+01])},\n",
      "                 '59-Co': {'energy_eV': array([  1.00000000e-05,   9.98102634e-02,   1.99610527e-01, ...,\n",
      "         2.99101399e+02,   2.99201200e+02,   2.99301000e+02]),\n",
      "                           'sigma_b': array([ 1913.87      ,    24.73707214,    19.255596  , ...,    10.88572788,\n",
      "          10.87881394,    10.8719    ])},\n",
      "                 'energy_eV': array([  1.00000000e-05,   9.98669490e-02,   1.99723898e-01, ...,\n",
      "         2.99271286e+02,   2.99371143e+02,   2.99471000e+02]),\n",
      "                 'sigma_b': array([ 1913.87      ,    24.73707214,    19.255596  , ...,    10.88572788,\n",
      "          10.87881394,    10.8719    ])}},\n",
      " 'UO3': {'O': {'16-O': {'energy_eV': array([  1.00000000e-05,   9.92157319e-02,   1.98421464e-01, ...,\n",
      "         2.97319589e+02,   2.97418794e+02,   2.97518000e+02]),\n",
      "                        'sigma_b': array([ 54.1555    ,   3.82728725,   3.81298364, ...,   3.79471042,\n",
      "         3.79471021,   3.79471   ])},\n",
      "               '17-O': {'energy_eV': array([  1.00000000e-05,   9.92157319e-02,   1.98421464e-01, ...,\n",
      "         2.97319589e+02,   2.97418794e+02,   2.97518000e+02]),\n",
      "                        'sigma_b': array([ 63.7959    ,   3.89232211,   3.84310072, ...,   3.74281081,\n",
      "         3.74281041,   3.74281   ])},\n",
      "               '18-O': {'energy_eV': array([  1.00000000e-05,   9.58035945e-02,   1.91597189e-01, ...,\n",
      "         2.87093413e+02,   2.87189206e+02,   2.87285000e+02]),\n",
      "                        'sigma_b': array([ 41.9026    ,   3.13931396,   3.12727011, ...,   3.11294023,\n",
      "         3.11294011,   3.11294   ])},\n",
      "               'energy_eV': array([  1.00000000e-05,   9.80783528e-02,   1.96146706e-01, ...,\n",
      "         2.93910863e+02,   2.94008932e+02,   2.94107000e+02]),\n",
      "               'sigma_b': array([ 54.13404491,   3.82590162,   3.81158937, ...,   3.79329307,\n",
      "         3.79329286,   3.79329265])},\n",
      "         'U': {'233-U': {'energy_eV': array([  1.00000000e-05,   1.00035005e-01,   2.00060010e-01, ...,\n",
      "         2.99774950e+02,   2.99874975e+02,   2.99975000e+02]),\n",
      "                         'sigma_b': array([ 29129.1       ,    299.31348614,    230.70757589, ...,\n",
      "           47.99922678,     45.57130118,     42.922     ])},\n",
      "               '234-U': {'energy_eV': array([  1.00000000e-05,   1.00010997e-01,   2.00011994e-01, ...,\n",
      "         2.99702998e+02,   2.99802999e+02,   2.99903000e+02]),\n",
      "                         'sigma_b': array([ 5255.34      ,    64.55821004,    47.45746053, ...,    10.10149492,\n",
      "          10.07569047,    10.0499    ])},\n",
      "               '235-U': {'energy_eV': array([  1.00000000e-05,   1.00040340e-01,   2.00070680e-01, ...,\n",
      "         2.99790939e+02,   2.99890970e+02,   2.99991000e+02]),\n",
      "                         'sigma_b': array([  3.66976000e+04,   3.17060557e+02,   2.35529032e+02, ...,\n",
      "         1.66525457e+01,   1.68652375e+01,   1.73266000e+01])},\n",
      "               '238-U': {'energy_eV': array([  1.00000000e-05,   1.00040340e-01,   2.00070680e-01, ...,\n",
      "         2.99790939e+02,   2.99890970e+02,   2.99991000e+02]),\n",
      "                         'sigma_b': array([ 169.694     ,   10.58529294,   10.17716472, ...,   13.0126097 ,\n",
      "         13.00230485,   12.992     ])},\n",
      "               'energy_eV': array([  1.00000000e-05,   1.00031671e-01,   2.00053341e-01, ...,\n",
      "         2.99764957e+02,   2.99864978e+02,   2.99965000e+02]),\n",
      "               'sigma_b': array([ 432.97463373,   12.79488335,   11.80174858, ...,   13.03865713,\n",
      "         13.029957  ,   13.0230473 ])}}}\n"
     ]
    }
   ],
   "source": [
    "pprint.pprint(o_reso.stack_sigma)"
   ]
  },
  {
   "cell_type": "markdown",
   "metadata": {
    "run_control": {
     "frozen": false,
     "read_only": false
    }
   },
   "source": [
    "## Modify Isotopic Ratio "
   ]
  },
  {
   "cell_type": "markdown",
   "metadata": {
    "run_control": {
     "frozen": false,
     "read_only": false
    }
   },
   "source": [
    "Let's presume that the **U** in our **UO3** layer does not have the default isotopic_ratio reported\n",
    "```\n",
    " U-233 -> 0\n",
    " U-234 -> 5.5e-5\n",
    " U-235 -> 0.007\n",
    " U-238 -> 0.99\n",
    "```\n",
    "\n",
    "but instead\n",
    "\n",
    "```\n",
    " U-233 -> 0\n",
    " U-234 -> 0\n",
    " U-235 -> 0.5\n",
    " U-238 -> 0.5\n",
    "```\n"
   ]
  },
  {
   "cell_type": "markdown",
   "metadata": {
    "run_control": {
     "frozen": false,
     "read_only": false
    }
   },
   "source": [
    "### Display current list of isotopic ratio "
   ]
  },
  {
   "cell_type": "markdown",
   "metadata": {
    "run_control": {
     "frozen": false,
     "read_only": false
    }
   },
   "source": [
    "To display all the stochiometric ratio"
   ]
  },
  {
   "cell_type": "code",
   "execution_count": 8,
   "metadata": {
    "run_control": {
     "frozen": false,
     "read_only": false
    }
   },
   "outputs": [
    {
     "name": "stdout",
     "output_type": "stream",
     "text": [
      "{'Ag': {'Ag': {'107-Ag': 0.51839, '109-Ag': 0.48161000000000004}},\n",
      " 'Co': {'Co': {'58-Co': 0.0, '59-Co': 1.0}},\n",
      " 'UO3': {'O': {'16-O': 0.9975700000000001,\n",
      "               '17-O': 0.00037999999999999997,\n",
      "               '18-O': 0.0020499999999999997},\n",
      "         'U': {'233-U': 0.0,\n",
      "               '234-U': 5.4999999999999995e-05,\n",
      "               '235-U': 0.0072,\n",
      "               '238-U': 0.992745}}}\n"
     ]
    }
   ],
   "source": [
    "pprint.pprint(o_reso.get_stochiometric_ratio())"
   ]
  },
  {
   "cell_type": "markdown",
   "metadata": {
    "run_control": {
     "frozen": false,
     "read_only": false
    }
   },
   "source": [
    "From there, it's possible to narrow down the search to the compound and element we are looking for"
   ]
  },
  {
   "cell_type": "code",
   "execution_count": 9,
   "metadata": {
    "run_control": {
     "frozen": false,
     "read_only": false
    }
   },
   "outputs": [
    {
     "name": "stdout",
     "output_type": "stream",
     "text": [
      "{'233-U': 0.0,\n",
      " '234-U': 5.4999999999999995e-05,\n",
      " '235-U': 0.0072,\n",
      " '238-U': 0.992745}\n"
     ]
    }
   ],
   "source": [
    "pprint.pprint(o_reso.get_stochiometric_ratio(compound='UO3', element='U'))  "
   ]
  },
  {
   "cell_type": "code",
   "execution_count": 10,
   "metadata": {},
   "outputs": [
    {
     "name": "stdout",
     "output_type": "stream",
     "text": [
      "{'107-Ag': 0.51839, '109-Ag': 0.48161000000000004}\n"
     ]
    }
   ],
   "source": [
    "pprint.pprint(o_reso.get_stochiometric_ratio(compound='Ag', element='Ag'))"
   ]
  },
  {
   "cell_type": "markdown",
   "metadata": {
    "run_control": {
     "frozen": false,
     "read_only": false
    }
   },
   "source": [
    "if compound is composef of only 1 element, **element** parameter can be omitted"
   ]
  },
  {
   "cell_type": "code",
   "execution_count": 16,
   "metadata": {
    "run_control": {
     "frozen": false,
     "read_only": false
    }
   },
   "outputs": [
    {
     "name": "stdout",
     "output_type": "stream",
     "text": [
      "{'107-Ag': 0.51839, '109-Ag': 0.48161000000000004}\n"
     ]
    }
   ],
   "source": [
    "pprint.pprint(o_reso.get_stochiometric_ratio(compound='Ag'))"
   ]
  },
  {
   "cell_type": "markdown",
   "metadata": {
    "run_control": {
     "frozen": false,
     "read_only": false
    }
   },
   "source": [
    "### Define a new set of isotopic ratio"
   ]
  },
  {
   "cell_type": "code",
   "execution_count": 36,
   "metadata": {
    "collapsed": true,
    "run_control": {
     "frozen": false,
     "read_only": false
    }
   },
   "outputs": [],
   "source": [
    "new_list_ratio_1 = [0., 0., 0.5, 0.5]\n",
    "o_reso.set_stochiometric_ratio(compound='UO3', element='U', list_ratio=new_list_ratio_1)\n",
    "new_list_ratio_2 = [0.1, 0.9,]\n",
    "o_reso.set_stochiometric_ratio(compound='Ag', element='Ag', list_ratio=new_list_ratio_2)"
   ]
  },
  {
   "cell_type": "code",
   "execution_count": 37,
   "metadata": {},
   "outputs": [
    {
     "name": "stdout",
     "output_type": "stream",
     "text": [
      "{'233-U': 0.0, '234-U': 0.0, '235-U': 0.5, '238-U': 0.5}\n"
     ]
    }
   ],
   "source": [
    "pprint.pprint(o_reso.get_stochiometric_ratio(compound='UO3', element='U'))  "
   ]
  },
  {
   "cell_type": "code",
   "execution_count": 38,
   "metadata": {},
   "outputs": [
    {
     "name": "stdout",
     "output_type": "stream",
     "text": [
      "{'107-Ag': 0.1, '109-Ag': 0.9}\n"
     ]
    }
   ],
   "source": [
    "pprint.pprint(o_reso.get_stochiometric_ratio(compound='Ag'))  "
   ]
  },
  {
   "cell_type": "code",
   "execution_count": 39,
   "metadata": {},
   "outputs": [
    {
     "name": "stdout",
     "output_type": "stream",
     "text": [
      "{'Ag': {'Ag': {'107-Ag': 0.1, '109-Ag': 0.9}},\n",
      " 'Co': {'Co': {'58-Co': 0.0, '59-Co': 1.0}},\n",
      " 'UO3': {'O': {'16-O': 0.9975700000000001,\n",
      "               '17-O': 0.00037999999999999997,\n",
      "               '18-O': 0.0020499999999999997},\n",
      "         'U': {'233-U': 0.0, '234-U': 0.0, '235-U': 0.5, '238-U': 0.5}}}\n"
     ]
    }
   ],
   "source": [
    "pprint.pprint(o_reso.get_stochiometric_ratio())"
   ]
  },
  {
   "cell_type": "markdown",
   "metadata": {
    "run_control": {
     "frozen": false,
     "read_only": false
    }
   },
   "source": [
    "Using **set_stochiometric_ratio**, the element *density* and *molar_mass* is automatically updated"
   ]
  },
  {
   "cell_type": "markdown",
   "metadata": {},
   "source": [
    "But it won't touch the compound density for the layer."
   ]
  },
  {
   "cell_type": "code",
   "execution_count": 40,
   "metadata": {},
   "outputs": [
    {
     "name": "stdout",
     "output_type": "stream",
     "text": [
      "{'Ag': {'Ag': {'density': {'units': 'g/cm3', 'value': 10.581434489960898},\n",
      "               'isotopes': {'density': {'units': 'g/cm3',\n",
      "                                        'value': [10.406250187729098,\n",
      "                                                  10.600899412431097]},\n",
      "                            'file_names': ['Ag-107.csv', 'Ag-109.csv'],\n",
      "                            'isotopic_ratio': [0.1, 0.9],\n",
      "                            'list': ['107-Ag', '109-Ag'],\n",
      "                            'mass': {'units': 'g/mol',\n",
      "                                     'value': [106.905093, 108.904756]}},\n",
      "               'molar_mass': {'units': 'g/mol', 'value': 108.7047897}},\n",
      "        'atoms_per_cm3': {'Ag': 5.8168990688457211e+22},\n",
      "        'density': {'units': 'g/cm3', 'value': 10.5},\n",
      "        'elements': ['Ag'],\n",
      "        'stochiometric_ratio': [1],\n",
      "        'thickness': {'units': 'mm', 'value': 0.03}},\n",
      " 'Co': {'Co': {'density': {'units': 'g/cm3', 'value': 8},\n",
      "               'isotopes': {'density': {'units': 'g/cm3',\n",
      "                                        'value': [8.749367803547068,\n",
      "                                                  8.900000030203689]},\n",
      "                            'file_names': ['Co-58.csv', 'Co-59.csv'],\n",
      "                            'isotopic_ratio': [0.0, 1.0],\n",
      "                            'list': ['58-Co', '59-Co'],\n",
      "                            'mass': {'units': 'g/mol',\n",
      "                                     'value': [57.9357576, 58.9332002]}},\n",
      "               'molar_mass': {'units': 'g/mol', 'value': 58.9332}},\n",
      "        'atoms_per_cm3': {'Co': 9.0945432502053166e+22},\n",
      "        'density': {'units': 'g/cm3', 'value': 8.9000000000000004},\n",
      "        'elements': ['Co'],\n",
      "        'stochiometric_ratio': [1],\n",
      "        'thickness': {'units': 'mm', 'value': 0.025}},\n",
      " 'UO3': {'O': {'density': {'units': 'g/cm3', 'value': 1.14},\n",
      "               'isotopes': {'density': {'units': 'g/cm3',\n",
      "                                        'value': [1.1396804048398064,\n",
      "                                                  1.2112335406327737,\n",
      "                                                  1.2824882718101929]},\n",
      "                            'file_names': ['O-16.csv', 'O-17.csv', 'O-18.csv'],\n",
      "                            'isotopic_ratio': [0.9975700000000001,\n",
      "                                               0.00037999999999999997,\n",
      "                                               0.0020499999999999997],\n",
      "                            'list': ['16-O', '17-O', '18-O'],\n",
      "                            'mass': {'units': 'g/mol',\n",
      "                                     'value': [15.9949146221,\n",
      "                                               16.9991315,\n",
      "                                               17.9991604]}},\n",
      "               'molar_mass': {'units': 'g/mol', 'value': 15.9994}},\n",
      "         'U': {'density': {'units': 'g/cm3', 'value': 18.83205000815867},\n",
      "               'isotopes': {'density': {'units': 'g/cm3',\n",
      "                                        'value': [18.552792392319066,\n",
      "                                                  18.632509467526443,\n",
      "                                                  18.712358690988417,\n",
      "                                                  18.951741325328925]},\n",
      "                            'file_names': ['U-233.csv',\n",
      "                                           'U-234.csv',\n",
      "                                           'U-235.csv',\n",
      "                                           'U-238.csv'],\n",
      "                            'isotopic_ratio': [0.0, 0.0, 0.5, 0.5],\n",
      "                            'list': ['233-U', '234-U', '235-U', '238-U'],\n",
      "                            'mass': {'units': 'g/mol',\n",
      "                                     'value': [233.039628,\n",
      "                                               234.0409456,\n",
      "                                               235.0439231,\n",
      "                                               238.0507826]}},\n",
      "               'molar_mass': {'units': 'g/mol', 'value': 236.54735284999998}},\n",
      "         'atoms_per_cm3': {'O': 5.000010589574218e+21,\n",
      "                           'U': 1.6666701965247392e+21},\n",
      "         'density': {'units': 'g/cm3', 'value': 0.7875},\n",
      "         'elements': ['U', 'O'],\n",
      "         'stochiometric_ratio': [1, 3],\n",
      "         'thickness': {'units': 'mm', 'value': 0.3}}}\n"
     ]
    }
   ],
   "source": [
    "pprint.pprint(o_reso.stack)"
   ]
  },
  {
   "cell_type": "code",
   "execution_count": 15,
   "metadata": {},
   "outputs": [
    {
     "name": "stdout",
     "output_type": "stream",
     "text": [
      "{'Ag': {'density': {'units': 'g/cm3', 'value': 10.445180032669498},\n",
      "        'isotopes': {'density': {'units': 'g/cm3',\n",
      "                                 'value': [10.406250187729098,\n",
      "                                           10.600899412431097]},\n",
      "                     'file_names': ['Ag-107.csv', 'Ag-109.csv'],\n",
      "                     'isotopic_ratio': [0.8, 0.2],\n",
      "                     'list': ['107-Ag', '109-Ag'],\n",
      "                     'mass': {'units': 'g/mol',\n",
      "                              'value': [106.905093, 108.904756]}},\n",
      "        'molar_mass': {'units': 'g/mol', 'value': 107.30502560000001}},\n",
      " 'atoms_per_cm3': {'Ag': 5.8927788931537229e+22},\n",
      " 'density': {'units': 'g/cm3', 'value': 10.5},\n",
      " 'elements': ['Ag'],\n",
      " 'stochiometric_ratio': [1],\n",
      " 'thickness': {'units': 'mm', 'value': 0.03}}\n"
     ]
    }
   ],
   "source": [
    "pprint.pprint(o_reso.stack['Ag'])"
   ]
  },
  {
   "cell_type": "code",
   "execution_count": 38,
   "metadata": {
    "run_control": {
     "frozen": false,
     "read_only": false
    }
   },
   "outputs": [
    {
     "name": "stdout",
     "output_type": "stream",
     "text": [
      "{'O': {'density': {'units': 'g/cm3', 'value': 1.14},\n",
      "       'isotopes': {'density': {'units': 'g/cm3',\n",
      "                                'value': [1.1396804048398064,\n",
      "                                          1.2112335406327737,\n",
      "                                          1.2824882718101929]},\n",
      "                    'file_names': ['O-16.csv', 'O-17.csv', 'O-18.csv'],\n",
      "                    'isotopic_ratio': [0.9975700000000001,\n",
      "                                       0.00037999999999999997,\n",
      "                                       0.0020499999999999997],\n",
      "                    'list': ['16-O', '17-O', '18-O'],\n",
      "                    'mass': {'units': 'g/mol',\n",
      "                             'value': [15.9949146221, 16.9991315, 17.9991604]}},\n",
      "       'molar_mass': {'units': 'g/mol', 'value': 15.9994}},\n",
      " 'U': {'density': {'units': 'g/cm3', 'value': 18.915833930177847},\n",
      "       'isotopes': {'density': {'units': 'g/cm3',\n",
      "                                'value': [18.552792392319066,\n",
      "                                          18.632509467526443,\n",
      "                                          18.712358690988417,\n",
      "                                          18.951741325328925]},\n",
      "                    'file_names': ['U-233.csv',\n",
      "                                   'U-234.csv',\n",
      "                                   'U-235.csv',\n",
      "                                   'U-238.csv'],\n",
      "                    'isotopic_ratio': [0.0, 0.0, 0.15, 0.85],\n",
      "                    'list': ['233-U', '234-U', '235-U', '238-U'],\n",
      "                    'mass': {'units': 'g/mol',\n",
      "                             'value': [233.039628,\n",
      "                                       234.0409456,\n",
      "                                       235.0439231,\n",
      "                                       238.0507826]}},\n",
      "       'molar_mass': {'units': 'g/mol', 'value': 237.599753675}},\n",
      " 'atoms_per_cm3': {'O': 4.981586034349761e+21, 'U': 1.6605286781165872e+21},\n",
      " 'density': {'units': 'g/cm3', 'value': 0.7875},\n",
      " 'elements': ['U', 'O'],\n",
      " 'stochiometric_ratio': [1, 3],\n",
      " 'thickness': {'units': 'mm', 'value': 0.3}}\n"
     ]
    }
   ],
   "source": [
    "pprint.pprint(o_reso.stack['UO3'])"
   ]
  },
  {
   "cell_type": "markdown",
   "metadata": {
    "run_control": {
     "frozen": false,
     "read_only": false
    }
   },
   "source": [
    "### Define a new density "
   ]
  },
  {
   "cell_type": "markdown",
   "metadata": {
    "run_control": {
     "frozen": false,
     "read_only": false
    }
   },
   "source": [
    "First, let's check the densities already defined"
   ]
  },
  {
   "cell_type": "code",
   "execution_count": 16,
   "metadata": {
    "run_control": {
     "frozen": false,
     "read_only": false
    }
   },
   "outputs": [
    {
     "name": "stdout",
     "output_type": "stream",
     "text": [
      "{'Ag': {'Ag': 10.445180032669498},\n",
      " 'Co': {'Co': 8.9},\n",
      " 'UO3': {'O': 1.14, 'U': 18.83205000815867}}\n"
     ]
    }
   ],
   "source": [
    "pprint.pprint(o_reso.get_density())"
   ]
  },
  {
   "cell_type": "markdown",
   "metadata": {
    "run_control": {
     "frozen": false,
     "read_only": false
    }
   },
   "source": [
    "If we want to change the **Co** density to **8** due to some porosity"
   ]
  },
  {
   "cell_type": "code",
   "execution_count": 17,
   "metadata": {
    "collapsed": true,
    "run_control": {
     "frozen": false,
     "read_only": false
    }
   },
   "outputs": [],
   "source": [
    "o_reso.set_density(compound='Co', element='Co', density=8)"
   ]
  },
  {
   "cell_type": "code",
   "execution_count": 18,
   "metadata": {
    "run_control": {
     "frozen": false,
     "read_only": false
    }
   },
   "outputs": [
    {
     "name": "stdout",
     "output_type": "stream",
     "text": [
      "{'Ag': {'Ag': 10.445180032669498},\n",
      " 'Co': {'Co': 8},\n",
      " 'UO3': {'O': 1.14, 'U': 18.83205000815867}}\n"
     ]
    }
   ],
   "source": [
    "pprint.pprint(o_reso.get_density())"
   ]
  },
  {
   "cell_type": "markdown",
   "metadata": {
    "collapsed": true,
    "run_control": {
     "frozen": false,
     "read_only": false
    }
   },
   "source": [
    "## Preview the Transmission and Attenuation signals "
   ]
  },
  {
   "cell_type": "markdown",
   "metadata": {
    "run_control": {
     "frozen": false,
     "read_only": false
    }
   },
   "source": [
    "Those arrays for each Compound, element and isotopes are calculated during initialization of the object, but also \n",
    "every time one of the parameters is modified, such as density, stochiometric coefficient.\n",
    "\n",
    "Those arrays are store in the **stack_signal** dictionary"
   ]
  },
  {
   "cell_type": "code",
   "execution_count": 20,
   "metadata": {
    "run_control": {
     "frozen": false,
     "read_only": false
    }
   },
   "outputs": [
    {
     "name": "stdout",
     "output_type": "stream",
     "text": [
      "{'Ag': {'Ag': {'107-Ag': {'attenuation': array([ 0.29019645,  0.00459358,  0.00359181, ...,  0.00072995,\n",
      "        0.00072839,  0.00072682]),\n",
      "                          'energy_eV': array([  1.00000000e-05,   9.99983261e-02,   1.99986652e-01, ...,\n",
      "         2.99665023e+02,   2.99765012e+02,   2.99865000e+02]),\n",
      "                          'transmission': array([ 0.70980355,  0.99540642,  0.99640819, ...,  0.99927005,\n",
      "        0.99927161,  0.99927318])},\n",
      "               '109-Ag': {'attenuation': array([ 0.54958604,  0.00865574,  0.00647267, ...,  0.0007763 ,\n",
      "        0.00084513,  0.00095638]),\n",
      "                          'energy_eV': array([  1.00000000e-05,   1.00041674e-01,   2.00073348e-01, ...,\n",
      "         2.99794937e+02,   2.99894968e+02,   2.99995000e+02]),\n",
      "                          'transmission': array([ 0.45041396,  0.99134426,  0.99352733, ...,  0.9992237 ,\n",
      "        0.99915487,  0.99904362])},\n",
      "               'attenuation': array([ 0.35191361,  0.00540734,  0.00416865, ...,  0.00073922,\n",
      "        0.00075173,  0.00077274]),\n",
      "               'energy_eV': array([  1.00000000e-05,   1.00020000e-01,   2.00030000e-01, ...,\n",
      "         2.99729980e+02,   2.99829990e+02,   2.99930000e+02]),\n",
      "               'transmission': array([ 0.64808639,  0.99459266,  0.99583135, ...,  0.99926078,\n",
      "        0.99924827,  0.99922726])},\n",
      "        'attenuation': array([ 0.35191361,  0.00540734,  0.00416865, ...,  0.00073922,\n",
      "        0.00075173,  0.00077274]),\n",
      "        'energy_eV': array([  1.00000000e-05,   1.00020000e-01,   2.00030000e-01, ...,\n",
      "         2.99729980e+02,   2.99829990e+02,   2.99930000e+02]),\n",
      "        'transmission': array([ 0.64808639,  0.99459266,  0.99583135, ...,  0.99926078,\n",
      "        0.99924827,  0.99922726])},\n",
      " 'Co': {'Co': {'58-Co': {'attenuation': array([ 1.        ,  0.20897729,  0.160363  , ...,  0.00298721,\n",
      "        0.00298803,  0.00298886]),\n",
      "                         'energy_eV': array([  1.00000000e-05,   9.99236345e-02,   1.99837269e-01, ...,\n",
      "         2.99441173e+02,   2.99541086e+02,   2.99641000e+02]),\n",
      "                         'transmission': array([  5.87081520e-10,   7.91022711e-01,   8.39637003e-01, ...,\n",
      "         9.97012791e-01,   9.97011967e-01,   9.97011143e-01])},\n",
      "               '59-Co': {'attenuation': array([ 0.35282875,  0.00560852,  0.00436845, ...,  0.00247196,\n",
      "        0.00247039,  0.00246882]),\n",
      "                         'energy_eV': array([  1.00000000e-05,   9.98102634e-02,   1.99610527e-01, ...,\n",
      "         2.99101399e+02,   2.99201200e+02,   2.99301000e+02]),\n",
      "                         'transmission': array([ 0.64717125,  0.99439148,  0.99563155, ...,  0.99752804,\n",
      "        0.99752961,  0.99753118])},\n",
      "               'attenuation': array([ 0.35282875,  0.00560852,  0.00436845, ...,  0.00247196,\n",
      "        0.00247039,  0.00246882]),\n",
      "               'energy_eV': array([  1.00000000e-05,   9.98669490e-02,   1.99723898e-01, ...,\n",
      "         2.99271286e+02,   2.99371143e+02,   2.99471000e+02]),\n",
      "               'transmission': array([ 0.64717125,  0.99439148,  0.99563155, ...,  0.99752804,\n",
      "        0.99752961,  0.99753118])},\n",
      "        'attenuation': array([ 0.35282875,  0.00560852,  0.00436845, ...,  0.00247196,\n",
      "        0.00247039,  0.00246882]),\n",
      "        'energy_eV': array([  1.00000000e-05,   9.98669490e-02,   1.99723898e-01, ...,\n",
      "         2.99271286e+02,   2.99371143e+02,   2.99471000e+02]),\n",
      "        'transmission': array([ 0.64717125,  0.99439148,  0.99563155, ...,  0.99752804,\n",
      "        0.99752961,  0.99753118])},\n",
      " 'UO3': {'O': {'16-O': {'attenuation': array([ 0.00809044,  0.00057393,  0.00057179, ...,  0.00056905,\n",
      "        0.00056905,  0.00056905]),\n",
      "                        'energy_eV': array([  1.00000000e-05,   9.92157319e-02,   1.98421464e-01, ...,\n",
      "         2.97319589e+02,   2.97418794e+02,   2.97518000e+02]),\n",
      "                        'transmission': array([ 0.99190956,  0.99942607,  0.99942821, ...,  0.99943095,\n",
      "        0.99943095,  0.99943095])},\n",
      "               '17-O': {'attenuation': array([ 0.00952376,  0.00058368,  0.0005763 , ...,  0.00056127,\n",
      "        0.00056127,  0.00056127]),\n",
      "                        'energy_eV': array([  1.00000000e-05,   9.92157319e-02,   1.98421464e-01, ...,\n",
      "         2.97319589e+02,   2.97418794e+02,   2.97518000e+02]),\n",
      "                        'transmission': array([ 0.99047624,  0.99941632,  0.9994237 , ...,  0.99943873,\n",
      "        0.99943873,  0.99943873])},\n",
      "               '18-O': {'attenuation': array([ 0.00626569,  0.00047079,  0.00046898, ...,  0.00046683,\n",
      "        0.00046683,  0.00046683]),\n",
      "                        'energy_eV': array([  1.00000000e-05,   9.58035945e-02,   1.91597189e-01, ...,\n",
      "         2.87093413e+02,   2.87189206e+02,   2.87285000e+02]),\n",
      "                        'transmission': array([ 0.99373431,  0.99952921,  0.99953102, ...,  0.99953317,\n",
      "        0.99953317,  0.99953317])},\n",
      "               'attenuation': array([ 0.00808724,  0.00057372,  0.00057158, ...,  0.00056883,\n",
      "        0.00056883,  0.00056883]),\n",
      "               'energy_eV': array([  1.00000000e-05,   9.80783528e-02,   1.96146706e-01, ...,\n",
      "         2.93910863e+02,   2.94008932e+02,   2.94107000e+02]),\n",
      "               'transmission': array([ 0.99191276,  0.99942628,  0.99942842, ...,  0.99943117,\n",
      "        0.99943117,  0.99943117])},\n",
      "         'U': {'233-U': {'attenuation': array([ 0.76693971,  0.01485428,  0.01146913, ...,  0.00239709,\n",
      "        0.00227598,  0.0021438 ]),\n",
      "                         'energy_eV': array([  1.00000000e-05,   1.00035005e-01,   2.00060010e-01, ...,\n",
      "         2.99774950e+02,   2.99874975e+02,   2.99975000e+02]),\n",
      "                         'transmission': array([ 0.23306029,  0.98514572,  0.98853087, ...,  0.99760291,\n",
      "        0.99772402,  0.9978562 ])},\n",
      "               '234-U': {'attenuation': array([ 0.23107939,  0.00322271,  0.00237007, ...,  0.00050495,\n",
      "        0.00050366,  0.00050237]),\n",
      "                         'energy_eV': array([  1.00000000e-05,   1.00010997e-01,   2.00011994e-01, ...,\n",
      "         2.99702998e+02,   2.99802999e+02,   2.99903000e+02]),\n",
      "                         'transmission': array([ 0.76892061,  0.99677729,  0.99762993, ...,  0.99949505,\n",
      "        0.99949634,  0.99949763])},\n",
      "               '235-U': {'attenuation': array([  8.40367964e-01,   1.57280630e-02,   1.17074053e-02, ...,\n",
      "         8.32282508e-04,   8.42908215e-04,   8.65956678e-04]),\n",
      "                         'energy_eV': array([  1.00000000e-05,   1.00040340e-01,   2.00070680e-01, ...,\n",
      "         2.99790939e+02,   2.99890970e+02,   2.99991000e+02]),\n",
      "                         'transmission': array([ 0.15963204,  0.98427194,  0.98829259, ...,  0.99916772,\n",
      "        0.99915709,  0.99913404])},\n",
      "               '238-U': {'attenuation': array([ 0.00844882,  0.00052913,  0.00050873, ...,  0.00065042,\n",
      "        0.00064991,  0.00064939]),\n",
      "                         'energy_eV': array([  1.00000000e-05,   1.00040340e-01,   2.00070680e-01, ...,\n",
      "         2.99790939e+02,   2.99890970e+02,   2.99991000e+02]),\n",
      "                         'transmission': array([ 0.99155118,  0.99947087,  0.99949127, ...,  0.99934958,\n",
      "        0.99935009,  0.99935061])},\n",
      "               'attenuation': array([ 0.60215162,  0.00815771,  0.00612384, ...,  0.00074136,\n",
      "        0.00074641,  0.00075768]),\n",
      "               'energy_eV': array([  1.00000000e-05,   1.00031671e-01,   2.00053341e-01, ...,\n",
      "         2.99764957e+02,   2.99864978e+02,   2.99965000e+02]),\n",
      "               'transmission': array([ 0.39784838,  0.99184229,  0.99387616, ...,  0.99925864,\n",
      "        0.99925359,  0.99924232])},\n",
      "         'attenuation': array([ 0.60536912,  0.00872675,  0.00669192, ...,  0.00130977,\n",
      "        0.00131482,  0.00132608]),\n",
      "         'energy_eV': array([  1.00000000e-05,   1.00031671e-01,   2.00053341e-01, ...,\n",
      "         2.99764957e+02,   2.99864978e+02,   2.99965000e+02]),\n",
      "         'transmission': array([ 0.39463088,  0.99127325,  0.99330808, ...,  0.99869023,\n",
      "        0.99868518,  0.99867392])}}\n"
     ]
    }
   ],
   "source": [
    "pprint.pprint(o_reso.stack_signal)"
   ]
  },
  {
   "cell_type": "markdown",
   "metadata": {
    "collapsed": true,
    "run_control": {
     "frozen": false,
     "read_only": false
    }
   },
   "source": [
    "You can retrieve any of those arrays, **transmission**, **attenuation** and **Energy (eV) (x-axis)** arrays as followed "
   ]
  },
  {
   "cell_type": "markdown",
   "metadata": {
    "run_control": {
     "frozen": false,
     "read_only": false
    }
   },
   "source": [
    "for the compound **UO3**"
   ]
  },
  {
   "cell_type": "code",
   "execution_count": 27,
   "metadata": {
    "run_control": {
     "frozen": false,
     "read_only": false
    }
   },
   "outputs": [
    {
     "name": "stdout",
     "output_type": "stream",
     "text": [
      "[  1.00000000e-05   1.00031671e-01   2.00053341e-01 ...,   2.99764957e+02\n",
      "   2.99864978e+02   2.99965000e+02]\n",
      "[ 0.39463088  0.99127325  0.99330808 ...,  0.99869023  0.99868518\n",
      "  0.99867392]\n",
      "[ 0.60536912  0.00872675  0.00669192 ...,  0.00130977  0.00131482\n",
      "  0.00132608]\n"
     ]
    }
   ],
   "source": [
    "transmission_UO3 = o_reso.stack_signal['UO3']['transmission']\n",
    "attenuation_UO3 = o_reso.stack_signal['UO3']['attenuation']\n",
    "energy_UO3 = o_reso.stack_signal['UO3']['energy_eV']\n",
    "print(energy_UO3)\n",
    "print(transmission_UO3)\n",
    "print(attenuation_UO3)"
   ]
  },
  {
   "cell_type": "markdown",
   "metadata": {
    "run_control": {
     "frozen": false,
     "read_only": false
    }
   },
   "source": [
    "for the element **U**"
   ]
  },
  {
   "cell_type": "code",
   "execution_count": 26,
   "metadata": {
    "run_control": {
     "frozen": false,
     "read_only": false
    }
   },
   "outputs": [
    {
     "name": "stdout",
     "output_type": "stream",
     "text": [
      "[  1.00000000e-05   1.00031671e-01   2.00053341e-01 ...,   2.99764957e+02\n",
      "   2.99864978e+02   2.99965000e+02]\n",
      "[ 0.39784838  0.99184229  0.99387616 ...,  0.99925864  0.99925359\n",
      "  0.99924232]\n"
     ]
    }
   ],
   "source": [
    "transmission_UO3_U = o_reso.stack_signal['UO3']['U']['transmission']\n",
    "energy_UO3_U = o_reso.stack_signal['UO3']['U']['energy_eV']\n",
    "print(energy_UO3_U)\n",
    "print(transmission_UO3_U)"
   ]
  },
  {
   "cell_type": "markdown",
   "metadata": {
    "run_control": {
     "frozen": false,
     "read_only": false
    }
   },
   "source": [
    "or for the isotope **238-U**"
   ]
  },
  {
   "cell_type": "code",
   "execution_count": 29,
   "metadata": {
    "run_control": {
     "frozen": false,
     "read_only": false
    }
   },
   "outputs": [
    {
     "name": "stdout",
     "output_type": "stream",
     "text": [
      "[  1.00000000e-05   1.00040340e-01   2.00070680e-01 ...,   2.99790939e+02\n",
      "   2.99890970e+02   2.99991000e+02]\n",
      "[ 0.99155118  0.99947087  0.99949127 ...,  0.99934958  0.99935009\n",
      "  0.99935061]\n"
     ]
    }
   ],
   "source": [
    "transmission_UO3_U_238U = o_reso.stack_signal['UO3']['U']['238-U']['transmission']\n",
    "energy_UO3_U_238U = o_reso.stack_signal['UO3']['U']['238-U']['energy_eV']\n",
    "print(energy_UO3_U_238U)\n",
    "print(transmission_UO3_U_238U)"
   ]
  },
  {
   "cell_type": "markdown",
   "metadata": {
    "run_control": {
     "frozen": false,
     "read_only": false
    }
   },
   "source": [
    "# Display Transmission and Attenuation "
   ]
  },
  {
   "cell_type": "markdown",
   "metadata": {
    "run_control": {
     "frozen": false,
     "read_only": false
    }
   },
   "source": [
    "Here are the flags available for the final plot (in **bold**, the default values)\n",
    "\n",
    " - transmission: **True** or False. If False, the attenuation signal is plotted\n",
    " - x_axis: **'energy'** or 'lambda'\n",
    " - mixed: True or **False**. Display the total signal\n",
    " - all_layers: True or **False**. Dislay the signal of each compound/layer\n",
    " - all_elements: True or **False**. Display the signal of each element\n",
    " - all_isotopes: True or **False**. Display the signal of each isotope\n",
    " - items_to_plot: Array that defines what to plot. \n",
    " You need to define the path to the compound/element/isotope you want to see.\n",
    "   \n",
    "   example: \n",
    "   \n",
    "   if we want to display the U element of the UO3 layer\n",
    "       items_to_plot = [['UO3','U']]\n",
    "   if we want also to display the 235-U isotope of the element U of compound UO3\n",
    "       items_to_plot = [['UO3', 'O'],['UO3','U','235-U']]\n",
    "       \n",
    "So here are a few examples of plot commands\n",
    "\n",
    "```\n",
    " >>> o_reso.plot(x_axis='lambda', all_layers=True)\n",
    " >>> o_reso.plot(transmission=False, items_to_plot= [['CoAg', 'Co'],['CoAg','Ag','107-Ag']])\n",
    " ```"
   ]
  },
  {
   "cell_type": "code",
   "execution_count": 11,
   "metadata": {},
   "outputs": [
    {
     "data": {
      "image/png": "[encoded data removed]",
      "text/plain": [
       "<matplotlib.figure.Figure at 0x10d7e9048>"
      ]
     },
     "metadata": {},
     "output_type": "display_data"
    }
   ],
   "source": [
    "o_reso.plot(mixed=True, transmission=True)"
   ]
  },
  {
   "cell_type": "code",
   "execution_count": 8,
   "metadata": {},
   "outputs": [
    {
     "data": {
      "image/png": "[encoded data removed]",
      "text/plain": [
       "<matplotlib.figure.Figure at 0x117c56c88>"
      ]
     },
     "metadata": {},
     "output_type": "display_data"
    }
   ],
   "source": [
    "o_reso.plot(x_axis='lambda', mixed=True, transmission=True)"
   ]
  },
  {
   "cell_type": "code",
   "execution_count": 10,
   "metadata": {
    "scrolled": true
   },
   "outputs": [
    {
     "data": {
      "image/png": "[encoded data removed]",
      "text/plain": [
       "<matplotlib.figure.Figure at 0x119e91048>"
      ]
     },
     "metadata": {},
     "output_type": "display_data"
    }
   ],
   "source": [
    "o_reso.plot(mixed=True, all_layers=True, transmission=True)"
   ]
  },
  {
   "cell_type": "code",
   "execution_count": 31,
   "metadata": {},
   "outputs": [
    {
     "data": {
      "image/png": "[encoded data removed]",
      "text/plain": [
       "<matplotlib.figure.Figure at 0x10f00ab38>"
      ]
     },
     "metadata": {},
     "output_type": "display_data"
    }
   ],
   "source": [
    "o_reso.plot(mixed=True, all_elements=True, transmission=True)"
   ]
  },
  {
   "cell_type": "code",
   "execution_count": 34,
   "metadata": {},
   "outputs": [
    {
     "data": {
      "image/png": "[encoded data removed]",
      "text/plain": [
       "<matplotlib.figure.Figure at 0x1131a4470>"
      ]
     },
     "metadata": {},
     "output_type": "display_data"
    }
   ],
   "source": [
    "o_reso.plot(transmission=True, items_to_plot = [['UO3', 'O'],['UO3','U','235-U']])"
   ]
  },
  {
   "cell_type": "code",
   "execution_count": 32,
   "metadata": {
    "run_control": {
     "frozen": false,
     "read_only": false
    }
   },
   "outputs": [
    {
     "data": {
      "image/png": "[encoded data removed]",
      "text/plain": [
       "<matplotlib.figure.Figure at 0x116350320>"
      ]
     },
     "metadata": {},
     "output_type": "display_data"
    }
   ],
   "source": [
    "o_reso.plot(items_to_plot=[['Co'], ['Ag'], ['Ag', 'Ag', '107-Ag'], ['Co', 'Co', '59-Co']], mixed=True, transmission=True)"
   ]
  },
  {
   "cell_type": "code",
   "execution_count": null,
   "metadata": {
    "collapsed": true,
    "run_control": {
     "frozen": false,
     "read_only": false
    }
   },
   "outputs": [],
   "source": []
  }
 ],
 "metadata": {
  "kernelspec": {
   "display_name": "Python 3",
   "language": "python",
   "name": "python3"
  },
  "language_info": {
   "codemirror_mode": {
    "name": "ipython",
    "version": 3
   },
   "file_extension": ".py",
   "mimetype": "text/x-python",
   "name": "python",
   "nbconvert_exporter": "python",
   "pygments_lexer": "ipython3",
   "version": "3.6.1"
  },
  "toc": {
   "colors": {
    "hover_highlight": "#DAA520",
    "running_highlight": "#FF0000",
    "selected_highlight": "#FFD700"
   },
   "moveMenuLeft": true,
   "nav_menu": {
    "height": "156px",
    "width": "252px"
   },
   "navigate_menu": true,
   "number_sections": true,
   "sideBar": true,
   "threshold": 4,
   "toc_cell": false,
   "toc_section_display": "block",
   "toc_window_display": false
  }
 },
 "nbformat": 4,
 "nbformat_minor": 2
}
