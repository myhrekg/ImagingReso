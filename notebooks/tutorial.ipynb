{
 "cells": [
  {
   "cell_type": "code",
   "execution_count": 1,
   "metadata": {
    "run_control": {
     "frozen": false,
     "read_only": false
    }
   },
   "outputs": [],
   "source": [
    "import os\n",
    "import sys\n",
    "import re\n",
    "import pprint\n",
    "import numpy as np"
   ]
  },
  {
   "cell_type": "markdown",
   "metadata": {
    "run_control": {
     "frozen": false,
     "read_only": false
    }
   },
   "source": [
    "Add **ImagingReso** to python path"
   ]
  },
  {
   "cell_type": "code",
   "execution_count": 2,
   "metadata": {
    "run_control": {
     "frozen": false,
     "read_only": false
    }
   },
   "outputs": [],
   "source": [
    "root_folder = os.path.dirname(os.getcwd())\n",
    "sys.path.append(root_folder)\n",
    "import ImagingReso\n",
    "from ImagingReso.resonance import Resonance"
   ]
  },
  {
   "cell_type": "markdown",
   "metadata": {
    "run_control": {
     "frozen": false,
     "read_only": false
    }
   },
   "source": [
    "# Initialization"
   ]
  },
  {
   "cell_type": "markdown",
   "metadata": {
    "run_control": {
     "frozen": false,
     "read_only": false
    }
   },
   "source": [
    "Let's define our input\n",
    "\n",
    "**layer1**\n",
    "  - compound **CoAg** of thickness **0.025mm**\n",
    "\n",
    "**layer2**\n",
    "  - compound **U** of thickness **0.3mm**\n",
    "\n",
    "**global paramters**\n",
    "  - min energy of **0 ev**\n",
    "  - max energy of **300 ev**"
   ]
  },
  {
   "cell_type": "code",
   "execution_count": 3,
   "metadata": {
    "run_control": {
     "frozen": false,
     "read_only": false
    }
   },
   "outputs": [],
   "source": [
    "_energy_min = 0\n",
    "_energy_max = 300\n",
    "_energy_step = 0.1"
   ]
  },
  {
   "cell_type": "markdown",
   "metadata": {
    "run_control": {
     "frozen": false,
     "read_only": false
    }
   },
   "source": [
    "## Method 1"
   ]
  },
  {
   "cell_type": "code",
   "execution_count": 4,
   "metadata": {
    "run_control": {
     "frozen": false,
     "read_only": false
    }
   },
   "outputs": [],
   "source": [
    "_stack = {'CoAg': {'elements': ['Co','Ag'],\n",
    "                   'stochiometric_ratio': [1,1],\n",
    "                   'thickness': {'value': 0.025,\n",
    "                                'units': 'mm'},\n",
    "                   'density': {'value': 0.5,\n",
    "                              'units': 'g/cm3'},\n",
    "                  },\n",
    "         'U': {'elements': ['U'],\n",
    "               'stochiometric_ratio': [1],\n",
    "              'thickness': {'value': 0.3,\n",
    "                            'units': 'mm'},\n",
    "                'density': {'value': np.NaN,\n",
    "                            'units': 'g/cm3'},\n",
    "              },\n",
    "         }"
   ]
  },
  {
   "cell_type": "code",
   "execution_count": 5,
   "metadata": {
    "run_control": {
     "frozen": false,
     "read_only": false
    }
   },
   "outputs": [],
   "source": [
    "o_reso = Resonance(stack=_stack, energy_min=_energy_min, energy_max=_energy_max, energy_step=_energy_step)"
   ]
  },
  {
   "cell_type": "markdown",
   "metadata": {
    "run_control": {
     "frozen": false,
     "read_only": false
    }
   },
   "source": [
    "## Method 2"
   ]
  },
  {
   "cell_type": "code",
   "execution_count": 6,
   "metadata": {
    "run_control": {
     "frozen": false,
     "read_only": false
    }
   },
   "outputs": [],
   "source": [
    "_layer_1 = 'CoAg'\n",
    "_thickness_1 = 0.025 # mm\n",
    "_density_1 = 0.5 # g/cm3\n",
    "\n",
    "_layer_2 = 'U'\n",
    "_thickness_2 = 0.3"
   ]
  },
  {
   "cell_type": "code",
   "execution_count": 7,
   "metadata": {
    "run_control": {
     "frozen": false,
     "read_only": false
    }
   },
   "outputs": [],
   "source": [
    "o_reso = Resonance(energy_min=_energy_min, energy_max=_energy_max, energy_step=_energy_step)\n",
    "o_reso.add_layer(formula=_layer_1, thickness=_thickness_1, density=_density_1)\n",
    "o_reso.add_layer(formula=_layer_2, thickness=_thickness_2)"
   ]
  },
  {
   "cell_type": "markdown",
   "metadata": {
    "run_control": {
     "frozen": false,
     "read_only": false
    }
   },
   "source": [
    "# retrieve parameters "
   ]
  },
  {
   "cell_type": "markdown",
   "metadata": {
    "run_control": {
     "frozen": false,
     "read_only": false
    }
   },
   "source": [
    "To retrieve the stack defined, and also visualize the isotopes mass, ratio...etc automatically loaded by the program"
   ]
  },
  {
   "cell_type": "code",
   "execution_count": 8,
   "metadata": {
    "run_control": {
     "frozen": false,
     "read_only": false
    },
    "scrolled": false
   },
   "outputs": [
    {
     "name": "stdout",
     "output_type": "stream",
     "text": [
      "{'CoAg': {'Ag': {'density': {'units': 'g/cm3', 'value': 10.5},\n",
      "                 'isotopes': {'density': {'units': 'g/cm3',\n",
      "                                          'value': [10.406250187729098,\n",
      "                                                    10.600899412431097]},\n",
      "                              'file_names': ['Ag-107.csv', 'Ag-109.csv'],\n",
      "                              'isotopic_ratio': [0.51839, 0.48161000000000004],\n",
      "                              'list': ['107-Ag', '109-Ag'],\n",
      "                              'mass': {'units': 'g/mol',\n",
      "                                       'value': [106.905093, 108.904756]}},\n",
      "                 'molar_mass': {'units': 'g/mol', 'value': 107.8682}},\n",
      "          'Co': {'density': {'units': 'g/cm3', 'value': 8.9},\n",
      "                 'isotopes': {'density': {'units': 'g/cm3',\n",
      "                                          'value': [8.749367803547068,\n",
      "                                                    8.900000030203689]},\n",
      "                              'file_names': ['Co-58.csv', 'Co-59.csv'],\n",
      "                              'isotopic_ratio': [0.0, 1.0],\n",
      "                              'list': ['58-Co', '59-Co'],\n",
      "                              'mass': {'units': 'g/mol',\n",
      "                                       'value': [57.9357576, 58.9332002]}},\n",
      "                 'molar_mass': {'units': 'g/mol', 'value': 58.9332}},\n",
      "          'atoms_per_cm3': {'Ag': 1.8051829472054791e+21,\n",
      "                            'Co': 1.8051829472054791e+21},\n",
      "          'density': {'units': 'g/cm3', 'value': 0.5},\n",
      "          'elements': ['Co', 'Ag'],\n",
      "          'stochiometric_ratio': [1, 1],\n",
      "          'thickness': {'units': 'mm', 'value': 0.025}},\n",
      " 'U': {'U': {'density': {'units': 'g/cm3', 'value': 18.95},\n",
      "             'isotopes': {'density': {'units': 'g/cm3',\n",
      "                                      'value': [18.552792392319066,\n",
      "                                                18.632509467526443,\n",
      "                                                18.712358690988417,\n",
      "                                                18.951741325328925]},\n",
      "                          'file_names': ['U-233.csv',\n",
      "                                         'U-234.csv',\n",
      "                                         'U-235.csv',\n",
      "                                         'U-238.csv'],\n",
      "                          'isotopic_ratio': [0.0,\n",
      "                                             5.4999999999999995e-05,\n",
      "                                             0.0072,\n",
      "                                             0.992745],\n",
      "                          'list': ['233-U', '234-U', '235-U', '238-U'],\n",
      "                          'mass': {'units': 'g/mol',\n",
      "                                   'value': [233.039628,\n",
      "                                             234.0409456,\n",
      "                                             235.0439231,\n",
      "                                             238.0507826]}},\n",
      "             'molar_mass': {'units': 'g/mol', 'value': 238.02891}},\n",
      "       'atoms_per_cm3': {'U': 4.7943575106128917e+22},\n",
      "       'density': {'units': 'g/cm3', 'value': 18.949999999999999},\n",
      "       'elements': ['U'],\n",
      "       'stochiometric_ratio': [1],\n",
      "       'thickness': {'units': 'mm', 'value': 0.3}}}\n"
     ]
    }
   ],
   "source": [
    "pprint.pprint(o_reso.stack)"
   ]
  },
  {
   "cell_type": "markdown",
   "metadata": {
    "run_control": {
     "frozen": false,
     "read_only": false
    }
   },
   "source": [
    "Energy range"
   ]
  },
  {
   "cell_type": "code",
   "execution_count": 9,
   "metadata": {
    "run_control": {
     "frozen": false,
     "read_only": false
    }
   },
   "outputs": [
    {
     "name": "stdout",
     "output_type": "stream",
     "text": [
      "Energy min 0 eV\n",
      "Energy max 300 eV\n",
      "Energy step 0.1 eV\n"
     ]
    }
   ],
   "source": [
    "print(\"Energy min {} eV\".format(o_reso.energy_min))\n",
    "print(\"Energy max {} eV\".format(o_reso.energy_max))\n",
    "print(\"Energy step {} eV\".format(o_reso.energy_step))"
   ]
  },
  {
   "cell_type": "markdown",
   "metadata": {
    "run_control": {
     "frozen": false,
     "read_only": false
    }
   },
   "source": [
    "You can also retrieve the arrays of sigma (cross section) vs Energy (eV) for each of the isotopes and elements"
   ]
  },
  {
   "cell_type": "code",
   "execution_count": 10,
   "metadata": {
    "run_control": {
     "frozen": false,
     "read_only": false
    },
    "scrolled": true
   },
   "outputs": [
    {
     "name": "stdout",
     "output_type": "stream",
     "text": [
      "{'CoAg': {'Ag': {'107-Ag': {'energy_eV': array([  1.00000000e-05,   9.99983261e-02,   1.99986652e-01, ...,\n",
      "         2.99665023e+02,   2.99765012e+02,   2.99865000e+02]),\n",
      "                            'sigma_b': array([ 1938.91      ,    26.04407696,    20.35416992, ...,     4.13056846,\n",
      "           4.12171423,     4.11286   ])},\n",
      "                 '109-Ag': {'energy_eV': array([  1.00000000e-05,   1.00041674e-01,   2.00073348e-01, ...,\n",
      "         2.99794937e+02,   2.99894968e+02,   2.99995000e+02]),\n",
      "                            'sigma_b': array([  4.51167000e+03,   4.91755427e+01,   3.67325984e+01, ...,\n",
      "         4.39295314e+00,   4.78259197e+00,   5.41247000e+00])},\n",
      "                 'energy_eV': array([  1.00000000e-05,   1.00020000e-01,   2.00030000e-01, ...,\n",
      "         2.99729980e+02,   2.99829990e+02,   2.99930000e+02]),\n",
      "                 'sigma_b': array([ 3177.9769436 ,    37.18442215,    28.24218485, ...,     4.25693555,\n",
      "           4.43999956,     4.73876517])},\n",
      "          'Co': {'58-Co': {'energy_eV': array([  1.00000000e-05,   9.99236345e-02,   1.99837269e-01, ...,\n",
      "         2.99441173e+02,   2.99541086e+02,   2.99641000e+02]),\n",
      "                           'sigma_b': array([  9.34884000e+04,   1.03107366e+03,   7.68749412e+02, ...,\n",
      "         1.31581289e+01,   1.31617645e+01,   1.31654000e+01])},\n",
      "                 '59-Co': {'energy_eV': array([  1.00000000e-05,   9.98102634e-02,   1.99610527e-01, ...,\n",
      "         2.99101399e+02,   2.99201200e+02,   2.99301000e+02]),\n",
      "                           'sigma_b': array([ 1913.87      ,    24.73707214,    19.255596  , ...,    10.88572788,\n",
      "          10.87881394,    10.8719    ])},\n",
      "                 'energy_eV': array([  1.00000000e-05,   9.98669490e-02,   1.99723898e-01, ...,\n",
      "         2.99271286e+02,   2.99371143e+02,   2.99471000e+02]),\n",
      "                 'sigma_b': array([ 1913.87      ,    24.73707214,    19.255596  , ...,    10.88572788,\n",
      "          10.87881394,    10.8719    ])}},\n",
      " 'U': {'U': {'233-U': {'energy_eV': array([  1.00000000e-05,   1.00035005e-01,   2.00060010e-01, ...,\n",
      "         2.99774950e+02,   2.99874975e+02,   2.99975000e+02]),\n",
      "                       'sigma_b': array([ 29129.1       ,    299.31348614,    230.70757589, ...,\n",
      "           47.99922678,     45.57130118,     42.922     ])},\n",
      "             '234-U': {'energy_eV': array([  1.00000000e-05,   1.00010997e-01,   2.00011994e-01, ...,\n",
      "         2.99702998e+02,   2.99802999e+02,   2.99903000e+02]),\n",
      "                       'sigma_b': array([ 5255.34      ,    64.55821004,    47.45746053, ...,    10.10149492,\n",
      "          10.07569047,    10.0499    ])},\n",
      "             '235-U': {'energy_eV': array([  1.00000000e-05,   1.00040340e-01,   2.00070680e-01, ...,\n",
      "         2.99790939e+02,   2.99890970e+02,   2.99991000e+02]),\n",
      "                       'sigma_b': array([  3.66976000e+04,   3.17060557e+02,   2.35529032e+02, ...,\n",
      "         1.66525457e+01,   1.68652375e+01,   1.73266000e+01])},\n",
      "             '238-U': {'energy_eV': array([  1.00000000e-05,   1.00040340e-01,   2.00070680e-01, ...,\n",
      "         2.99790939e+02,   2.99890970e+02,   2.99991000e+02]),\n",
      "                       'sigma_b': array([ 169.694     ,   10.58529294,   10.17716472, ...,   13.0126097 ,\n",
      "         13.00230485,   12.992     ])},\n",
      "             'energy_eV': array([  1.00000000e-05,   1.00031671e-01,   2.00053341e-01, ...,\n",
      "         2.99764957e+02,   2.99864978e+02,   2.99965000e+02]),\n",
      "             'sigma_b': array([ 432.97463373,   12.79488335,   11.80174858, ...,   13.03865713,\n",
      "         13.029957  ,   13.0230473 ])}}}\n"
     ]
    }
   ],
   "source": [
    "pprint.pprint(o_reso.stack_sigma)"
   ]
  },
  {
   "cell_type": "markdown",
   "metadata": {
    "run_control": {
     "frozen": false,
     "read_only": false
    }
   },
   "source": [
    "## Modify Isotopic Ratio "
   ]
  },
  {
   "cell_type": "markdown",
   "metadata": {
    "run_control": {
     "frozen": false,
     "read_only": false
    }
   },
   "source": [
    "Let's presume that the **U** layer of our sample does not have the default isotopic_ratio reported\n",
    "```\n",
    " U-233 -> 0\n",
    " U-234 -> 5.5e-5\n",
    " U-235 -> 0.007\n",
    " U-238 -> 0.99\n",
    "```\n",
    "\n",
    "but instead\n",
    "\n",
    "```\n",
    " U-233 -> 0\n",
    " U-234 -> 0\n",
    " U-235 -> 0.15\n",
    " U-238 -> 085\n",
    "```\n"
   ]
  },
  {
   "cell_type": "markdown",
   "metadata": {
    "run_control": {
     "frozen": false,
     "read_only": false
    }
   },
   "source": [
    "### Display current list of isotopic ratio "
   ]
  },
  {
   "cell_type": "markdown",
   "metadata": {
    "run_control": {
     "frozen": false,
     "read_only": false
    }
   },
   "source": [
    "To display all the stochiometric ratio"
   ]
  },
  {
   "cell_type": "code",
   "execution_count": 11,
   "metadata": {
    "run_control": {
     "frozen": false,
     "read_only": false
    }
   },
   "outputs": [
    {
     "name": "stdout",
     "output_type": "stream",
     "text": [
      "{'CoAg': {'Ag': {'107-Ag': 0.51839, '109-Ag': 0.48161000000000004},\n",
      "          'Co': {'58-Co': 0.0, '59-Co': 1.0}},\n",
      " 'U': {'U': {'233-U': 0.0,\n",
      "             '234-U': 5.4999999999999995e-05,\n",
      "             '235-U': 0.0072,\n",
      "             '238-U': 0.992745}}}\n"
     ]
    }
   ],
   "source": [
    "pprint.pprint(o_reso.get_stochiometric_ratio())"
   ]
  },
  {
   "cell_type": "markdown",
   "metadata": {
    "run_control": {
     "frozen": false,
     "read_only": false
    }
   },
   "source": [
    "From there, it's possible to narrow down the search to the compound and element we are looking for"
   ]
  },
  {
   "cell_type": "code",
   "execution_count": 12,
   "metadata": {
    "run_control": {
     "frozen": false,
     "read_only": false
    }
   },
   "outputs": [
    {
     "name": "stdout",
     "output_type": "stream",
     "text": [
      "{'233-U': 0.0,\n",
      " '234-U': 5.4999999999999995e-05,\n",
      " '235-U': 0.0072,\n",
      " '238-U': 0.992745}\n"
     ]
    }
   ],
   "source": [
    "pprint.pprint(o_reso.get_stochiometric_ratio(compound='U', element='U'))  "
   ]
  },
  {
   "cell_type": "markdown",
   "metadata": {
    "run_control": {
     "frozen": false,
     "read_only": false
    }
   },
   "source": [
    "if compound is composef of only 1 element, **element** parameter can be omitted"
   ]
  },
  {
   "cell_type": "code",
   "execution_count": 13,
   "metadata": {
    "run_control": {
     "frozen": false,
     "read_only": false
    }
   },
   "outputs": [
    {
     "name": "stdout",
     "output_type": "stream",
     "text": [
      "{'233-U': 0.0,\n",
      " '234-U': 5.4999999999999995e-05,\n",
      " '235-U': 0.0072,\n",
      " '238-U': 0.992745}\n"
     ]
    }
   ],
   "source": [
    "pprint.pprint(o_reso.get_stochiometric_ratio(compound='U'))"
   ]
  },
  {
   "cell_type": "markdown",
   "metadata": {
    "run_control": {
     "frozen": false,
     "read_only": false
    }
   },
   "source": [
    "### Define a new set of isotopic ratio"
   ]
  },
  {
   "cell_type": "code",
   "execution_count": 14,
   "metadata": {
    "run_control": {
     "frozen": false,
     "read_only": false
    }
   },
   "outputs": [],
   "source": [
    "new_list_ratio = [0.2, 0.3, 0.4, 0.1]\n",
    "o_reso.set_stochiometric_ratio(compound='U', list_ratio=new_list_ratio)"
   ]
  },
  {
   "cell_type": "markdown",
   "metadata": {
    "run_control": {
     "frozen": false,
     "read_only": false
    }
   },
   "source": [
    "Using **set_stochiometric_ratio**, the element *density* and *molar_mass* is automatically updated"
   ]
  },
  {
   "cell_type": "code",
   "execution_count": 15,
   "metadata": {
    "run_control": {
     "frozen": false,
     "read_only": false
    }
   },
   "outputs": [
    {
     "name": "stdout",
     "output_type": "stream",
     "text": [
      "{'CoAg': {'Ag': {'density': {'units': 'g/cm3', 'value': 10.5},\n",
      "                 'isotopes': {'density': {'units': 'g/cm3',\n",
      "                                          'value': [10.406250187729098,\n",
      "                                                    10.600899412431097]},\n",
      "                              'file_names': ['Ag-107.csv', 'Ag-109.csv'],\n",
      "                              'isotopic_ratio': [0.51839, 0.48161000000000004],\n",
      "                              'list': ['107-Ag', '109-Ag'],\n",
      "                              'mass': {'units': 'g/mol',\n",
      "                                       'value': [106.905093, 108.904756]}},\n",
      "                 'molar_mass': {'units': 'g/mol', 'value': 107.8682}},\n",
      "          'Co': {'density': {'units': 'g/cm3', 'value': 8.9},\n",
      "                 'isotopes': {'density': {'units': 'g/cm3',\n",
      "                                          'value': [8.749367803547068,\n",
      "                                                    8.900000030203689]},\n",
      "                              'file_names': ['Co-58.csv', 'Co-59.csv'],\n",
      "                              'isotopic_ratio': [0.0, 1.0],\n",
      "                              'list': ['58-Co', '59-Co'],\n",
      "                              'mass': {'units': 'g/mol',\n",
      "                                       'value': [57.9357576, 58.9332002]}},\n",
      "                 'molar_mass': {'units': 'g/mol', 'value': 58.9332}},\n",
      "          'atoms_per_cm3': {'Ag': 1.8051829472054791e+21,\n",
      "                            'Co': 1.8051829472054791e+21},\n",
      "          'density': {'units': 'g/cm3', 'value': 0.5},\n",
      "          'elements': ['Co', 'Ag'],\n",
      "          'stochiometric_ratio': [1, 1],\n",
      "          'thickness': {'units': 'mm', 'value': 0.025}},\n",
      " 'U': {'U': {'density': {'units': 'g/cm3', 'value': 18.680428927650006},\n",
      "             'isotopes': {'density': {'units': 'g/cm3',\n",
      "                                      'value': [18.552792392319066,\n",
      "                                                18.632509467526443,\n",
      "                                                18.712358690988417,\n",
      "                                                18.951741325328925]},\n",
      "                          'file_names': ['U-233.csv',\n",
      "                                         'U-234.csv',\n",
      "                                         'U-235.csv',\n",
      "                                         'U-238.csv'],\n",
      "                          'isotopic_ratio': [0.2, 0.3, 0.4, 0.1],\n",
      "                          'list': ['233-U', '234-U', '235-U', '238-U'],\n",
      "                          'mass': {'units': 'g/mol',\n",
      "                                   'value': [233.039628,\n",
      "                                             234.0409456,\n",
      "                                             235.0439231,\n",
      "                                             238.0507826]}},\n",
      "             'molar_mass': {'units': 'g/mol', 'value': 234.64285678}},\n",
      "       'atoms_per_cm3': {'U': 4.8635432932504727e+22},\n",
      "       'density': {'units': 'g/cm3', 'value': 18.949999999999999},\n",
      "       'elements': ['U'],\n",
      "       'stochiometric_ratio': [1],\n",
      "       'thickness': {'units': 'mm', 'value': 0.3}}}\n"
     ]
    }
   ],
   "source": [
    "pprint.pprint(o_reso.stack)"
   ]
  },
  {
   "cell_type": "markdown",
   "metadata": {
    "run_control": {
     "frozen": false,
     "read_only": false
    }
   },
   "source": [
    "### Define a new density "
   ]
  },
  {
   "cell_type": "markdown",
   "metadata": {
    "run_control": {
     "frozen": false,
     "read_only": false
    }
   },
   "source": [
    "First, let's check the densities already defined"
   ]
  },
  {
   "cell_type": "code",
   "execution_count": 16,
   "metadata": {
    "run_control": {
     "frozen": false,
     "read_only": false
    }
   },
   "outputs": [
    {
     "name": "stdout",
     "output_type": "stream",
     "text": [
      "{'CoAg': {'Ag': 10.5, 'Co': 8.9}, 'U': {'U': 18.680428927650006}}\n"
     ]
    }
   ],
   "source": [
    "pprint.pprint(o_reso.get_density())"
   ]
  },
  {
   "cell_type": "markdown",
   "metadata": {
    "run_control": {
     "frozen": false,
     "read_only": false
    }
   },
   "source": [
    "If we want to change the *Co* density to 20"
   ]
  },
  {
   "cell_type": "code",
   "execution_count": 17,
   "metadata": {
    "run_control": {
     "frozen": false,
     "read_only": false
    }
   },
   "outputs": [],
   "source": [
    "o_reso.set_density(compound='CoAg', element='Co', density=20)"
   ]
  },
  {
   "cell_type": "code",
   "execution_count": 18,
   "metadata": {
    "run_control": {
     "frozen": false,
     "read_only": false
    }
   },
   "outputs": [
    {
     "name": "stdout",
     "output_type": "stream",
     "text": [
      "{'CoAg': {'Ag': 10.5, 'Co': 20}, 'U': {'U': 18.680428927650006}}\n"
     ]
    }
   ],
   "source": [
    "pprint.pprint(o_reso.get_density())"
   ]
  },
  {
   "cell_type": "markdown",
   "metadata": {
    "collapsed": true,
    "run_control": {
     "frozen": false,
     "read_only": false
    }
   },
   "source": [
    "## Preview the Transmission and Attenuation signals "
   ]
  },
  {
   "cell_type": "markdown",
   "metadata": {},
   "source": [
    "Those arrays for each Compound, element and isotopes are calculated during initialization of the object, but also \n",
    "every time one of the parameters is modified, such as density, stochiometric coefficient.\n",
    "\n",
    "Those arrays are store in the **stack_signal** dictionary"
   ]
  },
  {
   "cell_type": "code",
   "execution_count": 19,
   "metadata": {},
   "outputs": [
    {
     "name": "stdout",
     "output_type": "stream",
     "text": [
      "{'CoAg': {'Ag': {'107-Ag': {'attenuation': array([  8.71204643e-03,   1.17528902e-04,   9.18532823e-05, ...,\n",
      "         1.86409056e-05,   1.86009476e-05,   1.85609896e-05]),\n",
      "                            'energy_eV': array([  1.00000000e-05,   9.99983261e-02,   1.99986652e-01, ...,\n",
      "         2.99665023e+02,   2.99765012e+02,   2.99865000e+02]),\n",
      "                            'transmission': array([ 0.99128795,  0.99988247,  0.99990815, ...,  0.99998136,\n",
      "        0.9999814 ,  0.99998144])},\n",
      "                 '109-Ag': {'attenuation': array([  2.01550894e-02,   2.21902504e-04,   1.65758911e-04, ...,\n",
      "         1.98250137e-05,   2.15834007e-05,   2.44259480e-05]),\n",
      "                            'energy_eV': array([  1.00000000e-05,   1.00041674e-01,   2.00073348e-01, ...,\n",
      "         2.99794937e+02,   2.99894968e+02,   2.99995000e+02]),\n",
      "                            'transmission': array([ 0.97984491,  0.9997781 ,  0.99983424, ...,  0.99998017,\n",
      "        0.99997842,  0.99997557])},\n",
      "                 'attenuation': array([  1.42397168e-02,   1.67797632e-04,   1.27447654e-04, ...,\n",
      "         1.92111841e-05,   2.00373280e-05,   2.13856165e-05]),\n",
      "                 'energy_eV': array([  1.00000000e-05,   1.00020000e-01,   2.00030000e-01, ...,\n",
      "         2.99729980e+02,   2.99829990e+02,   2.99930000e+02]),\n",
      "                 'transmission': array([ 0.98576028,  0.9998322 ,  0.99987255, ...,  0.99998079,\n",
      "        0.99997996,  0.99997861])},\n",
      "          'Co': {'58-Co': {'attenuation': array([  3.44206393e-01,   4.64238215e-03,   3.46332214e-03, ...,\n",
      "         5.93803118e-05,   5.93967179e-05,   5.94131239e-05]),\n",
      "                           'energy_eV': array([  1.00000000e-05,   9.99236345e-02,   1.99837269e-01, ...,\n",
      "         2.99441173e+02,   2.99541086e+02,   2.99641000e+02]),\n",
      "                           'transmission': array([ 0.65579361,  0.99535762,  0.99653668, ...,  0.99994062,\n",
      "        0.9999406 ,  0.99994059])},\n",
      "                 '59-Co': {'attenuation': array([  8.60002015e-03,   1.11631121e-04,   8.68959082e-05, ...,\n",
      "         4.91256192e-05,   4.90944184e-05,   4.90632176e-05]),\n",
      "                           'energy_eV': array([  1.00000000e-05,   9.98102634e-02,   1.99610527e-01, ...,\n",
      "         2.99101399e+02,   2.99201200e+02,   2.99301000e+02]),\n",
      "                           'transmission': array([ 0.99139998,  0.99988837,  0.9999131 , ...,  0.99995087,\n",
      "        0.99995091,  0.99995094])},\n",
      "                 'attenuation': array([  8.60002015e-03,   1.11631121e-04,   8.68959082e-05, ...,\n",
      "         4.91256192e-05,   4.90944184e-05,   4.90632176e-05]),\n",
      "                 'energy_eV': array([  1.00000000e-05,   9.98669490e-02,   1.99723898e-01, ...,\n",
      "         2.99271286e+02,   2.99371143e+02,   2.99471000e+02]),\n",
      "                 'transmission': array([ 0.99139998,  0.99988837,  0.9999131 , ...,  0.99995087,\n",
      "        0.99995091,  0.99995094])},\n",
      "          'attenuation': array([  2.27172751e-02,   2.79410022e-04,   2.14332488e-04, ...,\n",
      "         6.83358595e-05,   6.91307626e-05,   7.04477848e-05]),\n",
      "          'energy_eV': array([  1.00000000e-05,   9.98669490e-02,   1.99723898e-01, ...,\n",
      "         2.99271286e+02,   2.99371143e+02,   2.99471000e+02]),\n",
      "          'transmission': array([ 0.97728272,  0.99972059,  0.99978567, ...,  0.99993166,\n",
      "        0.99993087,  0.99992955])},\n",
      " 'U': {'U': {'233-U': {'attenuation': array([ 1.        ,  0.35384588,  0.2858176 , ...,  0.06763778,\n",
      "        0.06432904,  0.0607052 ]),\n",
      "                       'energy_eV': array([  1.00000000e-05,   1.00035005e-01,   2.00060010e-01, ...,\n",
      "         2.99774950e+02,   2.99874975e+02,   2.99975000e+02]),\n",
      "                       'transmission': array([  3.48310830e-19,   6.46154119e-01,   7.14182401e-01, ...,\n",
      "         9.32362217e-01,   9.35670964e-01,   9.39294797e-01])},\n",
      "             '234-U': {'attenuation': array([ 0.99953239,  0.08989427,  0.06690049, ...,  0.01463063,\n",
      "        0.01459353,  0.01455645]),\n",
      "                       'energy_eV': array([  1.00000000e-05,   1.00010997e-01,   2.00011994e-01, ...,\n",
      "         2.99702998e+02,   2.99802999e+02,   2.99903000e+02]),\n",
      "                       'transmission': array([  4.67611805e-04,   9.10105734e-01,   9.33099513e-01, ...,\n",
      "         9.85369366e-01,   9.85406466e-01,   9.85443548e-01])},\n",
      "             '235-U': {'attenuation': array([ 1.        ,  0.37036269,  0.2908241 , ...,  0.02400431,\n",
      "        0.02430715,  0.02496372]),\n",
      "                       'energy_eV': array([  1.00000000e-05,   1.00040340e-01,   2.00070680e-01, ...,\n",
      "         2.99790939e+02,   2.99890970e+02,   2.99991000e+02]),\n",
      "                       'transmission': array([  5.57299340e-24,   6.29637311e-01,   7.09175896e-01, ...,\n",
      "         9.75995686e-01,   9.75692851e-01,   9.75036278e-01])},\n",
      "             '238-U': {'attenuation': array([ 0.21932335,  0.01532595,  0.01473942, ...,  0.01880711,\n",
      "        0.01879236,  0.01877761]),\n",
      "                       'energy_eV': array([  1.00000000e-05,   1.00040340e-01,   2.00070680e-01, ...,\n",
      "         2.99790939e+02,   2.99890970e+02,   2.99991000e+02]),\n",
      "                       'transmission': array([ 0.78067665,  0.98467405,  0.98526058, ...,  0.98119289,\n",
      "        0.98120764,  0.98122239])},\n",
      "             'attenuation': array([ 1.        ,  0.26080298,  0.20311268, ...,  0.02959897,\n",
      "        0.02901931,  0.02851754]),\n",
      "             'energy_eV': array([  1.00000000e-05,   1.00031671e-01,   2.00053341e-01, ...,\n",
      "         2.99764957e+02,   2.99864978e+02,   2.99965000e+02]),\n",
      "             'transmission': array([  9.93211103e-15,   7.39197024e-01,   7.96887317e-01, ...,\n",
      "         9.70401029e-01,   9.70980692e-01,   9.71482459e-01])},\n",
      "       'attenuation': array([ 1.        ,  0.26080298,  0.20311268, ...,  0.02959897,\n",
      "        0.02901931,  0.02851754]),\n",
      "       'energy_eV': array([  1.00000000e-05,   1.00031671e-01,   2.00053341e-01, ...,\n",
      "         2.99764957e+02,   2.99864978e+02,   2.99965000e+02]),\n",
      "       'transmission': array([  9.93211103e-15,   7.39197024e-01,   7.96887317e-01, ...,\n",
      "         9.70401029e-01,   9.70980692e-01,   9.71482459e-01])}}\n"
     ]
    }
   ],
   "source": [
    "pprint.pprint(o_reso.stack_signal)"
   ]
  },
  {
   "cell_type": "markdown",
   "metadata": {
    "collapsed": true,
    "run_control": {
     "frozen": false,
     "read_only": false
    }
   },
   "source": [
    "You can retrieve any of those arrays, **transmission**, **attenuation** and **Energy (eV) (x-axis)** arrays as followed "
   ]
  },
  {
   "cell_type": "markdown",
   "metadata": {},
   "source": [
    "for the compound *CoAg*"
   ]
  },
  {
   "cell_type": "code",
   "execution_count": 20,
   "metadata": {},
   "outputs": [],
   "source": [
    "transmission_CoAg = o_reso.stack_signal['CoAg']['transmission']\n",
    "energy_CoAg = o_reso.stack_signal['CoAg']['energy_eV']"
   ]
  },
  {
   "cell_type": "markdown",
   "metadata": {},
   "source": [
    "for the element *Ag*"
   ]
  },
  {
   "cell_type": "code",
   "execution_count": 21,
   "metadata": {},
   "outputs": [],
   "source": [
    "transmission_CoAg_Ag = o_reso.stack_signal['CoAg']['Ag']['transmission']\n",
    "energy_CoAg_Ag = o_reso.stack_signal['CoAg']['Ag']['energy_eV']"
   ]
  },
  {
   "cell_type": "markdown",
   "metadata": {},
   "source": [
    "or for the isotope *107-Ag*"
   ]
  },
  {
   "cell_type": "code",
   "execution_count": 22,
   "metadata": {},
   "outputs": [],
   "source": [
    "transmission_CoAg_Ag_107Ag = o_reso.stack_signal['CoAg']['Ag']['107-Ag']['transmission']\n",
    "energy_CoAg_Ag_107Ag = o_reso.stack_signal['CoAg']['Ag']['107-Ag']['energy_eV']"
   ]
  },
  {
   "cell_type": "markdown",
   "metadata": {},
   "source": [
    "# Display Transmission and Attenuation "
   ]
  },
  {
   "cell_type": "code",
   "execution_count": 25,
   "metadata": {},
   "outputs": [
    {
     "ename": "NameError",
     "evalue": "name 'item_to_plot' is not defined",
     "output_type": "error",
     "traceback": [
      "\u001b[0;31m---------------------------------------------------------------------------\u001b[0m",
      "\u001b[0;31mNameError\u001b[0m                                 Traceback (most recent call last)",
      "\u001b[0;32m<ipython-input-25-a64f76572776>\u001b[0m in \u001b[0;36m<module>\u001b[0;34m()\u001b[0m\n\u001b[0;32m----> 1\u001b[0;31m \u001b[0mo_reso\u001b[0m\u001b[0;34m.\u001b[0m\u001b[0mplot\u001b[0m\u001b[0;34m(\u001b[0m\u001b[0mitems_to_plot\u001b[0m\u001b[0;34m=\u001b[0m\u001b[0;34m[\u001b[0m\u001b[0;34m[\u001b[0m\u001b[0;34m'CoAg'\u001b[0m\u001b[0;34m,\u001b[0m\u001b[0;34m'Ag'\u001b[0m\u001b[0;34m]\u001b[0m\u001b[0;34m]\u001b[0m\u001b[0;34m)\u001b[0m\u001b[0;34m\u001b[0m\u001b[0m\n\u001b[0m",
      "\u001b[0;32m~/git/ImagingReso/ImagingReso/resonance.py\u001b[0m in \u001b[0;36mplot\u001b[0;34m(self, transmission, energy, mixed, all_layers, all_elements, all_isotopes, items_to_plot)\u001b[0m\n\u001b[1;32m    512\u001b[0m                         \u001b[0mplt\u001b[0m\u001b[0;34m.\u001b[0m\u001b[0mplot\u001b[0m\u001b[0;34m(\u001b[0m\u001b[0m_x_axis\u001b[0m\u001b[0;34m,\u001b[0m \u001b[0m_y_axis\u001b[0m\u001b[0;34m,\u001b[0m \u001b[0mlabel\u001b[0m\u001b[0;34m=\u001b[0m\u001b[0;34m\"{}/{}/{}\"\u001b[0m\u001b[0;34m.\u001b[0m\u001b[0mformat\u001b[0m\u001b[0;34m(\u001b[0m\u001b[0m_compound\u001b[0m\u001b[0;34m,\u001b[0m \u001b[0m_element\u001b[0m\u001b[0;34m,\u001b[0m \u001b[0m_isotope\u001b[0m\u001b[0;34m)\u001b[0m\u001b[0;34m)\u001b[0m\u001b[0;34m\u001b[0m\u001b[0m\n\u001b[1;32m    513\u001b[0m \u001b[0;34m\u001b[0m\u001b[0m\n\u001b[0;32m--> 514\u001b[0;31m         \u001b[0;32mfor\u001b[0m \u001b[0m_path_to_plot\u001b[0m \u001b[0;32min\u001b[0m \u001b[0mitem_to_plot\u001b[0m\u001b[0;34m:\u001b[0m\u001b[0;34m\u001b[0m\u001b[0m\n\u001b[0m\u001b[1;32m    515\u001b[0m             \u001b[0m_path_to_plot\u001b[0m \u001b[0;34m=\u001b[0m \u001b[0mlist\u001b[0m\u001b[0;34m(\u001b[0m\u001b[0m_path_to_plot\u001b[0m\u001b[0;34m)\u001b[0m\u001b[0;34m\u001b[0m\u001b[0m\n\u001b[1;32m    516\u001b[0m             \u001b[0m_live_path\u001b[0m \u001b[0;34m=\u001b[0m \u001b[0m_stack_signal\u001b[0m\u001b[0;34m\u001b[0m\u001b[0m\n",
      "\u001b[0;31mNameError\u001b[0m: name 'item_to_plot' is not defined"
     ]
    }
   ],
   "source": [
    "o_reso.plot(items_to_plot=[['CoAg','Ag']])"
   ]
  },
  {
   "cell_type": "code",
   "execution_count": null,
   "metadata": {
    "collapsed": true
   },
   "outputs": [],
   "source": []
  }
 ],
 "metadata": {
  "kernelspec": {
   "display_name": "Python 3",
   "language": "python",
   "name": "python3"
  },
  "language_info": {
   "codemirror_mode": {
    "name": "ipython",
    "version": 3
   },
   "file_extension": ".py",
   "mimetype": "text/x-python",
   "name": "python",
   "nbconvert_exporter": "python",
   "pygments_lexer": "ipython3",
   "version": "3.6.1"
  },
  "toc": {
   "colors": {
    "hover_highlight": "#DAA520",
    "running_highlight": "#FF0000",
    "selected_highlight": "#FFD700"
   },
   "moveMenuLeft": true,
   "nav_menu": {
    "height": "156px",
    "width": "252px"
   },
   "navigate_menu": true,
   "number_sections": true,
   "sideBar": true,
   "threshold": 4,
   "toc_cell": false,
   "toc_section_display": "block",
   "toc_window_display": false
  }
 },
 "nbformat": 4,
 "nbformat_minor": 2
}
