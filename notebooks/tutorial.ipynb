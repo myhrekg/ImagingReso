{
 "cells": [
  {
   "cell_type": "code",
   "execution_count": 1,
   "metadata": {
    "run_control": {
     "frozen": false,
     "read_only": false
    }
   },
   "outputs": [],
   "source": [
    "import os\n",
    "import sys\n",
    "import re\n",
    "import pprint"
   ]
  },
  {
   "cell_type": "markdown",
   "metadata": {
    "run_control": {
     "frozen": false,
     "read_only": false
    }
   },
   "source": [
    "Add **ImagingReso** to python path"
   ]
  },
  {
   "cell_type": "code",
   "execution_count": 2,
   "metadata": {
    "run_control": {
     "frozen": false,
     "read_only": false
    }
   },
   "outputs": [],
   "source": [
    "root_folder = os.path.dirname(os.getcwd())\n",
    "sys.path.append(root_folder)\n",
    "import ImagingReso\n",
    "from ImagingReso.resonance import Resonance"
   ]
  },
  {
   "cell_type": "markdown",
   "metadata": {
    "run_control": {
     "frozen": false,
     "read_only": false
    }
   },
   "source": [
    "# Initialization"
   ]
  },
  {
   "cell_type": "markdown",
   "metadata": {
    "run_control": {
     "frozen": false,
     "read_only": false
    }
   },
   "source": [
    "Let's define our input\n",
    "\n",
    "**layer1**\n",
    "  - compound **CoAg** of thickness **0.025mm**\n",
    "\n",
    "**layer2**\n",
    "  - compound **U** of thickness **0.3mm**\n",
    "\n",
    "**global paramters**\n",
    "  - min energy of **0 ev**\n",
    "  - max energy of **300 ev**"
   ]
  },
  {
   "cell_type": "code",
   "execution_count": 3,
   "metadata": {
    "run_control": {
     "frozen": false,
     "read_only": false
    }
   },
   "outputs": [],
   "source": [
    "_energy_min = 0\n",
    "_energy_max = 300\n",
    "_energy_step = 10"
   ]
  },
  {
   "cell_type": "markdown",
   "metadata": {
    "run_control": {
     "frozen": false,
     "read_only": false
    }
   },
   "source": [
    "## Method 1"
   ]
  },
  {
   "cell_type": "code",
   "execution_count": 4,
   "metadata": {
    "run_control": {
     "frozen": false,
     "read_only": false
    }
   },
   "outputs": [],
   "source": [
    "_stack = {'CoAg': {'elements': ['Co','Ag'],\n",
    "                   'stochiometric_ratio': [1,1],\n",
    "                   'thickness': {'value': 0.025,\n",
    "                                'units': 'mm'},\n",
    "                   'density': {'value': 0.5,\n",
    "                              'units': 'g/cm3'},\n",
    "                  },\n",
    "         'U': {'elements': ['U'],\n",
    "               'stochiometric_ratio': [1],\n",
    "              'thickness': {'value': 0.3,\n",
    "                            'units': 'mm'},\n",
    "                'density': {'value': np.NaN,\n",
    "                            'units': 'g/cm3'},\n",
    "              },\n",
    "         }"
   ]
  },
  {
   "cell_type": "code",
   "execution_count": 5,
   "metadata": {
    "run_control": {
     "frozen": false,
     "read_only": false
    }
   },
   "outputs": [],
   "source": [
    "o_reso = Resonance(stack=_stack, energy_min=_energy_min, energy_max=_energy_max, energy_step=_energy_step)"
   ]
  },
  {
   "cell_type": "markdown",
   "metadata": {
    "run_control": {
     "frozen": false,
     "read_only": false
    }
   },
   "source": [
    "## Method 2"
   ]
  },
  {
   "cell_type": "code",
   "execution_count": 6,
   "metadata": {
    "run_control": {
     "frozen": false,
     "read_only": false
    }
   },
   "outputs": [],
   "source": [
    "_layer_1 = 'CoAg'\n",
    "_thickness_1 = 0.025 # mm\n",
    "_density_1 = 0.5 # g/cm3\n",
    "\n",
    "_layer_2 = 'U'\n",
    "_thickness_2 = 0.3"
   ]
  },
  {
   "cell_type": "code",
   "execution_count": 7,
   "metadata": {
    "run_control": {
     "frozen": false,
     "read_only": false
    }
   },
   "outputs": [],
   "source": [
    "o_reso = Resonance(energy_min=_energy_min, energy_max=_energy_max, energy_step=_energy_step)\n",
    "o_reso.add_layer(formula=_layer_1, thickness=_thickness_1, density=_density_1)\n",
    "o_reso.add_layer(formula=_layer_2, thickness=_thickness_2)"
   ]
  },
  {
   "cell_type": "markdown",
   "metadata": {
    "run_control": {
     "frozen": false,
     "read_only": false
    }
   },
   "source": [
    "# retrieve parameters "
   ]
  },
  {
   "cell_type": "markdown",
   "metadata": {
    "run_control": {
     "frozen": false,
     "read_only": false
    }
   },
   "source": [
    "To retrieve the stack defined, and also visualize the isotopes mass, ratio...etc automatically loaded by the program"
   ]
  },
  {
   "cell_type": "code",
   "execution_count": 8,
   "metadata": {
    "run_control": {
     "frozen": false,
     "read_only": false
    },
    "scrolled": false
   },
   "outputs": [
    {
     "name": "stdout",
     "output_type": "stream",
     "text": [
      "{'CoAg': {'Ag': {'density': {'units': 'g/cm3', 'value': 10.5},\n",
      "                 'isotopes': {'density': {'units': 'g/cm3',\n",
      "                                          'value': [10.406250187729098,\n",
      "                                                    10.600899412431097]},\n",
      "                              'file_names': ['Ag-107.csv', 'Ag-109.csv'],\n",
      "                              'isotopic_ratio': [0.51839, 0.48161000000000004],\n",
      "                              'list': ['107-Ag', '109-Ag'],\n",
      "                              'mass': {'units': 'g/mol',\n",
      "                                       'value': [106.905093, 108.904756]}},\n",
      "                 'molar_mass': {'units': 'g/mol', 'value': 107.8682}},\n",
      "          'Co': {'density': {'units': 'g/cm3', 'value': 8.9},\n",
      "                 'isotopes': {'density': {'units': 'g/cm3',\n",
      "                                          'value': [8.749367803547068,\n",
      "                                                    8.900000030203689]},\n",
      "                              'file_names': ['Co-58.csv', 'Co-59.csv'],\n",
      "                              'isotopic_ratio': [0.0, 1.0],\n",
      "                              'list': ['58-Co', '59-Co'],\n",
      "                              'mass': {'units': 'g/mol',\n",
      "                                       'value': [57.9357576, 58.9332002]}},\n",
      "                 'molar_mass': {'units': 'g/mol', 'value': 58.9332}},\n",
      "          'atoms_per_cm3': {'Ag': 1.8051829472054791e+21,\n",
      "                            'Co': 1.8051829472054791e+21},\n",
      "          'density': {'units': 'g/cm3', 'value': 0.5},\n",
      "          'elements': ['Co', 'Ag'],\n",
      "          'stochiometric_ratio': [1, 1],\n",
      "          'thickness': {'units': 'mm', 'value': 0.025}},\n",
      " 'U': {'U': {'density': {'units': 'g/cm3', 'value': 18.95},\n",
      "             'isotopes': {'density': {'units': 'g/cm3',\n",
      "                                      'value': [18.552792392319066,\n",
      "                                                18.632509467526443,\n",
      "                                                18.712358690988417,\n",
      "                                                18.951741325328925]},\n",
      "                          'file_names': ['U-233.csv',\n",
      "                                         'U-234.csv',\n",
      "                                         'U-235.csv',\n",
      "                                         'U-238.csv'],\n",
      "                          'isotopic_ratio': [0.0,\n",
      "                                             5.4999999999999995e-05,\n",
      "                                             0.0072,\n",
      "                                             0.992745],\n",
      "                          'list': ['233-U', '234-U', '235-U', '238-U'],\n",
      "                          'mass': {'units': 'g/mol',\n",
      "                                   'value': [233.039628,\n",
      "                                             234.0409456,\n",
      "                                             235.0439231,\n",
      "                                             238.0507826]}},\n",
      "             'molar_mass': {'units': 'g/mol', 'value': 238.02891}},\n",
      "       'atoms_per_cm3': {'U': 4.7943575106128917e+22},\n",
      "       'density': {'units': 'g/cm3', 'value': 18.949999999999999},\n",
      "       'elements': ['U'],\n",
      "       'stochiometric_ratio': [1],\n",
      "       'thickness': {'units': 'mm', 'value': 0.3}}}\n"
     ]
    }
   ],
   "source": [
    "pprint.pprint(o_reso.stack)"
   ]
  },
  {
   "cell_type": "markdown",
   "metadata": {
    "run_control": {
     "frozen": false,
     "read_only": false
    }
   },
   "source": [
    "Energy range"
   ]
  },
  {
   "cell_type": "code",
   "execution_count": 9,
   "metadata": {
    "run_control": {
     "frozen": false,
     "read_only": false
    }
   },
   "outputs": [
    {
     "name": "stdout",
     "output_type": "stream",
     "text": [
      "Energy min 0 eV\n",
      "Energy max 300 eV\n",
      "Energy step 10 eV\n"
     ]
    }
   ],
   "source": [
    "print(\"Energy min {} eV\".format(o_reso.energy_min))\n",
    "print(\"Energy max {} eV\".format(o_reso.energy_max))\n",
    "print(\"Energy step {} eV\".format(o_reso.energy_step))"
   ]
  },
  {
   "cell_type": "markdown",
   "metadata": {},
   "source": [
    "You can also retrieve the arrays of sigma (cross section) vs Energy (eV) for each of the isotopes and elements"
   ]
  },
  {
   "cell_type": "code",
   "execution_count": 10,
   "metadata": {
    "scrolled": true
   },
   "outputs": [
    {
     "name": "stdout",
     "output_type": "stream",
     "text": [
      "{'CoAg': {'Ag': {'107-Ag': {'energy_eV': array([  1.00000000e-05,   1.03401821e+01,   2.06803541e+01,\n",
      "         3.10205262e+01,   4.13606983e+01,   5.17008703e+01,\n",
      "         6.20410424e+01,   7.23812145e+01,   8.27213866e+01,\n",
      "         9.30615586e+01,   1.03401731e+02,   1.13741903e+02,\n",
      "         1.24082075e+02,   1.34422247e+02,   1.44762419e+02,\n",
      "         1.55102591e+02,   1.65442763e+02,   1.75782935e+02,\n",
      "         1.86123107e+02,   1.96463279e+02,   2.06803451e+02,\n",
      "         2.17143623e+02,   2.27483796e+02,   2.37823968e+02,\n",
      "         2.48164140e+02,   2.58504312e+02,   2.68844484e+02,\n",
      "         2.79184656e+02,   2.89524828e+02,   2.99865000e+02]),\n",
      "                            'sigma_b': array([ 1938.91      ,     6.69765395,     6.9742027 ,     5.28153402,\n",
      "         391.91689881,  1967.38781119,     6.51980315,     5.70846558,\n",
      "           5.36371749,     5.14024234,     4.99453348,     4.86413735,\n",
      "           4.74052258,     4.56425539,    35.2660065 ,     4.98026798,\n",
      "           4.26122548,     5.35096435,     3.56543434,     3.39082372,\n",
      "          20.86784971,     7.82725761,     6.38586829,     5.62562845,\n",
      "           5.01340575,     5.98412385,     5.70231582,     5.09317272,\n",
      "           4.73100823,     4.11286   ])},\n",
      "                 '109-Ag': {'energy_eV': array([  1.00000000e-05,   1.03446648e+01,   2.06893197e+01,\n",
      "         3.10339745e+01,   4.13786293e+01,   5.17232841e+01,\n",
      "         6.20679390e+01,   7.24125938e+01,   8.27572486e+01,\n",
      "         9.31019034e+01,   1.03446558e+02,   1.13791213e+02,\n",
      "         1.24135868e+02,   1.34480523e+02,   1.44825178e+02,\n",
      "         1.55169832e+02,   1.65514487e+02,   1.75859142e+02,\n",
      "         1.86203797e+02,   1.96548452e+02,   2.06893107e+02,\n",
      "         2.17237761e+02,   2.27582416e+02,   2.37927071e+02,\n",
      "         2.48271726e+02,   2.58616381e+02,   2.68961036e+02,\n",
      "         2.79305690e+02,   2.89650345e+02,   2.99995000e+02]),\n",
      "                            'sigma_b': array([  4.51167000e+03,   1.19932847e+01,   5.51138934e+00,\n",
      "         1.27805798e+02,   1.51230992e+01,   4.99317747e+00,\n",
      "         5.53972826e+00,   2.52539065e+01,   6.17135335e+00,\n",
      "         5.51448974e+00,   4.74196055e+00,   4.76387185e+00,\n",
      "         3.64793337e+00,   4.39725015e+02,   6.89556273e+00,\n",
      "         5.39515646e+00,   4.57489346e+00,   1.18931070e+01,\n",
      "         5.81229015e+00,   5.14638696e+00,   4.92827014e+00,\n",
      "         5.74619845e+00,   5.14815219e+00,   4.86889656e+00,\n",
      "         4.57392197e+00,   3.59621723e+01,   4.55014476e+00,\n",
      "         4.32864623e+00,   1.19208304e+01,   5.41247000e+00])},\n",
      "                 'energy_ev': array([  1.00000000e-05,   1.03424234e+01,   2.06848369e+01,\n",
      "         3.10272503e+01,   4.13696638e+01,   5.17120772e+01,\n",
      "         6.20544907e+01,   7.23969041e+01,   8.27393176e+01,\n",
      "         9.30817310e+01,   1.03424144e+02,   1.13766558e+02,\n",
      "         1.24108971e+02,   1.34451385e+02,   1.44793798e+02,\n",
      "         1.55136212e+02,   1.65478625e+02,   1.75821039e+02,\n",
      "         1.86163452e+02,   1.96505866e+02,   2.06848279e+02,\n",
      "         2.17190692e+02,   2.27533106e+02,   2.37875519e+02,\n",
      "         2.48217933e+02,   2.58560346e+02,   2.68902760e+02,\n",
      "         2.79245173e+02,   2.89587587e+02,   2.99930000e+02]),\n",
      "                 'sigma': array([ 3177.9769436 ,     9.24808268,     6.26969716,    64.29044465,\n",
      "         210.44923696,  1022.27893165,     6.04778928,    15.1217454 ,\n",
      "           5.752683  ,     5.32048363,     4.87289183,     4.81584848,\n",
      "           4.21432069,   214.14202904,    21.60251708,     5.18008242,\n",
      "           4.41229112,     8.50172567,     4.64754257,     4.23632053,\n",
      "          13.19118879,     6.82499871,     5.78977184,     5.2611788 ,\n",
      "           4.80174597,    20.42185175,     5.14741872,     4.72496912,\n",
      "           8.19369849,     4.73876517])},\n",
      "          'Co': {'58-Co': {'energy_eV': array([  1.00000000e-05,   1.03324579e+01,   2.06649059e+01,\n",
      "         3.09973538e+01,   4.13298017e+01,   5.16622497e+01,\n",
      "         6.19946976e+01,   7.23271455e+01,   8.26595934e+01,\n",
      "         9.29920414e+01,   1.03324489e+02,   1.13656937e+02,\n",
      "         1.23989385e+02,   1.34321833e+02,   1.44654281e+02,\n",
      "         1.54986729e+02,   1.65319177e+02,   1.75651625e+02,\n",
      "         1.85984073e+02,   1.96316521e+02,   2.06648969e+02,\n",
      "         2.16981417e+02,   2.27313864e+02,   2.37646312e+02,\n",
      "         2.47978760e+02,   2.58311208e+02,   2.68643656e+02,\n",
      "         2.78976104e+02,   2.89308552e+02,   2.99641000e+02]),\n",
      "                           'sigma_b': array([  9.34884000e+04,   7.55273927e+04,   1.92980539e+02,\n",
      "         6.12076775e+01,   3.64917771e+01,   2.75449460e+01,\n",
      "         2.32306024e+01,   2.07699958e+01,   1.92014128e+01,\n",
      "         1.81306149e+01,   1.73493243e+01,   1.67520850e+01,\n",
      "         1.62835752e+01,   1.58980976e+01,   1.55745793e+01,\n",
      "         1.52994050e+01,   1.50589842e+01,   1.48448170e+01,\n",
      "         1.46487590e+01,   1.44638622e+01,   1.42931128e+01,\n",
      "         1.41267478e+01,   1.39646764e+01,   1.38079463e+01,\n",
      "         1.36477713e+01,   1.34866079e+01,   1.33237385e+01,\n",
      "         1.31665204e+01,   1.30511101e+01,   1.31654000e+01])},\n",
      "                 '59-Co': {'energy_eV': array([  1.00000000e-05,   1.03207338e+01,   2.06414576e+01,\n",
      "         3.09621814e+01,   4.12829052e+01,   5.16036290e+01,\n",
      "         6.19243528e+01,   7.22450766e+01,   8.25658003e+01,\n",
      "         9.28865241e+01,   1.03207248e+02,   1.13527972e+02,\n",
      "         1.23848696e+02,   1.34169419e+02,   1.44490143e+02,\n",
      "         1.54810867e+02,   1.65131591e+02,   1.75452314e+02,\n",
      "         1.85773038e+02,   1.96093762e+02,   2.06414486e+02,\n",
      "         2.16735210e+02,   2.27055933e+02,   2.37376657e+02,\n",
      "         2.47697381e+02,   2.58018105e+02,   2.68338829e+02,\n",
      "         2.78659552e+02,   2.88980276e+02,   2.99301000e+02]),\n",
      "                           'sigma_b': array([ 1913.87      ,     8.10059168,     7.92268964,     8.31068706,\n",
      "           9.20641484,    10.79618953,    13.48478691,    18.14369025,\n",
      "          26.67188453,    43.80575166,    84.63469672,   216.73241314,\n",
      "        1099.01184428,  6815.62903024,   586.96695414,   199.33185716,\n",
      "         104.18170567,    66.40091642,    47.37489555,    36.33037631,\n",
      "          29.26614072,    24.47156291,    21.00919164,    18.43356778,\n",
      "          16.43185012,    14.84899008,    13.56628523,    12.50855298,\n",
      "          11.62566483,    10.8719    ])},\n",
      "                 'energy_ev': array([  1.00000000e-05,   1.03265959e+01,   2.06531817e+01,\n",
      "         3.09797676e+01,   4.13063534e+01,   5.16329393e+01,\n",
      "         6.19595252e+01,   7.22861110e+01,   8.26126969e+01,\n",
      "         9.29392828e+01,   1.03265869e+02,   1.13592454e+02,\n",
      "         1.23919040e+02,   1.34245626e+02,   1.44572212e+02,\n",
      "         1.54898798e+02,   1.65225384e+02,   1.75551970e+02,\n",
      "         1.85878556e+02,   1.96205141e+02,   2.06531727e+02,\n",
      "         2.16858313e+02,   2.27184899e+02,   2.37511485e+02,\n",
      "         2.47838071e+02,   2.58164657e+02,   2.68491242e+02,\n",
      "         2.78817828e+02,   2.89144414e+02,   2.99471000e+02]),\n",
      "                 'sigma': array([ 1913.87      ,     8.10059168,     7.92268964,     8.31068706,\n",
      "           9.20641484,    10.79618953,    13.48478691,    18.14369025,\n",
      "          26.67188453,    43.80575166,    84.63469672,   216.73241314,\n",
      "        1099.01184428,  6815.62903024,   586.96695414,   199.33185716,\n",
      "         104.18170567,    66.40091642,    47.37489555,    36.33037631,\n",
      "          29.26614072,    24.47156291,    21.00919164,    18.43356778,\n",
      "          16.43185012,    14.84899008,    13.56628523,    12.50855298,\n",
      "          11.62566483,    10.8719    ])}},\n",
      " 'U': {'U': {'233-U': {'energy_eV': array([  1.00000000e-05,   1.03439752e+01,   2.06879403e+01,\n",
      "         3.10319055e+01,   4.13758707e+01,   5.17198359e+01,\n",
      "         6.20638010e+01,   7.24077662e+01,   8.27517314e+01,\n",
      "         9.30956966e+01,   1.03439662e+02,   1.13783627e+02,\n",
      "         1.24127592e+02,   1.34471557e+02,   1.44815522e+02,\n",
      "         1.55159488e+02,   1.65503453e+02,   1.75847418e+02,\n",
      "         1.86191383e+02,   1.96535348e+02,   2.06879313e+02,\n",
      "         2.17223279e+02,   2.27567244e+02,   2.37911209e+02,\n",
      "         2.48255174e+02,   2.58599139e+02,   2.68943104e+02,\n",
      "         2.79287070e+02,   2.89631035e+02,   2.99975000e+02]),\n",
      "                       'sigma_b': array([  2.91291000e+04,   6.23261993e+02,   1.66054812e+02,\n",
      "         6.24106283e+01,   3.49621352e+01,   2.09879785e+01,\n",
      "         3.30790220e+01,   3.07666895e+01,   1.04963191e+02,\n",
      "         4.51696345e+01,   3.63845022e+01,   6.64385076e+01,\n",
      "         7.33319024e+01,   5.11151311e+01,   2.36082785e+01,\n",
      "         1.74270778e+01,   1.05840070e+02,   4.79631990e+01,\n",
      "         2.56582636e+01,   3.64787899e+01,   7.18118889e+01,\n",
      "         4.70390517e+01,   1.68235343e+01,   3.14575315e+01,\n",
      "         5.64580230e+01,   2.12112173e+01,   2.86928297e+01,\n",
      "         2.87750289e+01,   3.99812820e+01,   4.29220000e+01])},\n",
      "             '234-U': {'energy_eV': array([  1.00000000e-05,   1.03414924e+01,   2.06829748e+01,\n",
      "         3.10244572e+01,   4.13659397e+01,   5.17074221e+01,\n",
      "         6.20489045e+01,   7.23903869e+01,   8.27318693e+01,\n",
      "         9.30733517e+01,   1.03414834e+02,   1.13756317e+02,\n",
      "         1.24097799e+02,   1.34439281e+02,   1.44780764e+02,\n",
      "         1.55122246e+02,   1.65463729e+02,   1.75805211e+02,\n",
      "         1.86146693e+02,   1.96488176e+02,   2.06829658e+02,\n",
      "         2.17171141e+02,   2.27512623e+02,   2.37854106e+02,\n",
      "         2.48195588e+02,   2.58537070e+02,   2.68878553e+02,\n",
      "         2.79220035e+02,   2.89561518e+02,   2.99903000e+02]),\n",
      "                       'sigma_b': array([  5.25534000e+03,   1.18735608e+01,   8.99722786e+00,\n",
      "         1.96323836e+03,   8.58428106e+00,   1.10809251e+01,\n",
      "         8.59795574e+00,   7.24538577e+00,   8.18586002e+00,\n",
      "         5.52931864e+00,   9.61903267e+00,   1.39955699e+01,\n",
      "         9.73521566e+00,   8.57143017e+00,   5.58665451e+00,\n",
      "         1.14019925e+01,   7.48975078e+00,   3.26318740e+02,\n",
      "         6.45875336e+00,   1.44026415e+01,   1.07539848e+01,\n",
      "         1.11182807e+01,   1.15449760e+01,   1.54413544e+02,\n",
      "         9.84169810e+00,   1.10900796e+02,   9.33666778e+00,\n",
      "         9.47120716e+00,   4.36358352e+00,   1.00499000e+01])},\n",
      "             '235-U': {'energy_eV': array([  1.00000000e-05,   1.03445269e+01,   2.06890438e+01,\n",
      "         3.10335607e+01,   4.13780776e+01,   5.17225945e+01,\n",
      "         6.20671114e+01,   7.24116283e+01,   8.27561452e+01,\n",
      "         9.31006621e+01,   1.03445179e+02,   1.13789696e+02,\n",
      "         1.24134213e+02,   1.34478730e+02,   1.44823247e+02,\n",
      "         1.55167763e+02,   1.65512280e+02,   1.75856797e+02,\n",
      "         1.86201314e+02,   1.96545831e+02,   2.06890348e+02,\n",
      "         2.17234865e+02,   2.27579382e+02,   2.37923899e+02,\n",
      "         2.48268416e+02,   2.58612932e+02,   2.68957449e+02,\n",
      "         2.79301966e+02,   2.89646483e+02,   2.99991000e+02]),\n",
      "                       'sigma_b': array([  3.66976000e+04,   3.46453252e+01,   7.66611540e+01,\n",
      "         4.62595137e+01,   6.22378290e+01,   9.14117445e+01,\n",
      "         2.32344111e+01,   1.52910338e+02,   9.32542008e+01,\n",
      "         2.90116022e+01,   9.46032976e+01,   3.25648182e+01,\n",
      "         1.79819830e+01,   2.59747775e+01,   1.84051817e+01,\n",
      "         3.56665350e+01,   7.78279879e+01,   2.53113043e+01,\n",
      "         1.82270574e+01,   1.94948290e+01,   7.12518230e+01,\n",
      "         4.88839438e+01,   2.44995632e+01,   2.50783496e+01,\n",
      "         4.49630906e+01,   1.67542605e+01,   3.34923871e+01,\n",
      "         4.51348438e+01,   7.00971992e+01,   1.73266000e+01])},\n",
      "             '238-U': {'energy_eV': array([  1.00000000e-05,   1.03445269e+01,   2.06890438e+01,\n",
      "         3.10335607e+01,   4.13780776e+01,   5.17225945e+01,\n",
      "         6.20671114e+01,   7.24116283e+01,   8.27561452e+01,\n",
      "         9.31006621e+01,   1.03445179e+02,   1.13789696e+02,\n",
      "         1.24134213e+02,   1.34478730e+02,   1.44823247e+02,\n",
      "         1.55167763e+02,   1.65512280e+02,   1.75856797e+02,\n",
      "         1.86201314e+02,   1.96545831e+02,   2.06890348e+02,\n",
      "         2.17234865e+02,   2.27579382e+02,   2.37923899e+02,\n",
      "         2.48268416e+02,   2.58612932e+02,   2.68957449e+02,\n",
      "         2.79301966e+02,   2.89646483e+02,   2.99991000e+02]),\n",
      "                       'sigma_b': array([ 169.694     ,   10.47918595,  682.52353926,    7.26336734,\n",
      "         18.19946136,   11.60149832,    7.98812348,   13.43191565,\n",
      "         11.09449476,    8.7102194 ,  113.92438573,   10.95439101,\n",
      "         14.7233303 ,   12.44904567,   11.0441644 ,   10.45925756,\n",
      "        107.16249331,    7.45306635,    1.31852805,   22.18350529,\n",
      "          6.50463335,   16.53970287,   13.58848914,  110.63176759,\n",
      "         13.90589921,   12.71917991,   10.99753165,   13.80226309,\n",
      "          9.46712435,   12.992     ])},\n",
      "             'energy_ev': array([  1.00000000e-05,   1.03436303e+01,   2.06872507e+01,\n",
      "         3.10308710e+01,   4.13744914e+01,   5.17181117e+01,\n",
      "         6.20617321e+01,   7.24053524e+01,   8.27489728e+01,\n",
      "         9.30925931e+01,   1.03436213e+02,   1.13779834e+02,\n",
      "         1.24123454e+02,   1.34467074e+02,   1.44810695e+02,\n",
      "         1.55154315e+02,   1.65497936e+02,   1.75841556e+02,\n",
      "         1.86185176e+02,   1.96528797e+02,   2.06872417e+02,\n",
      "         2.17216037e+02,   2.27559658e+02,   2.37903278e+02,\n",
      "         2.48246898e+02,   2.58590519e+02,   2.68934139e+02,\n",
      "         2.79277759e+02,   2.89621380e+02,   2.99965000e+02]),\n",
      "             'sigma': array([ 432.97463373,   10.65325885,  678.12428614,    7.65171822,\n",
      "         18.51600877,   12.17610346,    8.0979303 ,   14.43582003,\n",
      "         11.68588467,    8.85621441,  113.7795371 ,   11.11015335,\n",
      "         14.74651825,   12.54621767,   11.09686356,   10.64080181,\n",
      "        106.94580287,    7.59918328,    1.44055217,   22.16371887,\n",
      "          6.97104683,   16.77228323,   13.66693648,  110.01819097,\n",
      "         14.12928745,   12.75363248,   11.15940326,   14.02761947,\n",
      "          9.9033802 ,   13.0230473 ])}}}\n"
     ]
    }
   ],
   "source": [
    "pprint.pprint(o_reso.stack_sigma)"
   ]
  },
  {
   "cell_type": "markdown",
   "metadata": {
    "run_control": {
     "frozen": false,
     "read_only": false
    }
   },
   "source": [
    "## Modify Isotopic Ratio "
   ]
  },
  {
   "cell_type": "markdown",
   "metadata": {
    "run_control": {
     "frozen": false,
     "read_only": false
    }
   },
   "source": [
    "Let's presume that the **U** layer of our sample does not have the default isotopic_ratio reported\n",
    "```\n",
    " U-233 -> 0\n",
    " U-234 -> 5.5e-5\n",
    " U-235 -> 0.007\n",
    " U-238 -> 0.99\n",
    "```\n",
    "\n",
    "but instead\n",
    "\n",
    "```\n",
    " U-233 -> 0\n",
    " U-234 -> 0\n",
    " U-235 -> 0.15\n",
    " U-238 -> 085\n",
    "```\n"
   ]
  },
  {
   "cell_type": "markdown",
   "metadata": {
    "run_control": {
     "frozen": false,
     "read_only": false
    }
   },
   "source": [
    "### Display current list of isotopic ratio "
   ]
  },
  {
   "cell_type": "markdown",
   "metadata": {
    "run_control": {
     "frozen": false,
     "read_only": false
    }
   },
   "source": [
    "To display all the stochiometric ratio"
   ]
  },
  {
   "cell_type": "code",
   "execution_count": 11,
   "metadata": {
    "run_control": {
     "frozen": false,
     "read_only": false
    }
   },
   "outputs": [
    {
     "name": "stdout",
     "output_type": "stream",
     "text": [
      "{'CoAg': {'Ag': {'107-Ag': 0.51839, '109-Ag': 0.48161000000000004},\n",
      "          'Co': {'58-Co': 0.0, '59-Co': 1.0}},\n",
      " 'U': {'U': {'233-U': 0.0,\n",
      "             '234-U': 5.4999999999999995e-05,\n",
      "             '235-U': 0.0072,\n",
      "             '238-U': 0.992745}}}\n"
     ]
    }
   ],
   "source": [
    "pprint.pprint(o_reso.get_stochiometric_ratio())"
   ]
  },
  {
   "cell_type": "markdown",
   "metadata": {
    "run_control": {
     "frozen": false,
     "read_only": false
    }
   },
   "source": [
    "From there, it's possible to narrow down the search to the compound and element we are looking for"
   ]
  },
  {
   "cell_type": "code",
   "execution_count": 12,
   "metadata": {
    "run_control": {
     "frozen": false,
     "read_only": false
    }
   },
   "outputs": [
    {
     "name": "stdout",
     "output_type": "stream",
     "text": [
      "{'233-U': 0.0,\n",
      " '234-U': 5.4999999999999995e-05,\n",
      " '235-U': 0.0072,\n",
      " '238-U': 0.992745}\n"
     ]
    }
   ],
   "source": [
    "pprint.pprint(o_reso.get_stochiometric_ratio(compound='U', element='U'))  "
   ]
  },
  {
   "cell_type": "markdown",
   "metadata": {
    "run_control": {
     "frozen": false,
     "read_only": false
    }
   },
   "source": [
    "if compound is composef of only 1 element, **element** parameter can be omitted"
   ]
  },
  {
   "cell_type": "code",
   "execution_count": 13,
   "metadata": {
    "run_control": {
     "frozen": false,
     "read_only": false
    }
   },
   "outputs": [
    {
     "name": "stdout",
     "output_type": "stream",
     "text": [
      "{'233-U': 0.0,\n",
      " '234-U': 5.4999999999999995e-05,\n",
      " '235-U': 0.0072,\n",
      " '238-U': 0.992745}\n"
     ]
    }
   ],
   "source": [
    "pprint.pprint(o_reso.get_stochiometric_ratio(compound='U'))"
   ]
  },
  {
   "cell_type": "markdown",
   "metadata": {
    "run_control": {
     "frozen": false,
     "read_only": false
    }
   },
   "source": [
    "### Define a new set of isotopic ratio"
   ]
  },
  {
   "cell_type": "code",
   "execution_count": 14,
   "metadata": {
    "run_control": {
     "frozen": false,
     "read_only": false
    }
   },
   "outputs": [],
   "source": [
    "new_list_ratio = [0.2, 0.3, 0.4, 0.1]\n",
    "o_reso.set_stochiometric_ratio(compound='U', list_ratio=new_list_ratio)"
   ]
  },
  {
   "cell_type": "markdown",
   "metadata": {
    "run_control": {
     "frozen": false,
     "read_only": false
    }
   },
   "source": [
    "Using **set_stochiometric_ratio**, the element *density* and *molar_mass* is automatically updated"
   ]
  },
  {
   "cell_type": "code",
   "execution_count": 15,
   "metadata": {
    "run_control": {
     "frozen": false,
     "read_only": false
    }
   },
   "outputs": [
    {
     "name": "stdout",
     "output_type": "stream",
     "text": [
      "{'CoAg': {'Ag': {'density': {'units': 'g/cm3', 'value': 10.5},\n",
      "                 'isotopes': {'density': {'units': 'g/cm3',\n",
      "                                          'value': [10.406250187729098,\n",
      "                                                    10.600899412431097]},\n",
      "                              'file_names': ['Ag-107.csv', 'Ag-109.csv'],\n",
      "                              'isotopic_ratio': [0.51839, 0.48161000000000004],\n",
      "                              'list': ['107-Ag', '109-Ag'],\n",
      "                              'mass': {'units': 'g/mol',\n",
      "                                       'value': [106.905093, 108.904756]}},\n",
      "                 'molar_mass': {'units': 'g/mol', 'value': 107.8682}},\n",
      "          'Co': {'density': {'units': 'g/cm3', 'value': 8.9},\n",
      "                 'isotopes': {'density': {'units': 'g/cm3',\n",
      "                                          'value': [8.749367803547068,\n",
      "                                                    8.900000030203689]},\n",
      "                              'file_names': ['Co-58.csv', 'Co-59.csv'],\n",
      "                              'isotopic_ratio': [0.0, 1.0],\n",
      "                              'list': ['58-Co', '59-Co'],\n",
      "                              'mass': {'units': 'g/mol',\n",
      "                                       'value': [57.9357576, 58.9332002]}},\n",
      "                 'molar_mass': {'units': 'g/mol', 'value': 58.9332}},\n",
      "          'atoms_per_cm3': {'Ag': 1.8051829472054791e+21,\n",
      "                            'Co': 1.8051829472054791e+21},\n",
      "          'density': {'units': 'g/cm3', 'value': 0.5},\n",
      "          'elements': ['Co', 'Ag'],\n",
      "          'stochiometric_ratio': [1, 1],\n",
      "          'thickness': {'units': 'mm', 'value': 0.025}},\n",
      " 'U': {'U': {'density': {'units': 'g/cm3', 'value': 18.680428927650006},\n",
      "             'isotopes': {'density': {'units': 'g/cm3',\n",
      "                                      'value': [18.552792392319066,\n",
      "                                                18.632509467526443,\n",
      "                                                18.712358690988417,\n",
      "                                                18.951741325328925]},\n",
      "                          'file_names': ['U-233.csv',\n",
      "                                         'U-234.csv',\n",
      "                                         'U-235.csv',\n",
      "                                         'U-238.csv'],\n",
      "                          'isotopic_ratio': [0.2, 0.3, 0.4, 0.1],\n",
      "                          'list': ['233-U', '234-U', '235-U', '238-U'],\n",
      "                          'mass': {'units': 'g/mol',\n",
      "                                   'value': [233.039628,\n",
      "                                             234.0409456,\n",
      "                                             235.0439231,\n",
      "                                             238.0507826]}},\n",
      "             'molar_mass': {'units': 'g/mol', 'value': 234.64285678}},\n",
      "       'atoms_per_cm3': {'U': 4.7943575106128917e+22},\n",
      "       'density': {'units': 'g/cm3', 'value': 18.949999999999999},\n",
      "       'elements': ['U'],\n",
      "       'stochiometric_ratio': [1],\n",
      "       'thickness': {'units': 'mm', 'value': 0.3}}}\n"
     ]
    }
   ],
   "source": [
    "pprint.pprint(o_reso.stack)"
   ]
  },
  {
   "cell_type": "markdown",
   "metadata": {
    "run_control": {
     "frozen": false,
     "read_only": false
    }
   },
   "source": [
    "### Define a new density "
   ]
  },
  {
   "cell_type": "markdown",
   "metadata": {
    "run_control": {
     "frozen": false,
     "read_only": false
    }
   },
   "source": [
    "First, let's check the densities already defined"
   ]
  },
  {
   "cell_type": "code",
   "execution_count": 26,
   "metadata": {
    "run_control": {
     "frozen": false,
     "read_only": false
    }
   },
   "outputs": [
    {
     "name": "stdout",
     "output_type": "stream",
     "text": [
      "{'CoAg': {'Ag': 10.5, 'Co': 8.9}, 'U': {'U': 18.680428927650006}}\n"
     ]
    }
   ],
   "source": [
    "pprint.pprint(o_reso.get_density())"
   ]
  },
  {
   "cell_type": "markdown",
   "metadata": {
    "run_control": {
     "frozen": false,
     "read_only": false
    }
   },
   "source": [
    "If we want to change the *Co* density to 20"
   ]
  },
  {
   "cell_type": "code",
   "execution_count": 27,
   "metadata": {
    "run_control": {
     "frozen": false,
     "read_only": false
    }
   },
   "outputs": [],
   "source": [
    "o_reso.set_density(compound='CoAg', element='Co', density=20)"
   ]
  },
  {
   "cell_type": "code",
   "execution_count": 28,
   "metadata": {
    "run_control": {
     "frozen": false,
     "read_only": false
    }
   },
   "outputs": [
    {
     "name": "stdout",
     "output_type": "stream",
     "text": [
      "{'CoAg': {'Ag': 10.5, 'Co': 20}, 'U': {'U': 18.680428927650006}}\n"
     ]
    }
   ],
   "source": [
    "pprint.pprint(o_reso.get_density())"
   ]
  },
  {
   "cell_type": "code",
   "execution_count": null,
   "metadata": {
    "run_control": {
     "frozen": false,
     "read_only": false
    }
   },
   "outputs": [],
   "source": []
  },
  {
   "cell_type": "code",
   "execution_count": null,
   "metadata": {
    "collapsed": true
   },
   "outputs": [],
   "source": []
  }
 ],
 "metadata": {
  "kernelspec": {
   "display_name": "Python 3",
   "language": "python",
   "name": "python3"
  },
  "language_info": {
   "codemirror_mode": {
    "name": "ipython",
    "version": 3
   },
   "file_extension": ".py",
   "mimetype": "text/x-python",
   "name": "python",
   "nbconvert_exporter": "python",
   "pygments_lexer": "ipython3",
   "version": "3.6.1"
  },
  "toc": {
   "colors": {
    "hover_highlight": "#DAA520",
    "running_highlight": "#FF0000",
    "selected_highlight": "#FFD700"
   },
   "moveMenuLeft": true,
   "nav_menu": {
    "height": "156px",
    "width": "252px"
   },
   "navigate_menu": true,
   "number_sections": true,
   "sideBar": true,
   "threshold": 4,
   "toc_cell": false,
   "toc_section_display": "block",
   "toc_window_display": false
  }
 },
 "nbformat": 4,
 "nbformat_minor": 2
}
