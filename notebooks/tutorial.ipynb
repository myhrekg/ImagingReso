{
 "cells": [
  {
   "cell_type": "code",
   "execution_count": 1,
   "metadata": {
    "collapsed": true,
    "run_control": {
     "frozen": false,
     "read_only": false
    }
   },
   "outputs": [],
   "source": [
    "import os\n",
    "import sys\n",
    "import re\n",
    "import pprint\n",
    "import numpy as np"
   ]
  },
  {
   "cell_type": "markdown",
   "metadata": {
    "run_control": {
     "frozen": false,
     "read_only": false
    }
   },
   "source": [
    "Add **ImagingReso** to python path"
   ]
  },
  {
   "cell_type": "code",
   "execution_count": 2,
   "metadata": {
    "collapsed": true,
    "run_control": {
     "frozen": false,
     "read_only": false
    }
   },
   "outputs": [],
   "source": [
    "root_folder = os.path.dirname(os.getcwd())\n",
    "sys.path.append(root_folder)\n",
    "import ImagingReso\n",
    "from ImagingReso.resonance import Resonance"
   ]
  },
  {
   "cell_type": "markdown",
   "metadata": {
    "run_control": {
     "frozen": false,
     "read_only": false
    }
   },
   "source": [
    "# Initialization"
   ]
  },
  {
   "cell_type": "markdown",
   "metadata": {
    "run_control": {
     "frozen": false,
     "read_only": false
    }
   },
   "source": [
    "Let's define our input\n",
    "\n",
    "**layer1**\n",
    "  - compound **CoAg** of thickness **0.025mm**\n",
    "\n",
    "**layer2**\n",
    "  - compound **U** of thickness **0.3mm**\n",
    "\n",
    "**global paramters**\n",
    "  - min energy of **0.001 ev**\n",
    "  - max energy of **300 ev**"
   ]
  },
  {
   "cell_type": "code",
   "execution_count": 3,
   "metadata": {
    "collapsed": true,
    "run_control": {
     "frozen": false,
     "read_only": false
    }
   },
   "outputs": [],
   "source": [
    "_energy_min = 0.001\n",
    "_energy_max = 300\n",
    "_energy_step = 0.1"
   ]
  },
  {
   "cell_type": "markdown",
   "metadata": {
    "run_control": {
     "frozen": false,
     "read_only": false
    }
   },
   "source": [
    "## Method 1"
   ]
  },
  {
   "cell_type": "code",
   "execution_count": 4,
   "metadata": {
    "collapsed": true,
    "run_control": {
     "frozen": false,
     "read_only": false
    }
   },
   "outputs": [],
   "source": [
    "_stack = {'CoAg': {'elements': ['Co','Ag'],\n",
    "                   'stoichiometric_ratio': [1,1],\n",
    "                   'thickness': {'value': 0.025,\n",
    "                                'units': 'mm'},\n",
    "                   'density': {'value': 0.5,\n",
    "                              'units': 'g/cm3'},\n",
    "                  },\n",
    "         'U': {'elements': ['U'],\n",
    "               'stoichiometric_ratio': [1],\n",
    "              'thickness': {'value': 0.3,\n",
    "                            'units': 'mm'},\n",
    "                'density': {'value': np.NaN,\n",
    "                            'units': 'g/cm3'},\n",
    "              },\n",
    "         }"
   ]
  },
  {
   "cell_type": "code",
   "execution_count": 5,
   "metadata": {
    "collapsed": true,
    "run_control": {
     "frozen": false,
     "read_only": false
    }
   },
   "outputs": [],
   "source": [
    "o_reso = Resonance(stack=_stack, energy_min=_energy_min, energy_max=_energy_max, energy_step=_energy_step)"
   ]
  },
  {
   "cell_type": "markdown",
   "metadata": {
    "run_control": {
     "frozen": false,
     "read_only": false
    }
   },
   "source": [
    "## Method 2"
   ]
  },
  {
   "cell_type": "code",
   "execution_count": 4,
   "metadata": {
    "collapsed": true,
    "run_control": {
     "frozen": false,
     "read_only": false
    }
   },
   "outputs": [],
   "source": [
    "_layer_1 = 'CoAg'\n",
    "_thickness_1 = 0.025 # mm\n",
    "_density_1 = 0.5 # g/cm3\n",
    "\n",
    "_layer_2 = 'U'\n",
    "_thickness_2 = 0.3"
   ]
  },
  {
   "cell_type": "code",
   "execution_count": 5,
   "metadata": {
    "collapsed": true,
    "run_control": {
     "frozen": false,
     "read_only": false
    }
   },
   "outputs": [],
   "source": [
    "o_reso = Resonance(energy_min=_energy_min, energy_max=_energy_max, energy_step=_energy_step)\n",
    "o_reso.add_layer(formula=_layer_1, thickness=_thickness_1, density=_density_1)\n",
    "o_reso.add_layer(formula=_layer_2, thickness=_thickness_2)"
   ]
  },
  {
   "cell_type": "markdown",
   "metadata": {
    "run_control": {
     "frozen": false,
     "read_only": false
    }
   },
   "source": [
    "# retrieve parameters "
   ]
  },
  {
   "cell_type": "markdown",
   "metadata": {
    "run_control": {
     "frozen": false,
     "read_only": false
    }
   },
   "source": [
    "To retrieve the stack defined, and also visualize the isotopes mass, ratio...etc automatically loaded by the program"
   ]
  },
  {
   "cell_type": "code",
   "execution_count": 6,
   "metadata": {
    "run_control": {
     "frozen": false,
     "read_only": false
    },
    "scrolled": false
   },
   "outputs": [
    {
     "name": "stdout",
     "output_type": "stream",
     "text": [
      "{'CoAg': {'Ag': {'density': {'units': 'g/cm3', 'value': 10.5},\n",
      "                 'isotopes': {'density': {'units': 'g/cm3',\n",
      "                                          'value': [10.406250187729098,\n",
      "                                                    10.600899412431097]},\n",
      "                              'file_names': ['Ag-107.csv', 'Ag-109.csv'],\n",
      "                              'isotopic_ratio': [0.51839, 0.48161000000000004],\n",
      "                              'list': ['107-Ag', '109-Ag'],\n",
      "                              'mass': {'units': 'g/mol',\n",
      "                                       'value': [106.905093, 108.904756]}},\n",
      "                 'molar_mass': {'units': 'g/mol', 'value': 107.8682}},\n",
      "          'Co': {'density': {'units': 'g/cm3', 'value': 8.9},\n",
      "                 'isotopes': {'density': {'units': 'g/cm3',\n",
      "                                          'value': [8.749367803547068,\n",
      "                                                    8.900000030203689]},\n",
      "                              'file_names': ['Co-58.csv', 'Co-59.csv'],\n",
      "                              'isotopic_ratio': [0.0, 1.0],\n",
      "                              'list': ['58-Co', '59-Co'],\n",
      "                              'mass': {'units': 'g/mol',\n",
      "                                       'value': [57.9357576, 58.9332002]}},\n",
      "                 'molar_mass': {'units': 'g/mol', 'value': 58.9332}},\n",
      "          'atoms_per_cm3': {'Ag': 1.8051829472054791e+21,\n",
      "                            'Co': 1.8051829472054791e+21},\n",
      "          'density': {'units': 'g/cm3', 'value': 0.5},\n",
      "          'elements': ['Co', 'Ag'],\n",
      "          'stoichiometric_ratio': [1, 1],\n",
      "          'thickness': {'units': 'mm', 'value': 0.025}},\n",
      " 'U': {'U': {'density': {'units': 'g/cm3', 'value': 18.95},\n",
      "             'isotopes': {'density': {'units': 'g/cm3',\n",
      "                                      'value': [18.552792392319066,\n",
      "                                                18.632509467526443,\n",
      "                                                18.712358690988417,\n",
      "                                                18.951741325328925]},\n",
      "                          'file_names': ['U-233.csv',\n",
      "                                         'U-234.csv',\n",
      "                                         'U-235.csv',\n",
      "                                         'U-238.csv'],\n",
      "                          'isotopic_ratio': [0.0,\n",
      "                                             5.4999999999999995e-05,\n",
      "                                             0.0072,\n",
      "                                             0.992745],\n",
      "                          'list': ['233-U', '234-U', '235-U', '238-U'],\n",
      "                          'mass': {'units': 'g/mol',\n",
      "                                   'value': [233.039628,\n",
      "                                             234.0409456,\n",
      "                                             235.0439231,\n",
      "                                             238.0507826]}},\n",
      "             'molar_mass': {'units': 'g/mol', 'value': 238.02891}},\n",
      "       'atoms_per_cm3': {'U': 4.7943575106128917e+22},\n",
      "       'density': {'units': 'g/cm3', 'value': 18.949999999999999},\n",
      "       'elements': ['U'],\n",
      "       'stoichiometric_ratio': [1],\n",
      "       'thickness': {'units': 'mm', 'value': 0.3}}}\n"
     ]
    }
   ],
   "source": [
    "pprint.pprint(o_reso.stack)"
   ]
  },
  {
   "cell_type": "markdown",
   "metadata": {},
   "source": [
    "or you can also simply print the object"
   ]
  },
  {
   "cell_type": "code",
   "execution_count": 7,
   "metadata": {},
   "outputs": [
    {
     "name": "stdout",
     "output_type": "stream",
     "text": [
      "{\n",
      "    \"CoAg\": {\n",
      "        \"elements\": [\n",
      "            \"Co\",\n",
      "            \"Ag\"\n",
      "        ],\n",
      "        \"stoichiometric_ratio\": [\n",
      "            1,\n",
      "            1\n",
      "        ],\n",
      "        \"thickness\": {\n",
      "            \"value\": 0.025,\n",
      "            \"units\": \"mm\"\n",
      "        },\n",
      "        \"density\": {\n",
      "            \"value\": 0.5,\n",
      "            \"units\": \"g/cm3\"\n",
      "        },\n",
      "        \"Co\": {\n",
      "            \"isotopes\": {\n",
      "                \"list\": [\n",
      "                    \"58-Co\",\n",
      "                    \"59-Co\"\n",
      "                ],\n",
      "                \"file_names\": [\n",
      "                    \"Co-58.csv\",\n",
      "                    \"Co-59.csv\"\n",
      "                ],\n",
      "                \"density\": {\n",
      "                    \"value\": [\n",
      "                        8.749367803547068,\n",
      "                        8.900000030203689\n",
      "                    ],\n",
      "                    \"units\": \"g/cm3\"\n",
      "                },\n",
      "                \"mass\": {\n",
      "                    \"value\": [\n",
      "                        57.9357576,\n",
      "                        58.9332002\n",
      "                    ],\n",
      "                    \"units\": \"g/mol\"\n",
      "                },\n",
      "                \"isotopic_ratio\": [\n",
      "                    0.0,\n",
      "                    1.0\n",
      "                ]\n",
      "            },\n",
      "            \"density\": {\n",
      "                \"value\": 8.9,\n",
      "                \"units\": \"g/cm3\"\n",
      "            },\n",
      "            \"molar_mass\": {\n",
      "                \"value\": 58.9332,\n",
      "                \"units\": \"g/mol\"\n",
      "            }\n",
      "        },\n",
      "        \"Ag\": {\n",
      "            \"isotopes\": {\n",
      "                \"list\": [\n",
      "                    \"107-Ag\",\n",
      "                    \"109-Ag\"\n",
      "                ],\n",
      "                \"file_names\": [\n",
      "                    \"Ag-107.csv\",\n",
      "                    \"Ag-109.csv\"\n",
      "                ],\n",
      "                \"density\": {\n",
      "                    \"value\": [\n",
      "                        10.406250187729098,\n",
      "                        10.600899412431097\n",
      "                    ],\n",
      "                    \"units\": \"g/cm3\"\n",
      "                },\n",
      "                \"mass\": {\n",
      "                    \"value\": [\n",
      "                        106.905093,\n",
      "                        108.904756\n",
      "                    ],\n",
      "                    \"units\": \"g/mol\"\n",
      "                },\n",
      "                \"isotopic_ratio\": [\n",
      "                    0.51839,\n",
      "                    0.48161000000000004\n",
      "                ]\n",
      "            },\n",
      "            \"density\": {\n",
      "                \"value\": 10.5,\n",
      "                \"units\": \"g/cm3\"\n",
      "            },\n",
      "            \"molar_mass\": {\n",
      "                \"value\": 107.8682,\n",
      "                \"units\": \"g/mol\"\n",
      "            }\n",
      "        },\n",
      "        \"atoms_per_cm3\": {\n",
      "            \"Co\": 1.8051829472054791e+21,\n",
      "            \"Ag\": 1.8051829472054791e+21\n",
      "        }\n",
      "    },\n",
      "    \"U\": {\n",
      "        \"elements\": [\n",
      "            \"U\"\n",
      "        ],\n",
      "        \"stoichiometric_ratio\": [\n",
      "            1\n",
      "        ],\n",
      "        \"thickness\": {\n",
      "            \"value\": 0.3,\n",
      "            \"units\": \"mm\"\n",
      "        },\n",
      "        \"density\": {\n",
      "            \"value\": 18.95,\n",
      "            \"units\": \"g/cm3\"\n",
      "        },\n",
      "        \"U\": {\n",
      "            \"isotopes\": {\n",
      "                \"list\": [\n",
      "                    \"233-U\",\n",
      "                    \"234-U\",\n",
      "                    \"235-U\",\n",
      "                    \"238-U\"\n",
      "                ],\n",
      "                \"file_names\": [\n",
      "                    \"U-233.csv\",\n",
      "                    \"U-234.csv\",\n",
      "                    \"U-235.csv\",\n",
      "                    \"U-238.csv\"\n",
      "                ],\n",
      "                \"density\": {\n",
      "                    \"value\": [\n",
      "                        18.552792392319066,\n",
      "                        18.632509467526443,\n",
      "                        18.712358690988417,\n",
      "                        18.951741325328925\n",
      "                    ],\n",
      "                    \"units\": \"g/cm3\"\n",
      "                },\n",
      "                \"mass\": {\n",
      "                    \"value\": [\n",
      "                        233.039628,\n",
      "                        234.0409456,\n",
      "                        235.0439231,\n",
      "                        238.0507826\n",
      "                    ],\n",
      "                    \"units\": \"g/mol\"\n",
      "                },\n",
      "                \"isotopic_ratio\": [\n",
      "                    0.0,\n",
      "                    5.4999999999999995e-05,\n",
      "                    0.0072,\n",
      "                    0.992745\n",
      "                ]\n",
      "            },\n",
      "            \"density\": {\n",
      "                \"value\": 18.95,\n",
      "                \"units\": \"g/cm3\"\n",
      "            },\n",
      "            \"molar_mass\": {\n",
      "                \"value\": 238.02891,\n",
      "                \"units\": \"g/mol\"\n",
      "            }\n",
      "        },\n",
      "        \"atoms_per_cm3\": {\n",
      "            \"U\": 4.794357510612892e+22\n",
      "        }\n",
      "    }\n",
      "}\n"
     ]
    }
   ],
   "source": [
    "print(o_reso)"
   ]
  },
  {
   "cell_type": "markdown",
   "metadata": {},
   "source": [
    "or also, by just calling the object itself"
   ]
  },
  {
   "cell_type": "code",
   "execution_count": 10,
   "metadata": {},
   "outputs": [
    {
     "data": {
      "text/plain": [
       "{\n",
       "    \"CoAg\": {\n",
       "        \"elements\": [\n",
       "            \"Co\",\n",
       "            \"Ag\"\n",
       "        ],\n",
       "        \"stoichiometric_ratio\": [\n",
       "            1,\n",
       "            1\n",
       "        ],\n",
       "        \"thickness\": {\n",
       "            \"value\": 0.025,\n",
       "            \"units\": \"mm\"\n",
       "        },\n",
       "        \"density\": {\n",
       "            \"value\": 0.5,\n",
       "            \"units\": \"g/cm3\"\n",
       "        },\n",
       "        \"Co\": {\n",
       "            \"isotopes\": {\n",
       "                \"list\": [\n",
       "                    \"58-Co\",\n",
       "                    \"59-Co\"\n",
       "                ],\n",
       "                \"file_names\": [\n",
       "                    \"Co-58.csv\",\n",
       "                    \"Co-59.csv\"\n",
       "                ],\n",
       "                \"density\": {\n",
       "                    \"value\": [\n",
       "                        8.749367803547068,\n",
       "                        8.900000030203689\n",
       "                    ],\n",
       "                    \"units\": \"g/cm3\"\n",
       "                },\n",
       "                \"mass\": {\n",
       "                    \"value\": [\n",
       "                        57.9357576,\n",
       "                        58.9332002\n",
       "                    ],\n",
       "                    \"units\": \"g/mol\"\n",
       "                },\n",
       "                \"isotopic_ratio\": [\n",
       "                    0.0,\n",
       "                    1.0\n",
       "                ]\n",
       "            },\n",
       "            \"density\": {\n",
       "                \"value\": 8.9,\n",
       "                \"units\": \"g/cm3\"\n",
       "            },\n",
       "            \"molar_mass\": {\n",
       "                \"value\": 58.9332,\n",
       "                \"units\": \"g/mol\"\n",
       "            }\n",
       "        },\n",
       "        \"Ag\": {\n",
       "            \"isotopes\": {\n",
       "                \"list\": [\n",
       "                    \"107-Ag\",\n",
       "                    \"109-Ag\"\n",
       "                ],\n",
       "                \"file_names\": [\n",
       "                    \"Ag-107.csv\",\n",
       "                    \"Ag-109.csv\"\n",
       "                ],\n",
       "                \"density\": {\n",
       "                    \"value\": [\n",
       "                        10.406250187729098,\n",
       "                        10.600899412431097\n",
       "                    ],\n",
       "                    \"units\": \"g/cm3\"\n",
       "                },\n",
       "                \"mass\": {\n",
       "                    \"value\": [\n",
       "                        106.905093,\n",
       "                        108.904756\n",
       "                    ],\n",
       "                    \"units\": \"g/mol\"\n",
       "                },\n",
       "                \"isotopic_ratio\": [\n",
       "                    0.51839,\n",
       "                    0.48161000000000004\n",
       "                ]\n",
       "            },\n",
       "            \"density\": {\n",
       "                \"value\": 10.5,\n",
       "                \"units\": \"g/cm3\"\n",
       "            },\n",
       "            \"molar_mass\": {\n",
       "                \"value\": 107.8682,\n",
       "                \"units\": \"g/mol\"\n",
       "            }\n",
       "        },\n",
       "        \"atoms_per_cm3\": {\n",
       "            \"Co\": 1.8051829472054791e+21,\n",
       "            \"Ag\": 1.8051829472054791e+21\n",
       "        }\n",
       "    },\n",
       "    \"U\": {\n",
       "        \"elements\": [\n",
       "            \"U\"\n",
       "        ],\n",
       "        \"stoichiometric_ratio\": [\n",
       "            1\n",
       "        ],\n",
       "        \"thickness\": {\n",
       "            \"value\": 0.3,\n",
       "            \"units\": \"mm\"\n",
       "        },\n",
       "        \"density\": {\n",
       "            \"value\": 18.95,\n",
       "            \"units\": \"g/cm3\"\n",
       "        },\n",
       "        \"U\": {\n",
       "            \"isotopes\": {\n",
       "                \"list\": [\n",
       "                    \"233-U\",\n",
       "                    \"234-U\",\n",
       "                    \"235-U\",\n",
       "                    \"238-U\"\n",
       "                ],\n",
       "                \"file_names\": [\n",
       "                    \"U-233.csv\",\n",
       "                    \"U-234.csv\",\n",
       "                    \"U-235.csv\",\n",
       "                    \"U-238.csv\"\n",
       "                ],\n",
       "                \"density\": {\n",
       "                    \"value\": [\n",
       "                        18.552792392319066,\n",
       "                        18.632509467526443,\n",
       "                        18.712358690988417,\n",
       "                        18.951741325328925\n",
       "                    ],\n",
       "                    \"units\": \"g/cm3\"\n",
       "                },\n",
       "                \"mass\": {\n",
       "                    \"value\": [\n",
       "                        233.039628,\n",
       "                        234.0409456,\n",
       "                        235.0439231,\n",
       "                        238.0507826\n",
       "                    ],\n",
       "                    \"units\": \"g/mol\"\n",
       "                },\n",
       "                \"isotopic_ratio\": [\n",
       "                    0.0,\n",
       "                    5.4999999999999995e-05,\n",
       "                    0.0072,\n",
       "                    0.992745\n",
       "                ]\n",
       "            },\n",
       "            \"density\": {\n",
       "                \"value\": 18.95,\n",
       "                \"units\": \"g/cm3\"\n",
       "            },\n",
       "            \"molar_mass\": {\n",
       "                \"value\": 238.02891,\n",
       "                \"units\": \"g/mol\"\n",
       "            }\n",
       "        },\n",
       "        \"atoms_per_cm3\": {\n",
       "            \"U\": 4.794357510612892e+22\n",
       "        }\n",
       "    }\n",
       "}"
      ]
     },
     "execution_count": 10,
     "metadata": {},
     "output_type": "execute_result"
    }
   ],
   "source": [
    "o_reso"
   ]
  },
  {
   "cell_type": "markdown",
   "metadata": {
    "run_control": {
     "frozen": false,
     "read_only": false
    }
   },
   "source": [
    "Energy range"
   ]
  },
  {
   "cell_type": "code",
   "execution_count": 8,
   "metadata": {
    "run_control": {
     "frozen": false,
     "read_only": false
    }
   },
   "outputs": [
    {
     "name": "stdout",
     "output_type": "stream",
     "text": [
      "Energy min 0.001 eV\n",
      "Energy max 300 eV\n",
      "Energy step 0.1 eV\n"
     ]
    }
   ],
   "source": [
    "print(\"Energy min {} eV\".format(o_reso.energy_min))\n",
    "print(\"Energy max {} eV\".format(o_reso.energy_max))\n",
    "print(\"Energy step {} eV\".format(o_reso.energy_step))"
   ]
  },
  {
   "cell_type": "markdown",
   "metadata": {
    "run_control": {
     "frozen": false,
     "read_only": false
    }
   },
   "source": [
    "You can also retrieve the arrays of sigma (cross section) vs Energy (eV) for each of the isotopes and elements"
   ]
  },
  {
   "cell_type": "code",
   "execution_count": 9,
   "metadata": {
    "run_control": {
     "frozen": false,
     "read_only": false
    },
    "scrolled": true
   },
   "outputs": [
    {
     "name": "stdout",
     "output_type": "stream",
     "text": [
      "{'CoAg': {'Ag': {'107-Ag': {'energy_eV': array([  1.00000000e-03,   1.01066378e-01,   2.01132755e-01, ...,\n",
      "         2.99799867e+02,   2.99899934e+02,   3.00000000e+02]),\n",
      "                            'sigma_b': array([ 102.64980783,   13.45129014,   10.53201144, ...,    2.1350554 ,\n",
      "          2.13052235,    2.12610206])},\n",
      "                 '109-Ag': {'energy_eV': array([  1.00000000e-03,   1.01066378e-01,   2.01132755e-01, ...,\n",
      "         2.99799867e+02,   2.99899934e+02,   3.00000000e+02]),\n",
      "                            'sigma_b': array([ 218.08019051,   23.57107209,   17.65357783, ...,    2.12255822,\n",
      "          2.31548124,    2.62704885])},\n",
      "                 'energy_eV': array([  1.00000000e-03,   1.01066378e-01,   2.01132755e-01, ...,\n",
      "         2.99799867e+02,   2.99899934e+02,   3.00000000e+02]),\n",
      "                 'sigma_b': array([ 320.72999835,   37.02236223,   28.18558927, ...,    4.25761362,\n",
      "          4.44600359,    4.7531509 ])},\n",
      "          'Co': {'58-Co': {'energy_eV': array([  1.00000000e-03,   1.01066378e-01,   2.01132755e-01, ...,\n",
      "         2.99799867e+02,   2.99899934e+02,   3.00000000e+02]),\n",
      "                           'sigma_b': array([ 0.,  0.,  0., ...,  0.,  0.,  0.])},\n",
      "                 '59-Co': {'energy_eV': array([  1.00000000e-03,   1.01066378e-01,   2.01132755e-01, ...,\n",
      "         2.99799867e+02,   2.99899934e+02,   3.00000000e+02]),\n",
      "                           'sigma_b': array([ 194.21106714,   24.62743509,   19.20835263, ...,   10.83743753,\n",
      "         10.8305248 ,   10.82361207])},\n",
      "                 'energy_eV': array([  1.00000000e-03,   1.01066378e-01,   2.01132755e-01, ...,\n",
      "         2.99799867e+02,   2.99899934e+02,   3.00000000e+02]),\n",
      "                 'sigma_b': array([ 194.21106714,   24.62743509,   19.20835263, ...,   10.83743753,\n",
      "         10.8305248 ,   10.82361207])}},\n",
      " 'U': {'U': {'233-U': {'energy_eV': array([  1.00000000e-03,   1.01066378e-01,   2.01132755e-01, ...,\n",
      "         2.99799867e+02,   2.99899934e+02,   3.00000000e+02]),\n",
      "                       'sigma_b': array([ 0.,  0.,  0., ...,  0.,  0.,  0.])},\n",
      "             '234-U': {'energy_eV': array([  1.00000000e-03,   1.01066378e-01,   2.01132755e-01, ...,\n",
      "         2.99799867e+02,   2.99899934e+02,   3.00000000e+02]),\n",
      "                       'sigma_b': array([ 0.02952658,  0.0035349 ,  0.0026033 , ...,  0.00055421,\n",
      "        0.00055279,  0.00055137])},\n",
      "             '235-U': {'energy_eV': array([  1.00000000e-03,   1.01066378e-01,   2.01132755e-01, ...,\n",
      "         2.99799867e+02,   2.99899934e+02,   3.00000000e+02]),\n",
      "                       'sigma_b': array([ 26.41049616,   2.26829471,   1.69626654, ...,   0.11994625,\n",
      "         0.12166835,   0.12516867])},\n",
      "             '238-U': {'energy_eV': array([  1.00000000e-03,   1.01066378e-01,   2.01132755e-01, ...,\n",
      "         2.99799867e+02,   2.99899934e+02,   3.00000000e+02]),\n",
      "                       'sigma_b': array([ 23.00854657,  10.50158009,  10.10052417, ...,  12.91729016,\n",
      "        12.90705638,  12.8968239 ])},\n",
      "             'energy_eV': array([  1.00000000e-03,   1.01066378e-01,   2.01132755e-01, ...,\n",
      "         2.99799867e+02,   2.99899934e+02,   3.00000000e+02]),\n",
      "             'sigma_b': array([ 49.44856931,  12.7734097 ,  11.79939402, ...,  13.03779061,\n",
      "        13.02927752,  13.02254394])}}}\n"
     ]
    }
   ],
   "source": [
    "pprint.pprint(o_reso.stack_sigma)"
   ]
  },
  {
   "cell_type": "markdown",
   "metadata": {
    "run_control": {
     "frozen": false,
     "read_only": false
    }
   },
   "source": [
    "## Modify Isotopic Ratio "
   ]
  },
  {
   "cell_type": "markdown",
   "metadata": {
    "run_control": {
     "frozen": false,
     "read_only": false
    }
   },
   "source": [
    "Let's presume that the **U** layer of our sample does not have the default isotopic_ratio reported\n",
    "```\n",
    " U-233 -> 0\n",
    " U-234 -> 5.5e-5\n",
    " U-235 -> 0.007\n",
    " U-238 -> 0.99\n",
    "```\n",
    "\n",
    "but instead\n",
    "\n",
    "```\n",
    " U-233 -> 0\n",
    " U-234 -> 0\n",
    " U-235 -> 0.15\n",
    " U-238 -> 0.85\n",
    "```\n"
   ]
  },
  {
   "cell_type": "markdown",
   "metadata": {
    "run_control": {
     "frozen": false,
     "read_only": false
    }
   },
   "source": [
    "### Display current list of isotopic ratio "
   ]
  },
  {
   "cell_type": "markdown",
   "metadata": {
    "run_control": {
     "frozen": false,
     "read_only": false
    }
   },
   "source": [
    "To display all the isotopic ratio"
   ]
  },
  {
   "cell_type": "code",
   "execution_count": 10,
   "metadata": {
    "run_control": {
     "frozen": false,
     "read_only": false
    }
   },
   "outputs": [
    {
     "name": "stdout",
     "output_type": "stream",
     "text": [
      "{'CoAg': {'Ag': {'107-Ag': 0.51839, '109-Ag': 0.48161000000000004},\n",
      "          'Co': {'58-Co': 0.0, '59-Co': 1.0}},\n",
      " 'U': {'U': {'233-U': 0.0,\n",
      "             '234-U': 5.4999999999999995e-05,\n",
      "             '235-U': 0.0072,\n",
      "             '238-U': 0.992745}}}\n"
     ]
    }
   ],
   "source": [
    "pprint.pprint(o_reso.get_isotopic_ratio())"
   ]
  },
  {
   "cell_type": "markdown",
   "metadata": {
    "run_control": {
     "frozen": false,
     "read_only": false
    }
   },
   "source": [
    "From there, it's possible to narrow down the search to the compound and element we are looking for"
   ]
  },
  {
   "cell_type": "code",
   "execution_count": 11,
   "metadata": {
    "run_control": {
     "frozen": false,
     "read_only": false
    }
   },
   "outputs": [
    {
     "name": "stdout",
     "output_type": "stream",
     "text": [
      "{'233-U': 0.0,\n",
      " '234-U': 5.4999999999999995e-05,\n",
      " '235-U': 0.0072,\n",
      " '238-U': 0.992745}\n"
     ]
    }
   ],
   "source": [
    "pprint.pprint(o_reso.get_isotopic_ratio(compound='U', element='U'))  "
   ]
  },
  {
   "cell_type": "markdown",
   "metadata": {
    "run_control": {
     "frozen": false,
     "read_only": false
    }
   },
   "source": [
    "if compound is composef of only 1 element, **element** parameter can be omitted"
   ]
  },
  {
   "cell_type": "code",
   "execution_count": 12,
   "metadata": {
    "run_control": {
     "frozen": false,
     "read_only": false
    }
   },
   "outputs": [
    {
     "name": "stdout",
     "output_type": "stream",
     "text": [
      "{'233-U': 0.0,\n",
      " '234-U': 5.4999999999999995e-05,\n",
      " '235-U': 0.0072,\n",
      " '238-U': 0.992745}\n"
     ]
    }
   ],
   "source": [
    "pprint.pprint(o_reso.get_isotopic_ratio(compound='U'))"
   ]
  },
  {
   "cell_type": "markdown",
   "metadata": {
    "run_control": {
     "frozen": false,
     "read_only": false
    }
   },
   "source": [
    "### Define a new set of isotopic ratio"
   ]
  },
  {
   "cell_type": "code",
   "execution_count": 13,
   "metadata": {
    "collapsed": true,
    "run_control": {
     "frozen": false,
     "read_only": false
    }
   },
   "outputs": [],
   "source": [
    "new_list_ratio = [0., 0., 0.15, 0.85]\n",
    "o_reso.set_isotopic_ratio(compound='U', list_ratio=new_list_ratio)"
   ]
  },
  {
   "cell_type": "markdown",
   "metadata": {
    "run_control": {
     "frozen": false,
     "read_only": false
    }
   },
   "source": [
    "Using **set_isotopic_ratio**, the element *density* and *molar_mass* is automatically updated"
   ]
  },
  {
   "cell_type": "code",
   "execution_count": 14,
   "metadata": {
    "run_control": {
     "frozen": false,
     "read_only": false
    }
   },
   "outputs": [
    {
     "name": "stdout",
     "output_type": "stream",
     "text": [
      "{'CoAg': {'Ag': {'density': {'units': 'g/cm3', 'value': 10.5},\n",
      "                 'isotopes': {'density': {'units': 'g/cm3',\n",
      "                                          'value': [10.406250187729098,\n",
      "                                                    10.600899412431097]},\n",
      "                              'file_names': ['Ag-107.csv', 'Ag-109.csv'],\n",
      "                              'isotopic_ratio': [0.51839, 0.48161000000000004],\n",
      "                              'list': ['107-Ag', '109-Ag'],\n",
      "                              'mass': {'units': 'g/mol',\n",
      "                                       'value': [106.905093, 108.904756]}},\n",
      "                 'molar_mass': {'units': 'g/mol', 'value': 107.8682}},\n",
      "          'Co': {'density': {'units': 'g/cm3', 'value': 8.9},\n",
      "                 'isotopes': {'density': {'units': 'g/cm3',\n",
      "                                          'value': [8.749367803547068,\n",
      "                                                    8.900000030203689]},\n",
      "                              'file_names': ['Co-58.csv', 'Co-59.csv'],\n",
      "                              'isotopic_ratio': [0.0, 1.0],\n",
      "                              'list': ['58-Co', '59-Co'],\n",
      "                              'mass': {'units': 'g/mol',\n",
      "                                       'value': [57.9357576, 58.9332002]}},\n",
      "                 'molar_mass': {'units': 'g/mol', 'value': 58.9332}},\n",
      "          'atoms_per_cm3': {'Ag': 1.8051829472054791e+21,\n",
      "                            'Co': 1.8051829472054791e+21},\n",
      "          'density': {'units': 'g/cm3', 'value': 0.5},\n",
      "          'elements': ['Co', 'Ag'],\n",
      "          'stoichiometric_ratio': [1, 1],\n",
      "          'thickness': {'units': 'mm', 'value': 0.025}},\n",
      " 'U': {'U': {'density': {'units': 'g/cm3', 'value': 18.915833930177847},\n",
      "             'isotopes': {'density': {'units': 'g/cm3',\n",
      "                                      'value': [18.552792392319066,\n",
      "                                                18.632509467526443,\n",
      "                                                18.712358690988417,\n",
      "                                                18.951741325328925]},\n",
      "                          'file_names': ['U-233.csv',\n",
      "                                         'U-234.csv',\n",
      "                                         'U-235.csv',\n",
      "                                         'U-238.csv'],\n",
      "                          'isotopic_ratio': [0.0, 0.0, 0.15, 0.85],\n",
      "                          'list': ['233-U', '234-U', '235-U', '238-U'],\n",
      "                          'mass': {'units': 'g/mol',\n",
      "                                   'value': [233.039628,\n",
      "                                             234.0409456,\n",
      "                                             235.0439231,\n",
      "                                             238.0507826]}},\n",
      "             'molar_mass': {'units': 'g/mol', 'value': 237.599753675}},\n",
      "       'atoms_per_cm3': {'U': 4.7943575106128909e+22},\n",
      "       'density': {'units': 'g/cm3', 'value': 18.915833930177847},\n",
      "       'elements': ['U'],\n",
      "       'stoichiometric_ratio': [1],\n",
      "       'thickness': {'units': 'mm', 'value': 0.3}}}\n"
     ]
    }
   ],
   "source": [
    "pprint.pprint(o_reso.stack)"
   ]
  },
  {
   "cell_type": "markdown",
   "metadata": {
    "collapsed": true,
    "run_control": {
     "frozen": false,
     "read_only": false
    }
   },
   "source": [
    "## Preview the Transmission and Attenuation signals "
   ]
  },
  {
   "cell_type": "markdown",
   "metadata": {
    "run_control": {
     "frozen": false,
     "read_only": false
    }
   },
   "source": [
    "Those arrays for each Compound, element and isotopes are calculated during initialization of the object, but also \n",
    "every time one of the parameters is modified, such as density, stochiometric coefficient.\n",
    "\n",
    "Those arrays are store in the **stack_signal** dictionary"
   ]
  },
  {
   "cell_type": "code",
   "execution_count": 15,
   "metadata": {
    "run_control": {
     "frozen": false,
     "read_only": false
    }
   },
   "outputs": [
    {
     "name": "stdout",
     "output_type": "stream",
     "text": [
      "{'CoAg': {'Ag': {'107-Ag': {'attenuation': array([  4.63146921e-04,   6.07032564e-05,   4.75293891e-05, ...,\n",
      "         9.63536758e-06,   9.61491032e-06,   9.59496191e-06]),\n",
      "                            'energy_eV': array([  1.00000000e-03,   1.01066378e-01,   2.01132755e-01, ...,\n",
      "         2.99799867e+02,   2.99899934e+02,   3.00000000e+02]),\n",
      "                            'transmission': array([ 0.99953685,  0.9999393 ,  0.99995247, ...,  0.99999036,\n",
      "        0.99999039,  0.99999041])},\n",
      "                 '109-Ag': {'attenuation': array([  9.83702450e-04,   1.06369586e-04,   7.96666706e-05, ...,\n",
      "         9.57896888e-06,   1.04496135e-05,   1.18556892e-05]),\n",
      "                            'energy_eV': array([  1.00000000e-03,   1.01066378e-01,   2.01132755e-01, ...,\n",
      "         2.99799867e+02,   2.99899934e+02,   3.00000000e+02]),\n",
      "                            'transmission': array([ 0.9990163 ,  0.99989363,  0.99992033, ...,  0.99999042,\n",
      "        0.99998955,  0.99998814])},\n",
      "                 'attenuation': array([  1.44639377e-03,   1.67066385e-04,   1.27192273e-04, ...,\n",
      "         1.92142442e-05,   2.00644234e-05,   2.14505373e-05]),\n",
      "                 'energy_eV': array([  1.00000000e-03,   1.01066378e-01,   2.01132755e-01, ...,\n",
      "         2.99799867e+02,   2.99899934e+02,   3.00000000e+02]),\n",
      "                 'transmission': array([ 0.99855361,  0.99983293,  0.99987281, ...,  0.99998079,\n",
      "        0.99997994,  0.99997855])},\n",
      "          'Co': {'58-Co': {'attenuation': array([ 0.,  0.,  0., ...,  0.,  0.,  0.]),\n",
      "                           'energy_eV': array([  1.00000000e-03,   1.01066378e-01,   2.01132755e-01, ...,\n",
      "         2.99799867e+02,   2.99899934e+02,   3.00000000e+02]),\n",
      "                           'transmission': array([ 1.,  1.,  1., ...,  1.,  1.,  1.])},\n",
      "                 '59-Co': {'attenuation': array([  8.76082282e-04,   1.11136389e-04,   8.66827194e-05, ...,\n",
      "         4.89076975e-05,   4.88765022e-05,   4.88453069e-05]),\n",
      "                           'energy_eV': array([  1.00000000e-03,   1.01066378e-01,   2.01132755e-01, ...,\n",
      "         2.99799867e+02,   2.99899934e+02,   3.00000000e+02]),\n",
      "                           'transmission': array([ 0.99912392,  0.99988886,  0.99991332, ...,  0.99995109,\n",
      "        0.99995112,  0.99995115])},\n",
      "                 'attenuation': array([  8.76082282e-04,   1.11136389e-04,   8.66827194e-05, ...,\n",
      "         4.89076975e-05,   4.88765022e-05,   4.88453069e-05]),\n",
      "                 'energy_eV': array([  1.00000000e-03,   1.01066378e-01,   2.01132755e-01, ...,\n",
      "         2.99799867e+02,   2.99899934e+02,   3.00000000e+02]),\n",
      "                 'transmission': array([ 0.99912392,  0.99988886,  0.99991332, ...,  0.99995109,\n",
      "        0.99995112,  0.99995115])},\n",
      "          'attenuation': array([  2.32120889e-03,   2.78184207e-04,   2.13863967e-04, ...,\n",
      "         6.81210020e-05,   6.89399449e-05,   7.02947964e-05]),\n",
      "          'energy_eV': array([  1.00000000e-03,   1.01066378e-01,   2.01132755e-01, ...,\n",
      "         2.99799867e+02,   2.99899934e+02,   3.00000000e+02]),\n",
      "          'transmission': array([ 0.99767879,  0.99972182,  0.99978614, ...,  0.99993188,\n",
      "        0.99993106,  0.99992971])},\n",
      " 'U': {'U': {'233-U': {'attenuation': array([ 0.,  0.,  0., ...,  0.,  0.,  0.]),\n",
      "                       'energy_eV': array([  1.00000000e-03,   1.01066378e-01,   2.01132755e-01, ...,\n",
      "         2.99799867e+02,   2.99899934e+02,   3.00000000e+02]),\n",
      "                       'transmission': array([ 1.,  1.,  1., ...,  1.,  1.,  1.])},\n",
      "             '234-U': {'attenuation': array([ 0.,  0.,  0., ...,  0.,  0.,  0.]),\n",
      "                       'energy_eV': array([  1.00000000e-03,   1.01066378e-01,   2.01132755e-01, ...,\n",
      "         2.99799867e+02,   2.99899934e+02,   3.00000000e+02]),\n",
      "                       'transmission': array([ 1.,  1.,  1., ...,  1.,  1.,  1.])},\n",
      "             '235-U': {'attenuation': array([ 0.54678267,  0.06571042,  0.04955804, ...,  0.00358771,\n",
      "        0.00363912,  0.00374362]),\n",
      "                       'energy_eV': array([  1.00000000e-03,   1.01066378e-01,   2.01132755e-01, ...,\n",
      "         2.99799867e+02,   2.99899934e+02,   3.00000000e+02]),\n",
      "                       'transmission': array([ 0.45321733,  0.93428958,  0.95044196, ...,  0.99641229,\n",
      "        0.99636088,  0.99625638])},\n",
      "             '238-U': {'attenuation': array([ 0.02793726,  0.01284938,  0.01236171, ...,  0.01578173,\n",
      "        0.01576933,  0.01575692]),\n",
      "                       'energy_eV': array([  1.00000000e-03,   1.01066378e-01,   2.01132755e-01, ...,\n",
      "         2.99799867e+02,   2.99899934e+02,   3.00000000e+02]),\n",
      "                       'transmission': array([ 0.97206274,  0.98715062,  0.98763829, ...,  0.98421827,\n",
      "        0.98423067,  0.98424308])},\n",
      "             'attenuation': array([ 0.55944432,  0.07771547,  0.06130712, ...,  0.01931282,\n",
      "        0.01935106,  0.01944156]),\n",
      "             'energy_eV': array([  1.00000000e-03,   1.01066378e-01,   2.01132755e-01, ...,\n",
      "         2.99799867e+02,   2.99899934e+02,   3.00000000e+02]),\n",
      "             'transmission': array([ 0.44055568,  0.92228453,  0.93869288, ...,  0.98068718,\n",
      "        0.98064894,  0.98055844])},\n",
      "       'attenuation': array([ 0.55944432,  0.07771547,  0.06130712, ...,  0.01931282,\n",
      "        0.01935106,  0.01944156]),\n",
      "       'energy_eV': array([  1.00000000e-03,   1.01066378e-01,   2.01132755e-01, ...,\n",
      "         2.99799867e+02,   2.99899934e+02,   3.00000000e+02]),\n",
      "       'transmission': array([ 0.44055568,  0.92228453,  0.93869288, ...,  0.98068718,\n",
      "        0.98064894,  0.98055844])}}\n"
     ]
    }
   ],
   "source": [
    "pprint.pprint(o_reso.stack_signal)"
   ]
  },
  {
   "cell_type": "markdown",
   "metadata": {
    "collapsed": true,
    "run_control": {
     "frozen": false,
     "read_only": false
    }
   },
   "source": [
    "You can retrieve any of those arrays, **transmission**, **attenuation** and **Energy (eV) (x-axis)** arrays as followed "
   ]
  },
  {
   "cell_type": "markdown",
   "metadata": {
    "run_control": {
     "frozen": false,
     "read_only": false
    }
   },
   "source": [
    "for the compound *CoAg*"
   ]
  },
  {
   "cell_type": "code",
   "execution_count": 16,
   "metadata": {
    "collapsed": true,
    "run_control": {
     "frozen": false,
     "read_only": false
    }
   },
   "outputs": [],
   "source": [
    "transmission_CoAg = o_reso.stack_signal['CoAg']['transmission']\n",
    "energy_CoAg = o_reso.stack_signal['CoAg']['energy_eV']"
   ]
  },
  {
   "cell_type": "markdown",
   "metadata": {
    "run_control": {
     "frozen": false,
     "read_only": false
    }
   },
   "source": [
    "for the element *Ag*"
   ]
  },
  {
   "cell_type": "code",
   "execution_count": 17,
   "metadata": {
    "collapsed": true,
    "run_control": {
     "frozen": false,
     "read_only": false
    }
   },
   "outputs": [],
   "source": [
    "transmission_CoAg_Ag = o_reso.stack_signal['CoAg']['Ag']['transmission']\n",
    "energy_CoAg_Ag = o_reso.stack_signal['CoAg']['Ag']['energy_eV']"
   ]
  },
  {
   "cell_type": "markdown",
   "metadata": {
    "run_control": {
     "frozen": false,
     "read_only": false
    }
   },
   "source": [
    "or for the isotope *107-Ag*"
   ]
  },
  {
   "cell_type": "code",
   "execution_count": 18,
   "metadata": {
    "collapsed": true,
    "run_control": {
     "frozen": false,
     "read_only": false
    }
   },
   "outputs": [],
   "source": [
    "transmission_CoAg_Ag_107Ag = o_reso.stack_signal['CoAg']['Ag']['107-Ag']['transmission']\n",
    "energy_CoAg_Ag_107Ag = o_reso.stack_signal['CoAg']['Ag']['107-Ag']['energy_eV']"
   ]
  },
  {
   "cell_type": "markdown",
   "metadata": {
    "run_control": {
     "frozen": false,
     "read_only": false
    }
   },
   "source": [
    "# Display Transmission and Attenuation "
   ]
  },
  {
   "cell_type": "markdown",
   "metadata": {
    "run_control": {
     "frozen": false,
     "read_only": false
    }
   },
   "source": [
    "Here are the flags available for the final plot (in **bold**, the default values)\n",
    "\n",
    " - transmission: **True** or False. If False, the attenuation signal is plotted\n",
    " - x_axis: **'energy'** or 'lambda'\n",
    " - mixed: True or **False**. Display the total signal\n",
    " - all_layers: True or **False**. Dislay the signal of each compound/layer\n",
    " - all_elements: True or **False**. Display the signal of each element\n",
    " - all_isotopes: True or **False**. Display the signal of each isotope\n",
    " - items_to_plot: Array that defines what to plot. \n",
    " You need to define the path to the compound/element/isotope you want to see.\n",
    "   \n",
    "   example: \n",
    "   \n",
    "   if we want to display the Co element of the CoAg Compound\n",
    "       items_to_plot = [['CoAg','Co']]\n",
    "   if we want also to display the 107-Ag isotope of the element Al of compound CoAg\n",
    "       items_to_plot = [['CoAg', 'Co'],['CoAg','Ag','107-Ag']]\n",
    "       \n",
    "So here are a few examples of plot commands\n",
    "\n",
    "```\n",
    " >>> o_reso.plot(x_axis='lambda', all_layers=True)\n",
    " >>> o_reso.plot(transmission=False, items_to_plot= [['CoAg', 'Co'],['CoAg','Ag','107-Ag']])\n",
    " ```"
   ]
  },
  {
   "cell_type": "code",
   "execution_count": 19,
   "metadata": {
    "run_control": {
     "frozen": false,
     "read_only": false
    }
   },
   "outputs": [
    {
     "data": {
      "image/png": "[encoded data removed]",
      "text/plain": [
       "<matplotlib.figure.Figure at 0x114a387f0>"
      ]
     },
     "metadata": {},
     "output_type": "display_data"
    }
   ],
   "source": [
    "o_reso.plot(items_to_plot=[['CoAg','Co']])"
   ]
  }
 ],
 "metadata": {
  "kernelspec": {
   "display_name": "Python 3",
   "language": "python",
   "name": "python3"
  },
  "language_info": {
   "codemirror_mode": {
    "name": "ipython",
    "version": 3
   },
   "file_extension": ".py",
   "mimetype": "text/x-python",
   "name": "python",
   "nbconvert_exporter": "python",
   "pygments_lexer": "ipython3",
   "version": "3.6.1"
  },
  "toc": {
   "colors": {
    "hover_highlight": "#DAA520",
    "running_highlight": "#FF0000",
    "selected_highlight": "#FFD700"
   },
   "moveMenuLeft": true,
   "nav_menu": {
    "height": "156px",
    "width": "252px"
   },
   "navigate_menu": true,
   "number_sections": true,
   "sideBar": true,
   "threshold": 4,
   "toc_cell": false,
   "toc_section_display": "block",
   "toc_window_display": false
  }
 },
 "nbformat": 4,
 "nbformat_minor": 2
}
