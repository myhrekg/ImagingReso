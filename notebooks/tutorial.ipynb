{
 "cells": [
  {
   "cell_type": "code",
   "execution_count": 1,
   "metadata": {
    "run_control": {
     "frozen": false,
     "read_only": false
    }
   },
   "outputs": [],
   "source": [
    "import os\n",
    "import sys\n",
    "import re\n",
    "import pprint\n",
    "import numpy as np"
   ]
  },
  {
   "cell_type": "markdown",
   "metadata": {
    "run_control": {
     "frozen": false,
     "read_only": false
    }
   },
   "source": [
    "Add **ImagingReso** to python path"
   ]
  },
  {
   "cell_type": "code",
   "execution_count": 2,
   "metadata": {
    "run_control": {
     "frozen": false,
     "read_only": false
    }
   },
   "outputs": [],
   "source": [
    "root_folder = os.path.dirname(os.getcwd())\n",
    "sys.path.append(root_folder)\n",
    "import ImagingReso\n",
    "from ImagingReso.resonance import Resonance"
   ]
  },
  {
   "cell_type": "markdown",
   "metadata": {
    "run_control": {
     "frozen": false,
     "read_only": false
    }
   },
   "source": [
    "# Initialization"
   ]
  },
  {
   "cell_type": "markdown",
   "metadata": {
    "run_control": {
     "frozen": false,
     "read_only": false
    }
   },
   "source": [
    "Let's define our input\n",
    "\n",
    "**layer1**\n",
    "  - compound **CoAg** of thickness **0.025mm**\n",
    "\n",
    "**layer2**\n",
    "  - compound **U** of thickness **0.3mm**\n",
    "\n",
    "**global paramters**\n",
    "  - min energy of **0 ev**\n",
    "  - max energy of **300 ev**"
   ]
  },
  {
   "cell_type": "code",
   "execution_count": 3,
   "metadata": {
    "run_control": {
     "frozen": false,
     "read_only": false
    }
   },
   "outputs": [],
   "source": [
    "_energy_min = 0\n",
    "_energy_max = 300\n",
    "_energy_step = 0.1"
   ]
  },
  {
   "cell_type": "markdown",
   "metadata": {
    "run_control": {
     "frozen": false,
     "read_only": false
    }
   },
   "source": [
    "## Method 1"
   ]
  },
  {
   "cell_type": "code",
   "execution_count": 4,
   "metadata": {
    "run_control": {
     "frozen": false,
     "read_only": false
    }
   },
   "outputs": [],
   "source": [
    "_stack = {'CoAg': {'elements': ['Co','Ag'],\n",
    "                   'stoichiometric_ratio': [1,1],\n",
    "                   'thickness': {'value': 0.025,\n",
    "                                'units': 'mm'},\n",
    "                   'density': {'value': 0.5,\n",
    "                              'units': 'g/cm3'},\n",
    "                  },\n",
    "         'U': {'elements': ['U'],\n",
    "               'stoichiometric_ratio': [1],\n",
    "              'thickness': {'value': 0.3,\n",
    "                            'units': 'mm'},\n",
    "                'density': {'value': np.NaN,\n",
    "                            'units': 'g/cm3'},\n",
    "              },\n",
    "         }"
   ]
  },
  {
   "cell_type": "code",
   "execution_count": 5,
   "metadata": {
    "run_control": {
     "frozen": false,
     "read_only": false
    }
   },
   "outputs": [],
   "source": [
    "o_reso = Resonance(stack=_stack, energy_min=_energy_min, energy_max=_energy_max, energy_step=_energy_step)"
   ]
  },
  {
   "cell_type": "markdown",
   "metadata": {
    "run_control": {
     "frozen": false,
     "read_only": false
    }
   },
   "source": [
    "## Method 2"
   ]
  },
  {
   "cell_type": "code",
   "execution_count": 6,
   "metadata": {
    "run_control": {
     "frozen": false,
     "read_only": false
    }
   },
   "outputs": [],
   "source": [
    "_layer_1 = 'CoAg'\n",
    "_thickness_1 = 0.025 # mm\n",
    "_density_1 = 0.5 # g/cm3\n",
    "\n",
    "_layer_2 = 'U'\n",
    "_thickness_2 = 0.3"
   ]
  },
  {
   "cell_type": "code",
   "execution_count": 7,
   "metadata": {
    "run_control": {
     "frozen": false,
     "read_only": false
    }
   },
   "outputs": [],
   "source": [
    "o_reso = Resonance(energy_min=_energy_min, energy_max=_energy_max, energy_step=_energy_step)\n",
    "o_reso.add_layer(formula=_layer_1, thickness=_thickness_1, density=_density_1)\n",
    "o_reso.add_layer(formula=_layer_2, thickness=_thickness_2)"
   ]
  },
  {
   "cell_type": "markdown",
   "metadata": {
    "run_control": {
     "frozen": false,
     "read_only": false
    }
   },
   "source": [
    "# retrieve parameters "
   ]
  },
  {
   "cell_type": "markdown",
   "metadata": {
    "run_control": {
     "frozen": false,
     "read_only": false
    }
   },
   "source": [
    "To retrieve the stack defined, and also visualize the isotopes mass, ratio...etc automatically loaded by the program"
   ]
  },
  {
   "cell_type": "code",
   "execution_count": 8,
   "metadata": {
    "run_control": {
     "frozen": false,
     "read_only": false
    },
    "scrolled": false
   },
   "outputs": [
    {
     "name": "stdout",
     "output_type": "stream",
     "text": [
      "{'CoAg': {'Ag': {'density': {'units': 'g/cm3', 'value': 10.5},\n",
      "                 'isotopes': {'density': {'units': 'g/cm3',\n",
      "                                          'value': [10.406250187729098,\n",
      "                                                    10.600899412431097]},\n",
      "                              'file_names': ['Ag-107.csv', 'Ag-109.csv'],\n",
      "                              'isotopic_ratio': [0.51839, 0.48161000000000004],\n",
      "                              'list': ['107-Ag', '109-Ag'],\n",
      "                              'mass': {'units': 'g/mol',\n",
      "                                       'value': [106.905093, 108.904756]}},\n",
      "                 'molar_mass': {'units': 'g/mol', 'value': 107.8682}},\n",
      "          'Co': {'density': {'units': 'g/cm3', 'value': 8.9},\n",
      "                 'isotopes': {'density': {'units': 'g/cm3',\n",
      "                                          'value': [8.749367803547068,\n",
      "                                                    8.900000030203689]},\n",
      "                              'file_names': ['Co-58.csv', 'Co-59.csv'],\n",
      "                              'isotopic_ratio': [0.0, 1.0],\n",
      "                              'list': ['58-Co', '59-Co'],\n",
      "                              'mass': {'units': 'g/mol',\n",
      "                                       'value': [57.9357576, 58.9332002]}},\n",
      "                 'molar_mass': {'units': 'g/mol', 'value': 58.9332}},\n",
      "          'atoms_per_cm3': {'Ag': 1.8051829472054791e+21,\n",
      "                            'Co': 1.8051829472054791e+21},\n",
      "          'density': {'units': 'g/cm3', 'value': 0.5},\n",
      "          'elements': ['Co', 'Ag'],\n",
      "          'stoichiometric_ratio': [1, 1],\n",
      "          'thickness': {'units': 'mm', 'value': 0.025}},\n",
      " 'U': {'U': {'density': {'units': 'g/cm3', 'value': 18.95},\n",
      "             'isotopes': {'density': {'units': 'g/cm3',\n",
      "                                      'value': [18.552792392319066,\n",
      "                                                18.632509467526443,\n",
      "                                                18.712358690988417,\n",
      "                                                18.951741325328925]},\n",
      "                          'file_names': ['U-233.csv',\n",
      "                                         'U-234.csv',\n",
      "                                         'U-235.csv',\n",
      "                                         'U-238.csv'],\n",
      "                          'isotopic_ratio': [0.0,\n",
      "                                             5.4999999999999995e-05,\n",
      "                                             0.0072,\n",
      "                                             0.992745],\n",
      "                          'list': ['233-U', '234-U', '235-U', '238-U'],\n",
      "                          'mass': {'units': 'g/mol',\n",
      "                                   'value': [233.039628,\n",
      "                                             234.0409456,\n",
      "                                             235.0439231,\n",
      "                                             238.0507826]}},\n",
      "             'molar_mass': {'units': 'g/mol', 'value': 238.02891}},\n",
      "       'atoms_per_cm3': {'U': 4.7943575106128917e+22},\n",
      "       'density': {'units': 'g/cm3', 'value': 18.949999999999999},\n",
      "       'elements': ['U'],\n",
      "       'stoichiometric_ratio': [1],\n",
      "       'thickness': {'units': 'mm', 'value': 0.3}}}\n"
     ]
    }
   ],
   "source": [
    "pprint.pprint(o_reso.stack)"
   ]
  },
  {
   "cell_type": "markdown",
   "metadata": {},
   "source": [
    "or you can also simply print the object"
   ]
  },
  {
   "cell_type": "code",
   "execution_count": 9,
   "metadata": {},
   "outputs": [
    {
     "name": "stdout",
     "output_type": "stream",
     "text": [
      "{\n",
      "    \"CoAg\": {\n",
      "        \"elements\": [\n",
      "            \"Co\",\n",
      "            \"Ag\"\n",
      "        ],\n",
      "        \"stoichiometric_ratio\": [\n",
      "            1,\n",
      "            1\n",
      "        ],\n",
      "        \"thickness\": {\n",
      "            \"value\": 0.025,\n",
      "            \"units\": \"mm\"\n",
      "        },\n",
      "        \"density\": {\n",
      "            \"value\": 0.5,\n",
      "            \"units\": \"g/cm3\"\n",
      "        },\n",
      "        \"Co\": {\n",
      "            \"isotopes\": {\n",
      "                \"list\": [\n",
      "                    \"58-Co\",\n",
      "                    \"59-Co\"\n",
      "                ],\n",
      "                \"file_names\": [\n",
      "                    \"Co-58.csv\",\n",
      "                    \"Co-59.csv\"\n",
      "                ],\n",
      "                \"density\": {\n",
      "                    \"value\": [\n",
      "                        8.749367803547068,\n",
      "                        8.900000030203689\n",
      "                    ],\n",
      "                    \"units\": \"g/cm3\"\n",
      "                },\n",
      "                \"mass\": {\n",
      "                    \"value\": [\n",
      "                        57.9357576,\n",
      "                        58.9332002\n",
      "                    ],\n",
      "                    \"units\": \"g/mol\"\n",
      "                },\n",
      "                \"isotopic_ratio\": [\n",
      "                    0.0,\n",
      "                    1.0\n",
      "                ]\n",
      "            },\n",
      "            \"density\": {\n",
      "                \"value\": 8.9,\n",
      "                \"units\": \"g/cm3\"\n",
      "            },\n",
      "            \"molar_mass\": {\n",
      "                \"value\": 58.9332,\n",
      "                \"units\": \"g/mol\"\n",
      "            }\n",
      "        },\n",
      "        \"Ag\": {\n",
      "            \"isotopes\": {\n",
      "                \"list\": [\n",
      "                    \"107-Ag\",\n",
      "                    \"109-Ag\"\n",
      "                ],\n",
      "                \"file_names\": [\n",
      "                    \"Ag-107.csv\",\n",
      "                    \"Ag-109.csv\"\n",
      "                ],\n",
      "                \"density\": {\n",
      "                    \"value\": [\n",
      "                        10.406250187729098,\n",
      "                        10.600899412431097\n",
      "                    ],\n",
      "                    \"units\": \"g/cm3\"\n",
      "                },\n",
      "                \"mass\": {\n",
      "                    \"value\": [\n",
      "                        106.905093,\n",
      "                        108.904756\n",
      "                    ],\n",
      "                    \"units\": \"g/mol\"\n",
      "                },\n",
      "                \"isotopic_ratio\": [\n",
      "                    0.51839,\n",
      "                    0.48161000000000004\n",
      "                ]\n",
      "            },\n",
      "            \"density\": {\n",
      "                \"value\": 10.5,\n",
      "                \"units\": \"g/cm3\"\n",
      "            },\n",
      "            \"molar_mass\": {\n",
      "                \"value\": 107.8682,\n",
      "                \"units\": \"g/mol\"\n",
      "            }\n",
      "        },\n",
      "        \"atoms_per_cm3\": {\n",
      "            \"Co\": 1.8051829472054791e+21,\n",
      "            \"Ag\": 1.8051829472054791e+21\n",
      "        }\n",
      "    },\n",
      "    \"U\": {\n",
      "        \"elements\": [\n",
      "            \"U\"\n",
      "        ],\n",
      "        \"stoichiometric_ratio\": [\n",
      "            1\n",
      "        ],\n",
      "        \"thickness\": {\n",
      "            \"value\": 0.3,\n",
      "            \"units\": \"mm\"\n",
      "        },\n",
      "        \"density\": {\n",
      "            \"value\": 18.95,\n",
      "            \"units\": \"g/cm3\"\n",
      "        },\n",
      "        \"U\": {\n",
      "            \"isotopes\": {\n",
      "                \"list\": [\n",
      "                    \"233-U\",\n",
      "                    \"234-U\",\n",
      "                    \"235-U\",\n",
      "                    \"238-U\"\n",
      "                ],\n",
      "                \"file_names\": [\n",
      "                    \"U-233.csv\",\n",
      "                    \"U-234.csv\",\n",
      "                    \"U-235.csv\",\n",
      "                    \"U-238.csv\"\n",
      "                ],\n",
      "                \"density\": {\n",
      "                    \"value\": [\n",
      "                        18.552792392319066,\n",
      "                        18.632509467526443,\n",
      "                        18.712358690988417,\n",
      "                        18.951741325328925\n",
      "                    ],\n",
      "                    \"units\": \"g/cm3\"\n",
      "                },\n",
      "                \"mass\": {\n",
      "                    \"value\": [\n",
      "                        233.039628,\n",
      "                        234.0409456,\n",
      "                        235.0439231,\n",
      "                        238.0507826\n",
      "                    ],\n",
      "                    \"units\": \"g/mol\"\n",
      "                },\n",
      "                \"isotopic_ratio\": [\n",
      "                    0.0,\n",
      "                    5.4999999999999995e-05,\n",
      "                    0.0072,\n",
      "                    0.992745\n",
      "                ]\n",
      "            },\n",
      "            \"density\": {\n",
      "                \"value\": 18.95,\n",
      "                \"units\": \"g/cm3\"\n",
      "            },\n",
      "            \"molar_mass\": {\n",
      "                \"value\": 238.02891,\n",
      "                \"units\": \"g/mol\"\n",
      "            }\n",
      "        },\n",
      "        \"atoms_per_cm3\": {\n",
      "            \"U\": 4.794357510612892e+22\n",
      "        }\n",
      "    }\n",
      "}\n"
     ]
    }
   ],
   "source": [
    "print(o_reso)"
   ]
  },
  {
   "cell_type": "markdown",
   "metadata": {},
   "source": [
    "or also, by just calling the object itself"
   ]
  },
  {
   "cell_type": "code",
   "execution_count": 10,
   "metadata": {},
   "outputs": [
    {
     "data": {
      "text/plain": [
       "{\n",
       "    \"CoAg\": {\n",
       "        \"elements\": [\n",
       "            \"Co\",\n",
       "            \"Ag\"\n",
       "        ],\n",
       "        \"stoichiometric_ratio\": [\n",
       "            1,\n",
       "            1\n",
       "        ],\n",
       "        \"thickness\": {\n",
       "            \"value\": 0.025,\n",
       "            \"units\": \"mm\"\n",
       "        },\n",
       "        \"density\": {\n",
       "            \"value\": 0.5,\n",
       "            \"units\": \"g/cm3\"\n",
       "        },\n",
       "        \"Co\": {\n",
       "            \"isotopes\": {\n",
       "                \"list\": [\n",
       "                    \"58-Co\",\n",
       "                    \"59-Co\"\n",
       "                ],\n",
       "                \"file_names\": [\n",
       "                    \"Co-58.csv\",\n",
       "                    \"Co-59.csv\"\n",
       "                ],\n",
       "                \"density\": {\n",
       "                    \"value\": [\n",
       "                        8.749367803547068,\n",
       "                        8.900000030203689\n",
       "                    ],\n",
       "                    \"units\": \"g/cm3\"\n",
       "                },\n",
       "                \"mass\": {\n",
       "                    \"value\": [\n",
       "                        57.9357576,\n",
       "                        58.9332002\n",
       "                    ],\n",
       "                    \"units\": \"g/mol\"\n",
       "                },\n",
       "                \"isotopic_ratio\": [\n",
       "                    0.0,\n",
       "                    1.0\n",
       "                ]\n",
       "            },\n",
       "            \"density\": {\n",
       "                \"value\": 8.9,\n",
       "                \"units\": \"g/cm3\"\n",
       "            },\n",
       "            \"molar_mass\": {\n",
       "                \"value\": 58.9332,\n",
       "                \"units\": \"g/mol\"\n",
       "            }\n",
       "        },\n",
       "        \"Ag\": {\n",
       "            \"isotopes\": {\n",
       "                \"list\": [\n",
       "                    \"107-Ag\",\n",
       "                    \"109-Ag\"\n",
       "                ],\n",
       "                \"file_names\": [\n",
       "                    \"Ag-107.csv\",\n",
       "                    \"Ag-109.csv\"\n",
       "                ],\n",
       "                \"density\": {\n",
       "                    \"value\": [\n",
       "                        10.406250187729098,\n",
       "                        10.600899412431097\n",
       "                    ],\n",
       "                    \"units\": \"g/cm3\"\n",
       "                },\n",
       "                \"mass\": {\n",
       "                    \"value\": [\n",
       "                        106.905093,\n",
       "                        108.904756\n",
       "                    ],\n",
       "                    \"units\": \"g/mol\"\n",
       "                },\n",
       "                \"isotopic_ratio\": [\n",
       "                    0.51839,\n",
       "                    0.48161000000000004\n",
       "                ]\n",
       "            },\n",
       "            \"density\": {\n",
       "                \"value\": 10.5,\n",
       "                \"units\": \"g/cm3\"\n",
       "            },\n",
       "            \"molar_mass\": {\n",
       "                \"value\": 107.8682,\n",
       "                \"units\": \"g/mol\"\n",
       "            }\n",
       "        },\n",
       "        \"atoms_per_cm3\": {\n",
       "            \"Co\": 1.8051829472054791e+21,\n",
       "            \"Ag\": 1.8051829472054791e+21\n",
       "        }\n",
       "    },\n",
       "    \"U\": {\n",
       "        \"elements\": [\n",
       "            \"U\"\n",
       "        ],\n",
       "        \"stoichiometric_ratio\": [\n",
       "            1\n",
       "        ],\n",
       "        \"thickness\": {\n",
       "            \"value\": 0.3,\n",
       "            \"units\": \"mm\"\n",
       "        },\n",
       "        \"density\": {\n",
       "            \"value\": 18.95,\n",
       "            \"units\": \"g/cm3\"\n",
       "        },\n",
       "        \"U\": {\n",
       "            \"isotopes\": {\n",
       "                \"list\": [\n",
       "                    \"233-U\",\n",
       "                    \"234-U\",\n",
       "                    \"235-U\",\n",
       "                    \"238-U\"\n",
       "                ],\n",
       "                \"file_names\": [\n",
       "                    \"U-233.csv\",\n",
       "                    \"U-234.csv\",\n",
       "                    \"U-235.csv\",\n",
       "                    \"U-238.csv\"\n",
       "                ],\n",
       "                \"density\": {\n",
       "                    \"value\": [\n",
       "                        18.552792392319066,\n",
       "                        18.632509467526443,\n",
       "                        18.712358690988417,\n",
       "                        18.951741325328925\n",
       "                    ],\n",
       "                    \"units\": \"g/cm3\"\n",
       "                },\n",
       "                \"mass\": {\n",
       "                    \"value\": [\n",
       "                        233.039628,\n",
       "                        234.0409456,\n",
       "                        235.0439231,\n",
       "                        238.0507826\n",
       "                    ],\n",
       "                    \"units\": \"g/mol\"\n",
       "                },\n",
       "                \"isotopic_ratio\": [\n",
       "                    0.0,\n",
       "                    5.4999999999999995e-05,\n",
       "                    0.0072,\n",
       "                    0.992745\n",
       "                ]\n",
       "            },\n",
       "            \"density\": {\n",
       "                \"value\": 18.95,\n",
       "                \"units\": \"g/cm3\"\n",
       "            },\n",
       "            \"molar_mass\": {\n",
       "                \"value\": 238.02891,\n",
       "                \"units\": \"g/mol\"\n",
       "            }\n",
       "        },\n",
       "        \"atoms_per_cm3\": {\n",
       "            \"U\": 4.794357510612892e+22\n",
       "        }\n",
       "    }\n",
       "}"
      ]
     },
     "execution_count": 10,
     "metadata": {},
     "output_type": "execute_result"
    }
   ],
   "source": [
    "o_reso"
   ]
  },
  {
   "cell_type": "markdown",
   "metadata": {
    "run_control": {
     "frozen": false,
     "read_only": false
    }
   },
   "source": [
    "Energy range"
   ]
  },
  {
   "cell_type": "code",
   "execution_count": 43,
   "metadata": {
    "run_control": {
     "frozen": false,
     "read_only": false
    }
   },
   "outputs": [
    {
     "name": "stdout",
     "output_type": "stream",
     "text": [
      "Energy min 0 eV\n",
      "Energy max 300 eV\n",
      "Energy step 0.1 eV\n"
     ]
    }
   ],
   "source": [
    "print(\"Energy min {} eV\".format(o_reso.energy_min))\n",
    "print(\"Energy max {} eV\".format(o_reso.energy_max))\n",
    "print(\"Energy step {} eV\".format(o_reso.energy_step))"
   ]
  },
  {
   "cell_type": "markdown",
   "metadata": {
    "run_control": {
     "frozen": false,
     "read_only": false
    }
   },
   "source": [
    "You can also retrieve the arrays of sigma (cross section) vs Energy (eV) for each of the isotopes and elements"
   ]
  },
  {
   "cell_type": "code",
   "execution_count": 44,
   "metadata": {
    "run_control": {
     "frozen": false,
     "read_only": false
    },
    "scrolled": true
   },
   "outputs": [
    {
     "name": "stdout",
     "output_type": "stream",
     "text": [
      "{'CoAg': {'Ag': {'107-Ag': {'energy_eV': array([  1.00000000e-05,   9.99983261e-02,   1.99986652e-01, ...,\n",
      "         2.99665023e+02,   2.99765012e+02,   2.99865000e+02]),\n",
      "                            'sigma_b': array([ 1005.1115549 ,    13.50098905,    10.55139815, ...,     2.14124538,\n",
      "           2.13665544,     2.1320655 ])},\n",
      "                 '109-Ag': {'energy_eV': array([  1.00000000e-05,   1.00041674e-01,   2.00073348e-01, ...,\n",
      "         2.99794937e+02,   2.99894968e+02,   2.99995000e+02]),\n",
      "                            'sigma_b': array([  2.17286539e+03,   2.36834331e+01,   1.76907867e+01, ...,\n",
      "         2.11569016e+00,   2.30334412e+00,   2.60669968e+00])},\n",
      "                 'energy_eV': array([  1.00000000e-05,   1.00020000e-01,   2.00030000e-01, ...,\n",
      "         2.99729980e+02,   2.99829990e+02,   2.99930000e+02]),\n",
      "                 'sigma_b': array([ 3177.9769436 ,    37.18442215,    28.24218485, ...,     4.25693555,\n",
      "           4.43999956,     4.73876517])},\n",
      "          'Co': {'58-Co': {'energy_eV': array([  1.00000000e-05,   9.99236345e-02,   1.99837269e-01, ...,\n",
      "         2.99441173e+02,   2.99541086e+02,   2.99641000e+02]),\n",
      "                           'sigma_b': array([ 0.,  0.,  0., ...,  0.,  0.,  0.])},\n",
      "                 '59-Co': {'energy_eV': array([  1.00000000e-05,   9.98102634e-02,   1.99610527e-01, ...,\n",
      "         2.99101399e+02,   2.99201200e+02,   2.99301000e+02]),\n",
      "                           'sigma_b': array([ 1913.87      ,    24.73707214,    19.255596  , ...,    10.88572788,\n",
      "          10.87881394,    10.8719    ])},\n",
      "                 'energy_eV': array([  1.00000000e-05,   9.98669490e-02,   1.99723898e-01, ...,\n",
      "         2.99271286e+02,   2.99371143e+02,   2.99471000e+02]),\n",
      "                 'sigma_b': array([ 1913.87      ,    24.73707214,    19.255596  , ...,    10.88572788,\n",
      "          10.87881394,    10.8719    ])}},\n",
      " 'U': {'U': {'233-U': {'energy_eV': array([  1.00000000e-05,   1.00035005e-01,   2.00060010e-01, ...,\n",
      "         2.99774950e+02,   2.99874975e+02,   2.99975000e+02]),\n",
      "                       'sigma_b': array([ 0.,  0.,  0., ...,  0.,  0.,  0.])},\n",
      "             '234-U': {'energy_eV': array([  1.00000000e-05,   1.00010997e-01,   2.00011994e-01, ...,\n",
      "         2.99702998e+02,   2.99802999e+02,   2.99903000e+02]),\n",
      "                       'sigma_b': array([ 0.2890437 ,  0.0035507 ,  0.00261016, ...,  0.00055558,\n",
      "        0.00055416,  0.00055274])},\n",
      "             '235-U': {'energy_eV': array([  1.00000000e-05,   1.00040340e-01,   2.00070680e-01, ...,\n",
      "         2.99790939e+02,   2.99890970e+02,   2.99991000e+02]),\n",
      "                       'sigma_b': array([  2.64222720e+02,   2.28283601e+00,   1.69580903e+00, ...,\n",
      "         1.19898329e-01,   1.21429710e-01,   1.24751520e-01])},\n",
      "             '238-U': {'energy_eV': array([  1.00000000e-05,   1.00040340e-01,   2.00070680e-01, ...,\n",
      "         2.99790939e+02,   2.99890970e+02,   2.99991000e+02]),\n",
      "                       'sigma_b': array([ 168.46287003,   10.50849664,   10.10332939, ...,   12.91820322,\n",
      "         12.90797313,   12.89774304])},\n",
      "             'energy_eV': array([  1.00000000e-05,   1.00031671e-01,   2.00053341e-01, ...,\n",
      "         2.99764957e+02,   2.99864978e+02,   2.99965000e+02]),\n",
      "             'sigma_b': array([ 432.97463373,   12.79488335,   11.80174858, ...,   13.03865713,\n",
      "         13.029957  ,   13.0230473 ])}}}\n"
     ]
    }
   ],
   "source": [
    "pprint.pprint(o_reso.stack_sigma)"
   ]
  },
  {
   "cell_type": "markdown",
   "metadata": {
    "run_control": {
     "frozen": false,
     "read_only": false
    }
   },
   "source": [
    "## Modify Isotopic Ratio "
   ]
  },
  {
   "cell_type": "markdown",
   "metadata": {
    "run_control": {
     "frozen": false,
     "read_only": false
    }
   },
   "source": [
    "Let's presume that the **U** layer of our sample does not have the default isotopic_ratio reported\n",
    "```\n",
    " U-233 -> 0\n",
    " U-234 -> 5.5e-5\n",
    " U-235 -> 0.007\n",
    " U-238 -> 0.99\n",
    "```\n",
    "\n",
    "but instead\n",
    "\n",
    "```\n",
    " U-233 -> 0\n",
    " U-234 -> 0\n",
    " U-235 -> 0.15\n",
    " U-238 -> 085\n",
    "```\n"
   ]
  },
  {
   "cell_type": "markdown",
   "metadata": {
    "run_control": {
     "frozen": false,
     "read_only": false
    }
   },
   "source": [
    "### Display current list of isotopic ratio "
   ]
  },
  {
   "cell_type": "markdown",
   "metadata": {
    "run_control": {
     "frozen": false,
     "read_only": false
    }
   },
   "source": [
    "To display all the isotopic ratio"
   ]
  },
  {
   "cell_type": "code",
   "execution_count": 47,
   "metadata": {
    "run_control": {
     "frozen": false,
     "read_only": false
    }
   },
   "outputs": [
    {
     "name": "stdout",
     "output_type": "stream",
     "text": [
      "{'CoAg': {'Ag': {'107-Ag': 0.51839, '109-Ag': 0.48161000000000004},\n",
      "          'Co': {'58-Co': 0.0, '59-Co': 1.0}},\n",
      " 'U': {'U': {'233-U': 0.0,\n",
      "             '234-U': 5.4999999999999995e-05,\n",
      "             '235-U': 0.0072,\n",
      "             '238-U': 0.992745}}}\n"
     ]
    }
   ],
   "source": [
    "pprint.pprint(o_reso.get_isotopic_ratio())"
   ]
  },
  {
   "cell_type": "markdown",
   "metadata": {
    "run_control": {
     "frozen": false,
     "read_only": false
    }
   },
   "source": [
    "From there, it's possible to narrow down the search to the compound and element we are looking for"
   ]
  },
  {
   "cell_type": "code",
   "execution_count": 48,
   "metadata": {
    "run_control": {
     "frozen": false,
     "read_only": false
    }
   },
   "outputs": [
    {
     "name": "stdout",
     "output_type": "stream",
     "text": [
      "{'233-U': 0.0,\n",
      " '234-U': 5.4999999999999995e-05,\n",
      " '235-U': 0.0072,\n",
      " '238-U': 0.992745}\n"
     ]
    }
   ],
   "source": [
    "pprint.pprint(o_reso.get_isotopic_ratio(compound='U', element='U'))  "
   ]
  },
  {
   "cell_type": "markdown",
   "metadata": {
    "run_control": {
     "frozen": false,
     "read_only": false
    }
   },
   "source": [
    "if compound is composef of only 1 element, **element** parameter can be omitted"
   ]
  },
  {
   "cell_type": "code",
   "execution_count": 49,
   "metadata": {
    "run_control": {
     "frozen": false,
     "read_only": false
    }
   },
   "outputs": [
    {
     "name": "stdout",
     "output_type": "stream",
     "text": [
      "{'233-U': 0.0,\n",
      " '234-U': 5.4999999999999995e-05,\n",
      " '235-U': 0.0072,\n",
      " '238-U': 0.992745}\n"
     ]
    }
   ],
   "source": [
    "pprint.pprint(o_reso.get_isotopic_ratio(compound='U'))"
   ]
  },
  {
   "cell_type": "markdown",
   "metadata": {
    "run_control": {
     "frozen": false,
     "read_only": false
    }
   },
   "source": [
    "### Define a new set of isotopic ratio"
   ]
  },
  {
   "cell_type": "code",
   "execution_count": 50,
   "metadata": {
    "run_control": {
     "frozen": false,
     "read_only": false
    }
   },
   "outputs": [],
   "source": [
    "new_list_ratio = [0.2, 0.3, 0.4, 0.1]\n",
    "o_reso.set_isotopic_ratio(compound='U', list_ratio=new_list_ratio)"
   ]
  },
  {
   "cell_type": "markdown",
   "metadata": {
    "run_control": {
     "frozen": false,
     "read_only": false
    }
   },
   "source": [
    "Using **set_isotopic_ratio**, the element *density* and *molar_mass* is automatically updated"
   ]
  },
  {
   "cell_type": "code",
   "execution_count": 51,
   "metadata": {
    "run_control": {
     "frozen": false,
     "read_only": false
    }
   },
   "outputs": [
    {
     "name": "stdout",
     "output_type": "stream",
     "text": [
      "{'CoAg': {'Ag': {'density': {'units': 'g/cm3', 'value': 10.5},\n",
      "                 'isotopes': {'density': {'units': 'g/cm3',\n",
      "                                          'value': [10.406250187729098,\n",
      "                                                    10.600899412431097]},\n",
      "                              'file_names': ['Ag-107.csv', 'Ag-109.csv'],\n",
      "                              'isotopic_ratio': [0.51839, 0.48161000000000004],\n",
      "                              'list': ['107-Ag', '109-Ag'],\n",
      "                              'mass': {'units': 'g/mol',\n",
      "                                       'value': [106.905093, 108.904756]}},\n",
      "                 'molar_mass': {'units': 'g/mol', 'value': 107.8682}},\n",
      "          'Co': {'density': {'units': 'g/cm3', 'value': 8.9},\n",
      "                 'isotopes': {'density': {'units': 'g/cm3',\n",
      "                                          'value': [8.749367803547068,\n",
      "                                                    8.900000030203689]},\n",
      "                              'file_names': ['Co-58.csv', 'Co-59.csv'],\n",
      "                              'isotopic_ratio': [0.0, 1.0],\n",
      "                              'list': ['58-Co', '59-Co'],\n",
      "                              'mass': {'units': 'g/mol',\n",
      "                                       'value': [57.9357576, 58.9332002]}},\n",
      "                 'molar_mass': {'units': 'g/mol', 'value': 58.9332}},\n",
      "          'atoms_per_cm3': {'Ag': 1.8051829472054791e+21,\n",
      "                            'Co': 1.8051829472054791e+21},\n",
      "          'density': {'units': 'g/cm3', 'value': 0.5},\n",
      "          'elements': ['Co', 'Ag'],\n",
      "          'stoichiometric_ratio': [1, 1],\n",
      "          'thickness': {'units': 'mm', 'value': 0.025}},\n",
      " 'U': {'U': {'density': {'units': 'g/cm3', 'value': 18.680428927650006},\n",
      "             'isotopes': {'density': {'units': 'g/cm3',\n",
      "                                      'value': [18.552792392319066,\n",
      "                                                18.632509467526443,\n",
      "                                                18.712358690988417,\n",
      "                                                18.951741325328925]},\n",
      "                          'file_names': ['U-233.csv',\n",
      "                                         'U-234.csv',\n",
      "                                         'U-235.csv',\n",
      "                                         'U-238.csv'],\n",
      "                          'isotopic_ratio': [0.2, 0.3, 0.4, 0.1],\n",
      "                          'list': ['233-U', '234-U', '235-U', '238-U'],\n",
      "                          'mass': {'units': 'g/mol',\n",
      "                                   'value': [233.039628,\n",
      "                                             234.0409456,\n",
      "                                             235.0439231,\n",
      "                                             238.0507826]}},\n",
      "             'molar_mass': {'units': 'g/mol', 'value': 234.64285678}},\n",
      "       'atoms_per_cm3': {'U': 4.7943575106128917e+22},\n",
      "       'density': {'units': 'g/cm3', 'value': 18.680428927650006},\n",
      "       'elements': ['U'],\n",
      "       'stoichiometric_ratio': [1],\n",
      "       'thickness': {'units': 'mm', 'value': 0.3}}}\n"
     ]
    }
   ],
   "source": [
    "pprint.pprint(o_reso.stack)"
   ]
  },
  {
   "cell_type": "markdown",
   "metadata": {
    "run_control": {
     "frozen": false,
     "read_only": false
    }
   },
   "source": [
    "### Define a new density "
   ]
  },
  {
   "cell_type": "markdown",
   "metadata": {
    "run_control": {
     "frozen": false,
     "read_only": false
    }
   },
   "source": [
    "First, let's check the densities already defined"
   ]
  },
  {
   "cell_type": "code",
   "execution_count": 52,
   "metadata": {
    "run_control": {
     "frozen": false,
     "read_only": false
    }
   },
   "outputs": [
    {
     "name": "stdout",
     "output_type": "stream",
     "text": [
      "{'CoAg': {'Ag': 10.5, 'Co': 8.9}, 'U': {'U': 18.680428927650006}}\n"
     ]
    }
   ],
   "source": [
    "pprint.pprint(o_reso.get_density())"
   ]
  },
  {
   "cell_type": "markdown",
   "metadata": {
    "collapsed": true,
    "run_control": {
     "frozen": false,
     "read_only": false
    }
   },
   "source": [
    "## Preview the Transmission and Attenuation signals "
   ]
  },
  {
   "cell_type": "markdown",
   "metadata": {
    "run_control": {
     "frozen": false,
     "read_only": false
    }
   },
   "source": [
    "Those arrays for each Compound, element and isotopes are calculated during initialization of the object, but also \n",
    "every time one of the parameters is modified, such as density, stochiometric coefficient.\n",
    "\n",
    "Those arrays are store in the **stack_signal** dictionary"
   ]
  },
  {
   "cell_type": "code",
   "execution_count": 55,
   "metadata": {
    "run_control": {
     "frozen": false,
     "read_only": false
    }
   },
   "outputs": [
    {
     "name": "stdout",
     "output_type": "stream",
     "text": [
      "{'CoAg': {'Ag': {'107-Ag': {'attenuation': array([  4.52575337e-03,   6.09275319e-05,   4.76168763e-05, ...,\n",
      "         9.66330244e-06,   9.64258842e-06,   9.62187440e-06]),\n",
      "                            'energy_eV': array([  1.00000000e-05,   9.99983261e-02,   1.99986652e-01, ...,\n",
      "         2.99665023e+02,   2.99765012e+02,   2.99865000e+02]),\n",
      "                            'transmission': array([ 0.99547425,  0.99993907,  0.99995238, ...,  0.99999034,\n",
      "        0.99999036,  0.99999038])},\n",
      "                 '109-Ag': {'attenuation': array([  9.75812634e-03,   1.06876612e-04,   7.98345793e-05, ...,\n",
      "         9.54797393e-06,   1.03948398e-05,   1.17638553e-05]),\n",
      "                            'energy_eV': array([  1.00000000e-05,   1.00041674e-01,   2.00073348e-01, ...,\n",
      "         2.99794937e+02,   2.99894968e+02,   2.99995000e+02]),\n",
      "                            'transmission': array([ 0.99024187,  0.99989312,  0.99992017, ...,  0.99999045,\n",
      "        0.99998961,  0.99998824])},\n",
      "                 'attenuation': array([  1.42397168e-02,   1.67797632e-04,   1.27447654e-04, ...,\n",
      "         1.92111841e-05,   2.00373280e-05,   2.13856165e-05]),\n",
      "                 'energy_eV': array([  1.00000000e-05,   1.00020000e-01,   2.00030000e-01, ...,\n",
      "         2.99729980e+02,   2.99829990e+02,   2.99930000e+02]),\n",
      "                 'transmission': array([ 0.98576028,  0.9998322 ,  0.99987255, ...,  0.99998079,\n",
      "        0.99997996,  0.99997861])},\n",
      "          'Co': {'58-Co': {'attenuation': array([ 0.,  0.,  0., ...,  0.,  0.,  0.]),\n",
      "                           'energy_eV': array([  1.00000000e-05,   9.99236345e-02,   1.99837269e-01, ...,\n",
      "         2.99441173e+02,   2.99541086e+02,   2.99641000e+02]),\n",
      "                           'transmission': array([ 1.,  1.,  1., ...,  1.,  1.,  1.])},\n",
      "                 '59-Co': {'attenuation': array([  8.60002015e-03,   1.11631121e-04,   8.68959082e-05, ...,\n",
      "         4.91256192e-05,   4.90944184e-05,   4.90632176e-05]),\n",
      "                           'energy_eV': array([  1.00000000e-05,   9.98102634e-02,   1.99610527e-01, ...,\n",
      "         2.99101399e+02,   2.99201200e+02,   2.99301000e+02]),\n",
      "                           'transmission': array([ 0.99139998,  0.99988837,  0.9999131 , ...,  0.99995087,\n",
      "        0.99995091,  0.99995094])},\n",
      "                 'attenuation': array([  8.60002015e-03,   1.11631121e-04,   8.68959082e-05, ...,\n",
      "         4.91256192e-05,   4.90944184e-05,   4.90632176e-05]),\n",
      "                 'energy_eV': array([  1.00000000e-05,   9.98669490e-02,   1.99723898e-01, ...,\n",
      "         2.99271286e+02,   2.99371143e+02,   2.99471000e+02]),\n",
      "                 'transmission': array([ 0.99139998,  0.99988837,  0.9999131 , ...,  0.99995087,\n",
      "        0.99995091,  0.99995094])},\n",
      "          'attenuation': array([  2.27172751e-02,   2.79410022e-04,   2.14332488e-04, ...,\n",
      "         6.83358595e-05,   6.91307626e-05,   7.04477848e-05]),\n",
      "          'energy_eV': array([  1.00000000e-05,   9.98669490e-02,   1.99723898e-01, ...,\n",
      "         2.99271286e+02,   2.99371143e+02,   2.99471000e+02]),\n",
      "          'transmission': array([ 0.97728272,  0.99972059,  0.99978567, ...,  0.99993166,\n",
      "        0.99993087,  0.99992955])},\n",
      " 'U': {'U': {'233-U': {'attenuation': array([ 0.99977043,  0.0824984 ,  0.06421139, ...,  0.01371264,\n",
      "        0.01302356,  0.01227109]),\n",
      "                       'energy_eV': array([  1.00000000e-05,   1.00035005e-01,   2.00060010e-01, ...,\n",
      "         2.99774950e+02,   2.99874975e+02,   2.99975000e+02]),\n",
      "                       'transmission': array([  2.29566190e-04,   9.17501603e-01,   9.35788606e-01, ...,\n",
      "         9.86287359e-01,   9.86976443e-01,   9.87728907e-01])},\n",
      "             '234-U': {'attenuation': array([ 0.89644352,  0.02747195,  0.02026928, ...,  0.00434923,\n",
      "        0.00433814,  0.00432706]),\n",
      "                       'energy_eV': array([  1.00000000e-05,   1.00010997e-01,   2.00011994e-01, ...,\n",
      "         2.99702998e+02,   2.99802999e+02,   2.99903000e+02]),\n",
      "                       'transmission': array([ 0.10355648,  0.97252805,  0.97973072, ...,  0.99565077,\n",
      "        0.99566186,  0.99567294])},\n",
      "             '235-U': {'attenuation': array([ 1.        ,  0.1667422 ,  0.12672542, ...,  0.00953484,\n",
      "        0.00965604,  0.00991887]),\n",
      "                       'energy_eV': array([  1.00000000e-05,   1.00040340e-01,   2.00070680e-01, ...,\n",
      "         2.99790939e+02,   2.99890970e+02,   2.99991000e+02]),\n",
      "                       'transmission': array([  6.77257405e-10,   8.33257801e-01,   8.73274582e-01, ...,\n",
      "         9.90465157e-01,   9.90343964e-01,   9.90081130e-01])},\n",
      "             '238-U': {'attenuation': array([ 0.02411176,  0.00152133,  0.00146272, ...,  0.00186986,\n",
      "        0.00186838,  0.0018669 ]),\n",
      "                       'energy_eV': array([  1.00000000e-05,   1.00040340e-01,   2.00070680e-01, ...,\n",
      "         2.99790939e+02,   2.99890970e+02,   2.99991000e+02]),\n",
      "                       'transmission': array([ 0.97588824,  0.99847867,  0.99853728, ...,  0.99813014,\n",
      "        0.99813162,  0.9981331 ])},\n",
      "             'attenuation': array([ 1.        ,  0.25761849,  0.20053477, ...,  0.02918412,\n",
      "        0.02861246,  0.02811763]),\n",
      "             'energy_eV': array([  1.00000000e-05,   1.00031671e-01,   2.00053341e-01, ...,\n",
      "         2.99764957e+02,   2.99864978e+02,   2.99965000e+02]),\n",
      "             'transmission': array([  1.57122746e-14,   7.42381510e-01,   7.99465233e-01, ...,\n",
      "         9.70815880e-01,   9.71387539e-01,   9.71882374e-01])},\n",
      "       'attenuation': array([ 1.        ,  0.25761849,  0.20053477, ...,  0.02918412,\n",
      "        0.02861246,  0.02811763]),\n",
      "       'energy_eV': array([  1.00000000e-05,   1.00031671e-01,   2.00053341e-01, ...,\n",
      "         2.99764957e+02,   2.99864978e+02,   2.99965000e+02]),\n",
      "       'transmission': array([  1.57122746e-14,   7.42381510e-01,   7.99465233e-01, ...,\n",
      "         9.70815880e-01,   9.71387539e-01,   9.71882374e-01])}}\n"
     ]
    }
   ],
   "source": [
    "pprint.pprint(o_reso.stack_signal)"
   ]
  },
  {
   "cell_type": "markdown",
   "metadata": {
    "collapsed": true,
    "run_control": {
     "frozen": false,
     "read_only": false
    }
   },
   "source": [
    "You can retrieve any of those arrays, **transmission**, **attenuation** and **Energy (eV) (x-axis)** arrays as followed "
   ]
  },
  {
   "cell_type": "markdown",
   "metadata": {
    "run_control": {
     "frozen": false,
     "read_only": false
    }
   },
   "source": [
    "for the compound *CoAg*"
   ]
  },
  {
   "cell_type": "code",
   "execution_count": 56,
   "metadata": {
    "run_control": {
     "frozen": false,
     "read_only": false
    }
   },
   "outputs": [],
   "source": [
    "transmission_CoAg = o_reso.stack_signal['CoAg']['transmission']\n",
    "energy_CoAg = o_reso.stack_signal['CoAg']['energy_eV']"
   ]
  },
  {
   "cell_type": "markdown",
   "metadata": {
    "run_control": {
     "frozen": false,
     "read_only": false
    }
   },
   "source": [
    "for the element *Ag*"
   ]
  },
  {
   "cell_type": "code",
   "execution_count": 57,
   "metadata": {
    "run_control": {
     "frozen": false,
     "read_only": false
    }
   },
   "outputs": [],
   "source": [
    "transmission_CoAg_Ag = o_reso.stack_signal['CoAg']['Ag']['transmission']\n",
    "energy_CoAg_Ag = o_reso.stack_signal['CoAg']['Ag']['energy_eV']"
   ]
  },
  {
   "cell_type": "markdown",
   "metadata": {
    "run_control": {
     "frozen": false,
     "read_only": false
    }
   },
   "source": [
    "or for the isotope *107-Ag*"
   ]
  },
  {
   "cell_type": "code",
   "execution_count": 58,
   "metadata": {
    "run_control": {
     "frozen": false,
     "read_only": false
    }
   },
   "outputs": [],
   "source": [
    "transmission_CoAg_Ag_107Ag = o_reso.stack_signal['CoAg']['Ag']['107-Ag']['transmission']\n",
    "energy_CoAg_Ag_107Ag = o_reso.stack_signal['CoAg']['Ag']['107-Ag']['energy_eV']"
   ]
  },
  {
   "cell_type": "markdown",
   "metadata": {
    "run_control": {
     "frozen": false,
     "read_only": false
    }
   },
   "source": [
    "# Display Transmission and Attenuation "
   ]
  },
  {
   "cell_type": "markdown",
   "metadata": {
    "run_control": {
     "frozen": false,
     "read_only": false
    }
   },
   "source": [
    "Here are the flags available for the final plot (in **bold**, the default values)\n",
    "\n",
    " - transmission: **True** or False. If False, the attenuation signal is plotted\n",
    " - x_axis: **'energy'** or 'lambda'\n",
    " - mixed: True or **False**. Display the total signal\n",
    " - all_layers: True or **False**. Dislay the signal of each compound/layer\n",
    " - all_elements: True or **False**. Display the signal of each element\n",
    " - all_isotopes: True or **False**. Display the signal of each isotope\n",
    " - items_to_plot: Array that defines what to plot. \n",
    " You need to define the path to the compound/element/isotope you want to see.\n",
    "   \n",
    "   example: \n",
    "   \n",
    "   if we want to display the Co element of the CoAg Compound\n",
    "       items_to_plot = [['CoAg','Co']]\n",
    "   if we want also to display the 107-Ag isotope of the element Al of compound CoAg\n",
    "       items_to_plot = [['CoAg', 'Co'],['CoAg','Ag','107-Ag']]\n",
    "       \n",
    "So here are a few examples of plot commands\n",
    "\n",
    "```\n",
    " >>> o_reso.plot(x_axis='lambda', all_layers=True)\n",
    " >>> o_reso.plot(transmission=False, items_to_plot= [['CoAg', 'Co'],['CoAg','Ag','107-Ag']])\n",
    " ```"
   ]
  },
  {
   "cell_type": "code",
   "execution_count": 59,
   "metadata": {
    "run_control": {
     "frozen": false,
     "read_only": false
    }
   },
   "outputs": [
    {
     "data": {
      "image/png": "[encoded data removed]",
      "text/plain": [
       "<matplotlib.figure.Figure at 0x11d8e9e10>"
      ]
     },
     "metadata": {},
     "output_type": "display_data"
    }
   ],
   "source": [
    "o_reso.plot(items_to_plot=[['CoAg','Co']])"
   ]
  },
  {
   "cell_type": "code",
   "execution_count": null,
   "metadata": {
    "run_control": {
     "frozen": false,
     "read_only": false
    }
   },
   "outputs": [],
   "source": []
  }
 ],
 "metadata": {
  "kernelspec": {
   "display_name": "Python 3",
   "language": "python",
   "name": "python3"
  },
  "language_info": {
   "codemirror_mode": {
    "name": "ipython",
    "version": 3
   },
   "file_extension": ".py",
   "mimetype": "text/x-python",
   "name": "python",
   "nbconvert_exporter": "python",
   "pygments_lexer": "ipython3",
   "version": "3.6.1"
  },
  "toc": {
   "colors": {
    "hover_highlight": "#DAA520",
    "running_highlight": "#FF0000",
    "selected_highlight": "#FFD700"
   },
   "moveMenuLeft": true,
   "nav_menu": {
    "height": "156px",
    "width": "252px"
   },
   "navigate_menu": true,
   "number_sections": true,
   "sideBar": true,
   "threshold": 4,
   "toc_cell": false,
   "toc_section_display": "block",
   "toc_window_display": false
  }
 },
 "nbformat": 4,
 "nbformat_minor": 2
}
