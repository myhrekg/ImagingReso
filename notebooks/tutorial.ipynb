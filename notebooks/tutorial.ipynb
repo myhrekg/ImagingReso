{
 "cells": [
  {
   "cell_type": "code",
   "execution_count": 1,
   "metadata": {
    "collapsed": true
   },
   "outputs": [],
   "source": [
    "import os\n",
    "import sys\n",
    "import re"
   ]
  },
  {
   "cell_type": "markdown",
   "metadata": {
    "run_control": {
     "frozen": false,
     "read_only": false
    }
   },
   "source": [
    "Add **ImagingReso** to python path"
   ]
  },
  {
   "cell_type": "code",
   "execution_count": 2,
   "metadata": {},
   "outputs": [],
   "source": [
    "root_folder = os.path.dirname(os.getcwd())\n",
    "sys.path.append(root_folder)\n",
    "import ImagingReso\n",
    "from ImagingReso.resonance import Resonance"
   ]
  },
  {
   "cell_type": "markdown",
   "metadata": {},
   "source": [
    "Let's define our input\n",
    "\n",
    "**layer1**\n",
    "  - compound **CoAg** of thickness **0.025mm**\n",
    "\n",
    "**layer2**\n",
    "  - compound **U** of thickness **0.3mm**\n",
    "\n",
    "**global paramters**\n",
    "  - min energy of **0 ev**\n",
    "  - max energy of **300 ev**"
   ]
  },
  {
   "cell_type": "code",
   "execution_count": 7,
   "metadata": {
    "collapsed": true
   },
   "outputs": [],
   "source": [
    "_energy_min = 0\n",
    "_energy_max = 300"
   ]
  },
  {
   "cell_type": "markdown",
   "metadata": {},
   "source": [
    "## Method 1"
   ]
  },
  {
   "cell_type": "code",
   "execution_count": 8,
   "metadata": {
    "collapsed": true
   },
   "outputs": [],
   "source": [
    "_stack = {'CoAg': {'elements': ['Co','Ag'],\n",
    "                   'ratio': [1,1],\n",
    "                   'thickness': 0.025},\n",
    "         'U': {'elements': ['U'],\n",
    "               'ratio': [1],\n",
    "              'thickness': 0.3}}"
   ]
  },
  {
   "cell_type": "code",
   "execution_count": 10,
   "metadata": {},
   "outputs": [
    {
     "name": "stdout",
     "output_type": "stream",
     "text": [
      "{'CoAg': {'elements': ['Co', 'Ag'], 'ratio': [1, 1], 'thickness': 0.025}, 'U': {'elements': ['U'], 'ratio': [1], 'thickness': 0.3}}\n"
     ]
    }
   ],
   "source": [
    "o_reso = Resonance(stack = _stack, energy_min=_energy_min, energy_max=_energy_max)\n",
    "print(o_reso.stack)"
   ]
  },
  {
   "cell_type": "markdown",
   "metadata": {},
   "source": [
    "## Method 2"
   ]
  },
  {
   "cell_type": "code",
   "execution_count": 11,
   "metadata": {
    "collapsed": true
   },
   "outputs": [],
   "source": [
    "_layer_1 = 'CoAg'\n",
    "_thickness_1 = 0.025\n",
    "\n",
    "_layer_2 = 'U'\n",
    "_thickness_2 = 0.3"
   ]
  },
  {
   "cell_type": "code",
   "execution_count": 13,
   "metadata": {},
   "outputs": [
    {
     "name": "stdout",
     "output_type": "stream",
     "text": [
      "{'CoAg': {'elements': ['Co', 'Ag'], 'ratio': [1, 1], 'thickness': 0.025}, 'U': {'elements': ['U'], 'ratio': [1], 'thickness': 0.3}}\n"
     ]
    }
   ],
   "source": [
    "o_reso = Resonance()\n",
    "o_reso.add_layer(formula=_layer_1, thickness=_thickness_1)\n",
    "o_reso.add_layer(formula=_layer_2, thickness=_thickness_2)\n",
    "print(o_reso.stack)"
   ]
  },
  {
   "cell_type": "code",
   "execution_count": null,
   "metadata": {
    "collapsed": true
   },
   "outputs": [],
   "source": []
  }
 ],
 "metadata": {
  "kernelspec": {
   "display_name": "Python 3",
   "language": "python",
   "name": "python3"
  },
  "language_info": {
   "codemirror_mode": {
    "name": "ipython",
    "version": 3
   },
   "file_extension": ".py",
   "mimetype": "text/x-python",
   "name": "python",
   "nbconvert_exporter": "python",
   "pygments_lexer": "ipython3",
   "version": "3.6.1"
  },
  "toc": {
   "colors": {
    "hover_highlight": "#DAA520",
    "running_highlight": "#FF0000",
    "selected_highlight": "#FFD700"
   },
   "moveMenuLeft": true,
   "nav_menu": {
    "height": "48px",
    "width": "252px"
   },
   "navigate_menu": true,
   "number_sections": true,
   "sideBar": true,
   "threshold": 4,
   "toc_cell": false,
   "toc_section_display": "block",
   "toc_window_display": false
  }
 },
 "nbformat": 4,
 "nbformat_minor": 2
}
