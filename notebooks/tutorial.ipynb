{
 "cells": [
  {
   "cell_type": "code",
   "execution_count": 23,
   "metadata": {
    "collapsed": true
   },
   "outputs": [],
   "source": [
    "import os\n",
    "import sys\n",
    "import re"
   ]
  },
  {
   "cell_type": "markdown",
   "metadata": {
    "run_control": {
     "frozen": false,
     "read_only": false
    }
   },
   "source": [
    "Add **ImagingReso** to python path"
   ]
  },
  {
   "cell_type": "code",
   "execution_count": 11,
   "metadata": {},
   "outputs": [],
   "source": [
    "root_folder = os.path.dirname(os.getcwd())\n",
    "sys.path.append(root_folder)\n",
    "import ImagingReso\n",
    "from ImagingReso.resonance import Resonance"
   ]
  },
  {
   "cell_type": "markdown",
   "metadata": {},
   "source": [
    "Let's define our input\n",
    "\n",
    "  - compound **CoAg** of thickness **0.025mm**\n",
    "  - min energy of **0 ev**\n",
    "  - max energy of **300 ev**"
   ]
  },
  {
   "cell_type": "code",
   "execution_count": 31,
   "metadata": {
    "collapsed": true
   },
   "outputs": [],
   "source": [
    "_stack = {'CoAg': {'elements': ['Co','Ag'],\n",
    "                   'thickness': 0.025}}\n",
    "_energy_min = 0\n",
    "_energy_max = 300"
   ]
  },
  {
   "cell_type": "code",
   "execution_count": 19,
   "metadata": {},
   "outputs": [],
   "source": [
    "o_reso = Resonance(stack = _stack, energy_min=_energy_min, energy_max=_energy_max)"
   ]
  },
  {
   "cell_type": "code",
   "execution_count": 20,
   "metadata": {
    "collapsed": true
   },
   "outputs": [],
   "source": []
  },
  {
   "cell_type": "code",
   "execution_count": 34,
   "metadata": {
    "collapsed": true
   },
   "outputs": [],
   "source": [
    "def formula_to_dictionary(formula='', database='ENDF_VIII'):\n",
    "    '''create dictionary based on formula given\n",
    "    \n",
    "    Parameters:\n",
    "    ===========\n",
    "    formula: string\n",
    "       ex: 'AgCo2'\n",
    "       ex: 'Ag'\n",
    "    database: string (default is ENDV_VIII). Database where to look for elements\n",
    "    \n",
    "    Raises:\n",
    "    =======\n",
    "    ValueError if one of the element is missing from the database\n",
    "    \n",
    "    Return:\n",
    "    =======\n",
    "    the dictionary of the elements passed\n",
    "      ex: {'AgCo2': {'elements': ['Ag','Co'],\n",
    "                     'ratio': [1,2],\n",
    "                     'thickness': np.NaN}}\n",
    "    '''\n",
    "    _formula_parsed = re.findall(r'([A-Z][a-z]*)(\\d*)', formula)\n",
    "\n",
    "    _dictionary = {}\n",
    "    _elements_array = []\n",
    "    _ratio_array = []\n",
    "    for _element in _formula_parsed:\n",
    "        [_single_element, _ratio] = list(_element)\n",
    "        if _ratio == '':\n",
    "            _ratio = 1\n",
    "        _ratio_array.append(int(_ratio))\n",
    "        _elements_array.append(_single_element)\n",
    "\n",
    "    return {formula: {'elements': _elements_array,\n",
    "                      'ratio': _ratio_array,\n",
    "                      'thickness': np.NaN}}\n"
   ]
  },
  {
   "cell_type": "code",
   "execution_count": 36,
   "metadata": {},
   "outputs": [],
   "source": [
    "_formula = 'Ag2CoSi'\n",
    "_return = formula_to_dictionary(formula=_formula)"
   ]
  },
  {
   "cell_type": "code",
   "execution_count": 43,
   "metadata": {},
   "outputs": [
    {
     "data": {
      "text/plain": [
       "'Ag2CoSi'"
      ]
     },
     "execution_count": 43,
     "metadata": {},
     "output_type": "execute_result"
    }
   ],
   "source": [
    "list(_return.keys())[0]"
   ]
  },
  {
   "cell_type": "code",
   "execution_count": 44,
   "metadata": {},
   "outputs": [
    {
     "data": {
      "text/plain": [
       "{'elements': ['Ag', 'Co', 'Si'], 'ratio': [2, 1, 1], 'thickness': nan}"
      ]
     },
     "execution_count": 44,
     "metadata": {},
     "output_type": "execute_result"
    }
   ],
   "source": [
    "_return['Ag2CoSi']"
   ]
  },
  {
   "cell_type": "code",
   "execution_count": null,
   "metadata": {
    "collapsed": true
   },
   "outputs": [],
   "source": []
  }
 ],
 "metadata": {
  "kernelspec": {
   "display_name": "Python 3",
   "language": "python",
   "name": "python3"
  },
  "language_info": {
   "codemirror_mode": {
    "name": "ipython",
    "version": 3
   },
   "file_extension": ".py",
   "mimetype": "text/x-python",
   "name": "python",
   "nbconvert_exporter": "python",
   "pygments_lexer": "ipython3",
   "version": "3.6.1"
  },
  "toc": {
   "colors": {
    "hover_highlight": "#DAA520",
    "running_highlight": "#FF0000",
    "selected_highlight": "#FFD700"
   },
   "moveMenuLeft": true,
   "nav_menu": {
    "height": "12px",
    "width": "252px"
   },
   "navigate_menu": true,
   "number_sections": true,
   "sideBar": true,
   "threshold": 4,
   "toc_cell": false,
   "toc_section_display": "block",
   "toc_window_display": false
  }
 },
 "nbformat": 4,
 "nbformat_minor": 2
}
